{
  "nbformat": 4,
  "nbformat_minor": 0,
  "metadata": {
    "colab": {
      "name": "retail_analysis.ipynb",
      "provenance": [],
      "collapsed_sections": [],
      "mount_file_id": "1KtFbiMdQ397t3f8Ms4O-fRQBXztJnYry",
      "authorship_tag": "ABX9TyN5xSlSd9ZtLbmwC9GQlx6N",
      "include_colab_link": true
    },
    "kernelspec": {
      "name": "python3",
      "display_name": "Python 3"
    },
    "language_info": {
      "name": "python"
    }
  },
  "cells": [
    {
      "cell_type": "markdown",
      "metadata": {
        "id": "view-in-github",
        "colab_type": "text"
      },
      "source": [
        "<a href=\"https://colab.research.google.com/github/MichaelR-DS/Retail_Customer_Segmentation/blob/main/retail_analysis.ipynb\" target=\"_parent\"><img src=\"https://colab.research.google.com/assets/colab-badge.svg\" alt=\"Open In Colab\"/></a>"
      ]
    },
    {
      "cell_type": "code",
      "metadata": {
        "id": "KuiEnYkDPnpG"
      },
      "source": [
        "import pandas as pd\n",
        "import numpy as np\n",
        "\n",
        "%matplotlib inline"
      ],
      "execution_count": 102,
      "outputs": []
    },
    {
      "cell_type": "code",
      "metadata": {
        "id": "C5z2KW_GU4SI",
        "colab": {
          "base_uri": "https://localhost:8080/"
        },
        "outputId": "ea167b73-a1a2-4dbf-ff7b-233701ee1235"
      },
      "source": [
        "from google.colab import drive\n",
        "drive.mount('/content/drive')"
      ],
      "execution_count": 103,
      "outputs": [
        {
          "output_type": "stream",
          "text": [
            "Drive already mounted at /content/drive; to attempt to forcibly remount, call drive.mount(\"/content/drive\", force_remount=True).\n"
          ],
          "name": "stdout"
        }
      ]
    },
    {
      "cell_type": "code",
      "metadata": {
        "id": "QT3RegUBIQd3"
      },
      "source": [
        "df = pd.read_csv('/content/drive/MyDrive/online_retail_data_analysis/retail_data_clean.csv', index_col=[0])"
      ],
      "execution_count": 104,
      "outputs": []
    },
    {
      "cell_type": "code",
      "metadata": {
        "id": "-1goUDQnRaNw",
        "colab": {
          "base_uri": "https://localhost:8080/",
          "height": 206
        },
        "outputId": "0827be39-bfb7-4837-dba8-010948212cfd"
      },
      "source": [
        "df['TotalSpent'] = df['Quantity']*df['UnitPrice']\n",
        "df.head()"
      ],
      "execution_count": 105,
      "outputs": [
        {
          "output_type": "execute_result",
          "data": {
            "text/html": [
              "<div>\n",
              "<style scoped>\n",
              "    .dataframe tbody tr th:only-of-type {\n",
              "        vertical-align: middle;\n",
              "    }\n",
              "\n",
              "    .dataframe tbody tr th {\n",
              "        vertical-align: top;\n",
              "    }\n",
              "\n",
              "    .dataframe thead th {\n",
              "        text-align: right;\n",
              "    }\n",
              "</style>\n",
              "<table border=\"1\" class=\"dataframe\">\n",
              "  <thead>\n",
              "    <tr style=\"text-align: right;\">\n",
              "      <th></th>\n",
              "      <th>InvoiceNo</th>\n",
              "      <th>StockCode</th>\n",
              "      <th>Description</th>\n",
              "      <th>Quantity</th>\n",
              "      <th>InvoiceDate</th>\n",
              "      <th>UnitPrice</th>\n",
              "      <th>CustomerID</th>\n",
              "      <th>Country</th>\n",
              "      <th>TotalSpent</th>\n",
              "    </tr>\n",
              "  </thead>\n",
              "  <tbody>\n",
              "    <tr>\n",
              "      <th>0</th>\n",
              "      <td>536365</td>\n",
              "      <td>85123A</td>\n",
              "      <td>WHITE HANGING HEART T-LIGHT HOLDER</td>\n",
              "      <td>6</td>\n",
              "      <td>2010-12-01 08:26:00</td>\n",
              "      <td>2.55</td>\n",
              "      <td>17850.0</td>\n",
              "      <td>United Kingdom</td>\n",
              "      <td>15.30</td>\n",
              "    </tr>\n",
              "    <tr>\n",
              "      <th>1</th>\n",
              "      <td>536365</td>\n",
              "      <td>71053</td>\n",
              "      <td>WHITE METAL LANTERN</td>\n",
              "      <td>6</td>\n",
              "      <td>2010-12-01 08:26:00</td>\n",
              "      <td>3.39</td>\n",
              "      <td>17850.0</td>\n",
              "      <td>United Kingdom</td>\n",
              "      <td>20.34</td>\n",
              "    </tr>\n",
              "    <tr>\n",
              "      <th>2</th>\n",
              "      <td>536365</td>\n",
              "      <td>84406B</td>\n",
              "      <td>CREAM CUPID HEARTS COAT HANGER</td>\n",
              "      <td>8</td>\n",
              "      <td>2010-12-01 08:26:00</td>\n",
              "      <td>2.75</td>\n",
              "      <td>17850.0</td>\n",
              "      <td>United Kingdom</td>\n",
              "      <td>22.00</td>\n",
              "    </tr>\n",
              "    <tr>\n",
              "      <th>3</th>\n",
              "      <td>536365</td>\n",
              "      <td>84029G</td>\n",
              "      <td>KNITTED UNION FLAG HOT WATER BOTTLE</td>\n",
              "      <td>6</td>\n",
              "      <td>2010-12-01 08:26:00</td>\n",
              "      <td>3.39</td>\n",
              "      <td>17850.0</td>\n",
              "      <td>United Kingdom</td>\n",
              "      <td>20.34</td>\n",
              "    </tr>\n",
              "    <tr>\n",
              "      <th>4</th>\n",
              "      <td>536365</td>\n",
              "      <td>84029E</td>\n",
              "      <td>RED WOOLLY HOTTIE WHITE HEART.</td>\n",
              "      <td>6</td>\n",
              "      <td>2010-12-01 08:26:00</td>\n",
              "      <td>3.39</td>\n",
              "      <td>17850.0</td>\n",
              "      <td>United Kingdom</td>\n",
              "      <td>20.34</td>\n",
              "    </tr>\n",
              "  </tbody>\n",
              "</table>\n",
              "</div>"
            ],
            "text/plain": [
              "   InvoiceNo StockCode  ...         Country  TotalSpent\n",
              "0     536365    85123A  ...  United Kingdom       15.30\n",
              "1     536365     71053  ...  United Kingdom       20.34\n",
              "2     536365    84406B  ...  United Kingdom       22.00\n",
              "3     536365    84029G  ...  United Kingdom       20.34\n",
              "4     536365    84029E  ...  United Kingdom       20.34\n",
              "\n",
              "[5 rows x 9 columns]"
            ]
          },
          "metadata": {
            "tags": []
          },
          "execution_count": 105
        }
      ]
    },
    {
      "cell_type": "code",
      "metadata": {
        "id": "vSY63rqEcEeK",
        "colab": {
          "base_uri": "https://localhost:8080/"
        },
        "outputId": "d1e77e81-6a41-4aac-d565-ef39225d8d2c"
      },
      "source": [
        "df['InvoiceNo'].astype('string').str[0].isin(['C', 'c']).any() #No cancellations"
      ],
      "execution_count": 106,
      "outputs": [
        {
          "output_type": "execute_result",
          "data": {
            "text/plain": [
              "False"
            ]
          },
          "metadata": {
            "tags": []
          },
          "execution_count": 106
        }
      ]
    },
    {
      "cell_type": "code",
      "metadata": {
        "id": "e6tRuQ9ve4AH",
        "colab": {
          "base_uri": "https://localhost:8080/",
          "height": 300
        },
        "outputId": "76b51120-dbeb-45c1-b92c-085f80b40063"
      },
      "source": [
        "df[['Quantity', 'TotalSpent']].describe()"
      ],
      "execution_count": 107,
      "outputs": [
        {
          "output_type": "execute_result",
          "data": {
            "text/html": [
              "<div>\n",
              "<style scoped>\n",
              "    .dataframe tbody tr th:only-of-type {\n",
              "        vertical-align: middle;\n",
              "    }\n",
              "\n",
              "    .dataframe tbody tr th {\n",
              "        vertical-align: top;\n",
              "    }\n",
              "\n",
              "    .dataframe thead th {\n",
              "        text-align: right;\n",
              "    }\n",
              "</style>\n",
              "<table border=\"1\" class=\"dataframe\">\n",
              "  <thead>\n",
              "    <tr style=\"text-align: right;\">\n",
              "      <th></th>\n",
              "      <th>Quantity</th>\n",
              "      <th>TotalSpent</th>\n",
              "    </tr>\n",
              "  </thead>\n",
              "  <tbody>\n",
              "    <tr>\n",
              "      <th>count</th>\n",
              "      <td>397884.000000</td>\n",
              "      <td>397884.000000</td>\n",
              "    </tr>\n",
              "    <tr>\n",
              "      <th>mean</th>\n",
              "      <td>12.988238</td>\n",
              "      <td>22.397000</td>\n",
              "    </tr>\n",
              "    <tr>\n",
              "      <th>std</th>\n",
              "      <td>179.331775</td>\n",
              "      <td>309.071041</td>\n",
              "    </tr>\n",
              "    <tr>\n",
              "      <th>min</th>\n",
              "      <td>1.000000</td>\n",
              "      <td>0.001000</td>\n",
              "    </tr>\n",
              "    <tr>\n",
              "      <th>25%</th>\n",
              "      <td>2.000000</td>\n",
              "      <td>4.680000</td>\n",
              "    </tr>\n",
              "    <tr>\n",
              "      <th>50%</th>\n",
              "      <td>6.000000</td>\n",
              "      <td>11.800000</td>\n",
              "    </tr>\n",
              "    <tr>\n",
              "      <th>75%</th>\n",
              "      <td>12.000000</td>\n",
              "      <td>19.800000</td>\n",
              "    </tr>\n",
              "    <tr>\n",
              "      <th>max</th>\n",
              "      <td>80995.000000</td>\n",
              "      <td>168469.600000</td>\n",
              "    </tr>\n",
              "  </tbody>\n",
              "</table>\n",
              "</div>"
            ],
            "text/plain": [
              "            Quantity     TotalSpent\n",
              "count  397884.000000  397884.000000\n",
              "mean       12.988238      22.397000\n",
              "std       179.331775     309.071041\n",
              "min         1.000000       0.001000\n",
              "25%         2.000000       4.680000\n",
              "50%         6.000000      11.800000\n",
              "75%        12.000000      19.800000\n",
              "max     80995.000000  168469.600000"
            ]
          },
          "metadata": {
            "tags": []
          },
          "execution_count": 107
        }
      ]
    },
    {
      "cell_type": "code",
      "metadata": {
        "id": "gqww1iIt9SDx",
        "colab": {
          "base_uri": "https://localhost:8080/"
        },
        "outputId": "6ebebe7b-c898-49a4-b78e-afab0930943a"
      },
      "source": [
        "df['InvoiceDate'].unique() #Timeseries of number of sales"
      ],
      "execution_count": 108,
      "outputs": [
        {
          "output_type": "execute_result",
          "data": {
            "text/plain": [
              "array(['2010-12-01 08:26:00', '2010-12-01 08:28:00',\n",
              "       '2010-12-01 08:34:00', ..., '2011-12-09 12:31:00',\n",
              "       '2011-12-09 12:49:00', '2011-12-09 12:50:00'], dtype=object)"
            ]
          },
          "metadata": {
            "tags": []
          },
          "execution_count": 108
        }
      ]
    },
    {
      "cell_type": "code",
      "metadata": {
        "id": "1XAW1HolQIuv",
        "colab": {
          "base_uri": "https://localhost:8080/",
          "height": 1000
        },
        "outputId": "df8a3682-639a-4f03-d36c-c3ecbbf301fd"
      },
      "source": [
        "!pip install pycountry\n",
        "import pycountry #converts country names to country codes demanded by choropleth\n",
        "\n",
        "df['Country'] = df['Country'].replace({'EIRE':'Ireland', 'Channel Islands':'United Kingdom', 'RSA':'South Africa'})\n",
        "\n",
        "spent_by_country = df.groupby(by='Country').sum()[['TotalSpent']]\n",
        "spent_by_country.drop(['European Community', 'Unspecified'], axis=0, inplace=True)\n",
        "\n",
        "country_list = spent_by_country.index\n",
        "\n",
        "#getting country codes\n",
        "countries = {}\n",
        "for country in pycountry.countries:\n",
        "    countries[country.name] = country.alpha_3\n",
        "codes = [countries.get(country, 'Unknown') for country in country_list]\n",
        "codes[7] = 'CZE'\n",
        "codes[31] = 'USA'\n",
        "\n",
        "spent_by_country['CountryCode'] = codes\n",
        "spent_by_country.reset_index(level=0, inplace=True)\n",
        "spent_by_country.sort_values(by='TotalSpent', ascending=False)"
      ],
      "execution_count": 109,
      "outputs": [
        {
          "output_type": "stream",
          "text": [
            "Requirement already satisfied: pycountry in /usr/local/lib/python3.7/dist-packages (20.7.3)\n"
          ],
          "name": "stdout"
        },
        {
          "output_type": "execute_result",
          "data": {
            "text/html": [
              "<div>\n",
              "<style scoped>\n",
              "    .dataframe tbody tr th:only-of-type {\n",
              "        vertical-align: middle;\n",
              "    }\n",
              "\n",
              "    .dataframe tbody tr th {\n",
              "        vertical-align: top;\n",
              "    }\n",
              "\n",
              "    .dataframe thead th {\n",
              "        text-align: right;\n",
              "    }\n",
              "</style>\n",
              "<table border=\"1\" class=\"dataframe\">\n",
              "  <thead>\n",
              "    <tr style=\"text-align: right;\">\n",
              "      <th></th>\n",
              "      <th>Country</th>\n",
              "      <th>TotalSpent</th>\n",
              "      <th>CountryCode</th>\n",
              "    </tr>\n",
              "  </thead>\n",
              "  <tbody>\n",
              "    <tr>\n",
              "      <th>33</th>\n",
              "      <td>United Kingdom</td>\n",
              "      <td>7.328842e+06</td>\n",
              "      <td>GBR</td>\n",
              "    </tr>\n",
              "    <tr>\n",
              "      <th>21</th>\n",
              "      <td>Netherlands</td>\n",
              "      <td>2.854463e+05</td>\n",
              "      <td>NLD</td>\n",
              "    </tr>\n",
              "    <tr>\n",
              "      <th>14</th>\n",
              "      <td>Ireland</td>\n",
              "      <td>2.655459e+05</td>\n",
              "      <td>IRL</td>\n",
              "    </tr>\n",
              "    <tr>\n",
              "      <th>11</th>\n",
              "      <td>Germany</td>\n",
              "      <td>2.288671e+05</td>\n",
              "      <td>DEU</td>\n",
              "    </tr>\n",
              "    <tr>\n",
              "      <th>10</th>\n",
              "      <td>France</td>\n",
              "      <td>2.090240e+05</td>\n",
              "      <td>FRA</td>\n",
              "    </tr>\n",
              "    <tr>\n",
              "      <th>0</th>\n",
              "      <td>Australia</td>\n",
              "      <td>1.385213e+05</td>\n",
              "      <td>AUS</td>\n",
              "    </tr>\n",
              "    <tr>\n",
              "      <th>28</th>\n",
              "      <td>Spain</td>\n",
              "      <td>6.157711e+04</td>\n",
              "      <td>ESP</td>\n",
              "    </tr>\n",
              "    <tr>\n",
              "      <th>30</th>\n",
              "      <td>Switzerland</td>\n",
              "      <td>5.644395e+04</td>\n",
              "      <td>CHE</td>\n",
              "    </tr>\n",
              "    <tr>\n",
              "      <th>3</th>\n",
              "      <td>Belgium</td>\n",
              "      <td>4.119634e+04</td>\n",
              "      <td>BEL</td>\n",
              "    </tr>\n",
              "    <tr>\n",
              "      <th>29</th>\n",
              "      <td>Sweden</td>\n",
              "      <td>3.837833e+04</td>\n",
              "      <td>SWE</td>\n",
              "    </tr>\n",
              "    <tr>\n",
              "      <th>17</th>\n",
              "      <td>Japan</td>\n",
              "      <td>3.741637e+04</td>\n",
              "      <td>JPN</td>\n",
              "    </tr>\n",
              "    <tr>\n",
              "      <th>22</th>\n",
              "      <td>Norway</td>\n",
              "      <td>3.616544e+04</td>\n",
              "      <td>NOR</td>\n",
              "    </tr>\n",
              "    <tr>\n",
              "      <th>24</th>\n",
              "      <td>Portugal</td>\n",
              "      <td>3.343989e+04</td>\n",
              "      <td>PRT</td>\n",
              "    </tr>\n",
              "    <tr>\n",
              "      <th>9</th>\n",
              "      <td>Finland</td>\n",
              "      <td>2.254608e+04</td>\n",
              "      <td>FIN</td>\n",
              "    </tr>\n",
              "    <tr>\n",
              "      <th>26</th>\n",
              "      <td>Singapore</td>\n",
              "      <td>2.127929e+04</td>\n",
              "      <td>SGP</td>\n",
              "    </tr>\n",
              "    <tr>\n",
              "      <th>8</th>\n",
              "      <td>Denmark</td>\n",
              "      <td>1.895534e+04</td>\n",
              "      <td>DNK</td>\n",
              "    </tr>\n",
              "    <tr>\n",
              "      <th>16</th>\n",
              "      <td>Italy</td>\n",
              "      <td>1.748324e+04</td>\n",
              "      <td>ITA</td>\n",
              "    </tr>\n",
              "    <tr>\n",
              "      <th>6</th>\n",
              "      <td>Cyprus</td>\n",
              "      <td>1.359038e+04</td>\n",
              "      <td>CYP</td>\n",
              "    </tr>\n",
              "    <tr>\n",
              "      <th>1</th>\n",
              "      <td>Austria</td>\n",
              "      <td>1.019868e+04</td>\n",
              "      <td>AUT</td>\n",
              "    </tr>\n",
              "    <tr>\n",
              "      <th>23</th>\n",
              "      <td>Poland</td>\n",
              "      <td>7.334650e+03</td>\n",
              "      <td>POL</td>\n",
              "    </tr>\n",
              "    <tr>\n",
              "      <th>15</th>\n",
              "      <td>Israel</td>\n",
              "      <td>7.221690e+03</td>\n",
              "      <td>ISR</td>\n",
              "    </tr>\n",
              "    <tr>\n",
              "      <th>12</th>\n",
              "      <td>Greece</td>\n",
              "      <td>4.760520e+03</td>\n",
              "      <td>GRC</td>\n",
              "    </tr>\n",
              "    <tr>\n",
              "      <th>13</th>\n",
              "      <td>Iceland</td>\n",
              "      <td>4.310000e+03</td>\n",
              "      <td>ISL</td>\n",
              "    </tr>\n",
              "    <tr>\n",
              "      <th>5</th>\n",
              "      <td>Canada</td>\n",
              "      <td>3.666380e+03</td>\n",
              "      <td>CAN</td>\n",
              "    </tr>\n",
              "    <tr>\n",
              "      <th>31</th>\n",
              "      <td>USA</td>\n",
              "      <td>3.580390e+03</td>\n",
              "      <td>USA</td>\n",
              "    </tr>\n",
              "    <tr>\n",
              "      <th>20</th>\n",
              "      <td>Malta</td>\n",
              "      <td>2.725590e+03</td>\n",
              "      <td>MLT</td>\n",
              "    </tr>\n",
              "    <tr>\n",
              "      <th>32</th>\n",
              "      <td>United Arab Emirates</td>\n",
              "      <td>1.902280e+03</td>\n",
              "      <td>ARE</td>\n",
              "    </tr>\n",
              "    <tr>\n",
              "      <th>18</th>\n",
              "      <td>Lebanon</td>\n",
              "      <td>1.693880e+03</td>\n",
              "      <td>LBN</td>\n",
              "    </tr>\n",
              "    <tr>\n",
              "      <th>19</th>\n",
              "      <td>Lithuania</td>\n",
              "      <td>1.661060e+03</td>\n",
              "      <td>LTU</td>\n",
              "    </tr>\n",
              "    <tr>\n",
              "      <th>4</th>\n",
              "      <td>Brazil</td>\n",
              "      <td>1.143600e+03</td>\n",
              "      <td>BRA</td>\n",
              "    </tr>\n",
              "    <tr>\n",
              "      <th>27</th>\n",
              "      <td>South Africa</td>\n",
              "      <td>1.002310e+03</td>\n",
              "      <td>ZAF</td>\n",
              "    </tr>\n",
              "    <tr>\n",
              "      <th>7</th>\n",
              "      <td>Czech Republic</td>\n",
              "      <td>8.267400e+02</td>\n",
              "      <td>CZE</td>\n",
              "    </tr>\n",
              "    <tr>\n",
              "      <th>2</th>\n",
              "      <td>Bahrain</td>\n",
              "      <td>5.484000e+02</td>\n",
              "      <td>BHR</td>\n",
              "    </tr>\n",
              "    <tr>\n",
              "      <th>25</th>\n",
              "      <td>Saudi Arabia</td>\n",
              "      <td>1.459200e+02</td>\n",
              "      <td>SAU</td>\n",
              "    </tr>\n",
              "  </tbody>\n",
              "</table>\n",
              "</div>"
            ],
            "text/plain": [
              "                 Country    TotalSpent CountryCode\n",
              "33        United Kingdom  7.328842e+06         GBR\n",
              "21           Netherlands  2.854463e+05         NLD\n",
              "14               Ireland  2.655459e+05         IRL\n",
              "11               Germany  2.288671e+05         DEU\n",
              "10                France  2.090240e+05         FRA\n",
              "0              Australia  1.385213e+05         AUS\n",
              "28                 Spain  6.157711e+04         ESP\n",
              "30           Switzerland  5.644395e+04         CHE\n",
              "3                Belgium  4.119634e+04         BEL\n",
              "29                Sweden  3.837833e+04         SWE\n",
              "17                 Japan  3.741637e+04         JPN\n",
              "22                Norway  3.616544e+04         NOR\n",
              "24              Portugal  3.343989e+04         PRT\n",
              "9                Finland  2.254608e+04         FIN\n",
              "26             Singapore  2.127929e+04         SGP\n",
              "8                Denmark  1.895534e+04         DNK\n",
              "16                 Italy  1.748324e+04         ITA\n",
              "6                 Cyprus  1.359038e+04         CYP\n",
              "1                Austria  1.019868e+04         AUT\n",
              "23                Poland  7.334650e+03         POL\n",
              "15                Israel  7.221690e+03         ISR\n",
              "12                Greece  4.760520e+03         GRC\n",
              "13               Iceland  4.310000e+03         ISL\n",
              "5                 Canada  3.666380e+03         CAN\n",
              "31                   USA  3.580390e+03         USA\n",
              "20                 Malta  2.725590e+03         MLT\n",
              "32  United Arab Emirates  1.902280e+03         ARE\n",
              "18               Lebanon  1.693880e+03         LBN\n",
              "19             Lithuania  1.661060e+03         LTU\n",
              "4                 Brazil  1.143600e+03         BRA\n",
              "27          South Africa  1.002310e+03         ZAF\n",
              "7         Czech Republic  8.267400e+02         CZE\n",
              "2                Bahrain  5.484000e+02         BHR\n",
              "25          Saudi Arabia  1.459200e+02         SAU"
            ]
          },
          "metadata": {
            "tags": []
          },
          "execution_count": 109
        }
      ]
    },
    {
      "cell_type": "code",
      "metadata": {
        "id": "3ZxxIMMEmqK_",
        "colab": {
          "base_uri": "https://localhost:8080/"
        },
        "outputId": "d7284068-4605-4253-d21b-f29b6dcf9068"
      },
      "source": [
        "country_list"
      ],
      "execution_count": 110,
      "outputs": [
        {
          "output_type": "execute_result",
          "data": {
            "text/plain": [
              "Index(['Australia', 'Austria', 'Bahrain', 'Belgium', 'Brazil', 'Canada',\n",
              "       'Cyprus', 'Czech Republic', 'Denmark', 'Finland', 'France', 'Germany',\n",
              "       'Greece', 'Iceland', 'Ireland', 'Israel', 'Italy', 'Japan', 'Lebanon',\n",
              "       'Lithuania', 'Malta', 'Netherlands', 'Norway', 'Poland', 'Portugal',\n",
              "       'Saudi Arabia', 'Singapore', 'South Africa', 'Spain', 'Sweden',\n",
              "       'Switzerland', 'USA', 'United Arab Emirates', 'United Kingdom'],\n",
              "      dtype='object', name='Country')"
            ]
          },
          "metadata": {
            "tags": []
          },
          "execution_count": 110
        }
      ]
    },
    {
      "cell_type": "code",
      "metadata": {
        "id": "RXddc9bGJsIH",
        "colab": {
          "base_uri": "https://localhost:8080/"
        },
        "outputId": "59e2751b-930d-452f-b473-cb3bd3aea675"
      },
      "source": [
        "print('UK sales account for around {}% of the total amount spent on the store'.format(spent_by_country['TotalSpent'][33]/spent_by_country['TotalSpent'].sum()))"
      ],
      "execution_count": 111,
      "outputs": [
        {
          "output_type": "stream",
          "text": [
            "UK sales account for around 0.8227775335560462% of the total amount spent on the store\n"
          ],
          "name": "stdout"
        }
      ]
    },
    {
      "cell_type": "code",
      "metadata": {
        "id": "MiAXMa_KT2A9",
        "colab": {
          "base_uri": "https://localhost:8080/",
          "height": 542
        },
        "outputId": "29ecb14e-92af-44f6-b7af-ec9c0b76e5e9"
      },
      "source": [
        "#Proportionate amount spent by customers of each country\n",
        "\n",
        "import plotly.graph_objects as go\n",
        "\n",
        "fig = go.Figure()\n",
        "\n",
        "fig.add_choropleth(locations=spent_by_country['CountryCode'],\n",
        "                   z=np.log10(spent_by_country['TotalSpent']),\n",
        "                   text=spent_by_country['Country'],\n",
        "                   colorscale='cividis',\n",
        "                   autocolorscale=False,\n",
        "                   reversescale=False)\n",
        "fig.show()"
      ],
      "execution_count": 112,
      "outputs": [
        {
          "output_type": "display_data",
          "data": {
            "text/html": [
              "<html>\n",
              "<head><meta charset=\"utf-8\" /></head>\n",
              "<body>\n",
              "    <div>\n",
              "            <script src=\"https://cdnjs.cloudflare.com/ajax/libs/mathjax/2.7.5/MathJax.js?config=TeX-AMS-MML_SVG\"></script><script type=\"text/javascript\">if (window.MathJax) {MathJax.Hub.Config({SVG: {font: \"STIX-Web\"}});}</script>\n",
              "                <script type=\"text/javascript\">window.PlotlyConfig = {MathJaxConfig: 'local'};</script>\n",
              "        <script src=\"https://cdn.plot.ly/plotly-latest.min.js\"></script>    \n",
              "            <div id=\"6bd38dd6-9fd2-4e62-a7fd-5835f7d7fd0b\" class=\"plotly-graph-div\" style=\"height:525px; width:100%;\"></div>\n",
              "            <script type=\"text/javascript\">\n",
              "                \n",
              "                    window.PLOTLYENV=window.PLOTLYENV || {};\n",
              "                    \n",
              "                if (document.getElementById(\"6bd38dd6-9fd2-4e62-a7fd-5835f7d7fd0b\")) {\n",
              "                    Plotly.newPlot(\n",
              "                        '6bd38dd6-9fd2-4e62-a7fd-5835f7d7fd0b',\n",
              "                        [{\"autocolorscale\": false, \"colorscale\": [[0.0, \"#00224e\"], [0.1111111111111111, \"#123570\"], [0.2222222222222222, \"#3b496c\"], [0.3333333333333333, \"#575d6d\"], [0.4444444444444444, \"#707173\"], [0.5555555555555556, \"#8a8678\"], [0.6666666666666666, \"#a59c74\"], [0.7777777777777778, \"#c3b369\"], [0.8888888888888888, \"#e1cc55\"], [1.0, \"#fee838\"]], \"locations\": [\"AUS\", \"AUT\", \"BHR\", \"BEL\", \"BRA\", \"CAN\", \"CYP\", \"CZE\", \"DNK\", \"FIN\", \"FRA\", \"DEU\", \"GRC\", \"ISL\", \"IRL\", \"ISR\", \"ITA\", \"JPN\", \"LBN\", \"LTU\", \"MLT\", \"NLD\", \"NOR\", \"POL\", \"PRT\", \"SAU\", \"SGP\", \"ZAF\", \"ESP\", \"SWE\", \"CHE\", \"USA\", \"ARE\", \"GBR\"], \"reversescale\": false, \"text\": [\"Australia\", \"Austria\", \"Bahrain\", \"Belgium\", \"Brazil\", \"Canada\", \"Cyprus\", \"Czech Republic\", \"Denmark\", \"Finland\", \"France\", \"Germany\", \"Greece\", \"Iceland\", \"Ireland\", \"Israel\", \"Italy\", \"Japan\", \"Lebanon\", \"Lithuania\", \"Malta\", \"Netherlands\", \"Norway\", \"Poland\", \"Portugal\", \"Saudi Arabia\", \"Singapore\", \"South Africa\", \"Spain\", \"Sweden\", \"Switzerland\", \"USA\", \"United Arab Emirates\", \"United Kingdom\"], \"type\": \"choropleth\", \"z\": [5.141516590032209, 4.008543965309646, 2.739097446117475, 4.614858633790165, 3.0582741466859513, 3.564237475178982, 4.133231600190616, 2.9173689505212295, 4.2777315787281385, 4.353071043670372, 5.320196258270795, 5.359583442560463, 3.6776543940642044, 3.6344772701607315, 5.42413960034705, 3.858638841861653, 4.242621919358446, 4.573061651538137, 3.228882640242743, 3.2203853201084005, 3.4354605271665184, 5.455524478843861, 4.558293753227124, 3.865379394703459, 4.52426484016436, 2.164114820984341, 4.32795713329283, 3.001002063315146, 4.7894193022920035, 4.584086072859996, 4.751617398476663, 3.5539303354770833, 3.2792744418890147, 6.865035358632342]}],\n",
              "                        {\"template\": {\"data\": {\"bar\": [{\"error_x\": {\"color\": \"#2a3f5f\"}, \"error_y\": {\"color\": \"#2a3f5f\"}, \"marker\": {\"line\": {\"color\": \"#E5ECF6\", \"width\": 0.5}}, \"type\": \"bar\"}], \"barpolar\": [{\"marker\": {\"line\": {\"color\": \"#E5ECF6\", \"width\": 0.5}}, \"type\": \"barpolar\"}], \"carpet\": [{\"aaxis\": {\"endlinecolor\": \"#2a3f5f\", \"gridcolor\": \"white\", \"linecolor\": \"white\", \"minorgridcolor\": \"white\", \"startlinecolor\": \"#2a3f5f\"}, \"baxis\": {\"endlinecolor\": \"#2a3f5f\", \"gridcolor\": \"white\", \"linecolor\": \"white\", \"minorgridcolor\": \"white\", \"startlinecolor\": \"#2a3f5f\"}, \"type\": \"carpet\"}], \"choropleth\": [{\"colorbar\": {\"outlinewidth\": 0, \"ticks\": \"\"}, \"type\": \"choropleth\"}], \"contour\": [{\"colorbar\": {\"outlinewidth\": 0, \"ticks\": \"\"}, \"colorscale\": [[0.0, \"#0d0887\"], [0.1111111111111111, \"#46039f\"], [0.2222222222222222, \"#7201a8\"], [0.3333333333333333, \"#9c179e\"], [0.4444444444444444, \"#bd3786\"], [0.5555555555555556, \"#d8576b\"], [0.6666666666666666, \"#ed7953\"], [0.7777777777777778, \"#fb9f3a\"], [0.8888888888888888, \"#fdca26\"], [1.0, \"#f0f921\"]], \"type\": \"contour\"}], \"contourcarpet\": [{\"colorbar\": {\"outlinewidth\": 0, \"ticks\": \"\"}, \"type\": \"contourcarpet\"}], \"heatmap\": [{\"colorbar\": {\"outlinewidth\": 0, \"ticks\": \"\"}, \"colorscale\": [[0.0, \"#0d0887\"], [0.1111111111111111, \"#46039f\"], [0.2222222222222222, \"#7201a8\"], [0.3333333333333333, \"#9c179e\"], [0.4444444444444444, \"#bd3786\"], [0.5555555555555556, \"#d8576b\"], [0.6666666666666666, \"#ed7953\"], [0.7777777777777778, \"#fb9f3a\"], [0.8888888888888888, \"#fdca26\"], [1.0, \"#f0f921\"]], \"type\": \"heatmap\"}], \"heatmapgl\": [{\"colorbar\": {\"outlinewidth\": 0, \"ticks\": \"\"}, \"colorscale\": [[0.0, \"#0d0887\"], [0.1111111111111111, \"#46039f\"], [0.2222222222222222, \"#7201a8\"], [0.3333333333333333, \"#9c179e\"], [0.4444444444444444, \"#bd3786\"], [0.5555555555555556, \"#d8576b\"], [0.6666666666666666, \"#ed7953\"], [0.7777777777777778, \"#fb9f3a\"], [0.8888888888888888, \"#fdca26\"], [1.0, \"#f0f921\"]], \"type\": \"heatmapgl\"}], \"histogram\": [{\"marker\": {\"colorbar\": {\"outlinewidth\": 0, \"ticks\": \"\"}}, \"type\": \"histogram\"}], \"histogram2d\": [{\"colorbar\": {\"outlinewidth\": 0, \"ticks\": \"\"}, \"colorscale\": [[0.0, \"#0d0887\"], [0.1111111111111111, \"#46039f\"], [0.2222222222222222, \"#7201a8\"], [0.3333333333333333, \"#9c179e\"], [0.4444444444444444, \"#bd3786\"], [0.5555555555555556, \"#d8576b\"], [0.6666666666666666, \"#ed7953\"], [0.7777777777777778, \"#fb9f3a\"], [0.8888888888888888, \"#fdca26\"], [1.0, \"#f0f921\"]], \"type\": \"histogram2d\"}], \"histogram2dcontour\": [{\"colorbar\": {\"outlinewidth\": 0, \"ticks\": \"\"}, \"colorscale\": [[0.0, \"#0d0887\"], [0.1111111111111111, \"#46039f\"], [0.2222222222222222, \"#7201a8\"], [0.3333333333333333, \"#9c179e\"], [0.4444444444444444, \"#bd3786\"], [0.5555555555555556, \"#d8576b\"], [0.6666666666666666, \"#ed7953\"], [0.7777777777777778, \"#fb9f3a\"], [0.8888888888888888, \"#fdca26\"], [1.0, \"#f0f921\"]], \"type\": \"histogram2dcontour\"}], \"mesh3d\": [{\"colorbar\": {\"outlinewidth\": 0, \"ticks\": \"\"}, \"type\": \"mesh3d\"}], \"parcoords\": [{\"line\": {\"colorbar\": {\"outlinewidth\": 0, \"ticks\": \"\"}}, \"type\": \"parcoords\"}], \"pie\": [{\"automargin\": true, \"type\": \"pie\"}], \"scatter\": [{\"marker\": {\"colorbar\": {\"outlinewidth\": 0, \"ticks\": \"\"}}, \"type\": \"scatter\"}], \"scatter3d\": [{\"line\": {\"colorbar\": {\"outlinewidth\": 0, \"ticks\": \"\"}}, \"marker\": {\"colorbar\": {\"outlinewidth\": 0, \"ticks\": \"\"}}, \"type\": \"scatter3d\"}], \"scattercarpet\": [{\"marker\": {\"colorbar\": {\"outlinewidth\": 0, \"ticks\": \"\"}}, \"type\": \"scattercarpet\"}], \"scattergeo\": [{\"marker\": {\"colorbar\": {\"outlinewidth\": 0, \"ticks\": \"\"}}, \"type\": \"scattergeo\"}], \"scattergl\": [{\"marker\": {\"colorbar\": {\"outlinewidth\": 0, \"ticks\": \"\"}}, \"type\": \"scattergl\"}], \"scattermapbox\": [{\"marker\": {\"colorbar\": {\"outlinewidth\": 0, \"ticks\": \"\"}}, \"type\": \"scattermapbox\"}], \"scatterpolar\": [{\"marker\": {\"colorbar\": {\"outlinewidth\": 0, \"ticks\": \"\"}}, \"type\": \"scatterpolar\"}], \"scatterpolargl\": [{\"marker\": {\"colorbar\": {\"outlinewidth\": 0, \"ticks\": \"\"}}, \"type\": \"scatterpolargl\"}], \"scatterternary\": [{\"marker\": {\"colorbar\": {\"outlinewidth\": 0, \"ticks\": \"\"}}, \"type\": \"scatterternary\"}], \"surface\": [{\"colorbar\": {\"outlinewidth\": 0, \"ticks\": \"\"}, \"colorscale\": [[0.0, \"#0d0887\"], [0.1111111111111111, \"#46039f\"], [0.2222222222222222, \"#7201a8\"], [0.3333333333333333, \"#9c179e\"], [0.4444444444444444, \"#bd3786\"], [0.5555555555555556, \"#d8576b\"], [0.6666666666666666, \"#ed7953\"], [0.7777777777777778, \"#fb9f3a\"], [0.8888888888888888, \"#fdca26\"], [1.0, \"#f0f921\"]], \"type\": \"surface\"}], \"table\": [{\"cells\": {\"fill\": {\"color\": \"#EBF0F8\"}, \"line\": {\"color\": \"white\"}}, \"header\": {\"fill\": {\"color\": \"#C8D4E3\"}, \"line\": {\"color\": \"white\"}}, \"type\": \"table\"}]}, \"layout\": {\"annotationdefaults\": {\"arrowcolor\": \"#2a3f5f\", \"arrowhead\": 0, \"arrowwidth\": 1}, \"coloraxis\": {\"colorbar\": {\"outlinewidth\": 0, \"ticks\": \"\"}}, \"colorscale\": {\"diverging\": [[0, \"#8e0152\"], [0.1, \"#c51b7d\"], [0.2, \"#de77ae\"], [0.3, \"#f1b6da\"], [0.4, \"#fde0ef\"], [0.5, \"#f7f7f7\"], [0.6, \"#e6f5d0\"], [0.7, \"#b8e186\"], [0.8, \"#7fbc41\"], [0.9, \"#4d9221\"], [1, \"#276419\"]], \"sequential\": [[0.0, \"#0d0887\"], [0.1111111111111111, \"#46039f\"], [0.2222222222222222, \"#7201a8\"], [0.3333333333333333, \"#9c179e\"], [0.4444444444444444, \"#bd3786\"], [0.5555555555555556, \"#d8576b\"], [0.6666666666666666, \"#ed7953\"], [0.7777777777777778, \"#fb9f3a\"], [0.8888888888888888, \"#fdca26\"], [1.0, \"#f0f921\"]], \"sequentialminus\": [[0.0, \"#0d0887\"], [0.1111111111111111, \"#46039f\"], [0.2222222222222222, \"#7201a8\"], [0.3333333333333333, \"#9c179e\"], [0.4444444444444444, \"#bd3786\"], [0.5555555555555556, \"#d8576b\"], [0.6666666666666666, \"#ed7953\"], [0.7777777777777778, \"#fb9f3a\"], [0.8888888888888888, \"#fdca26\"], [1.0, \"#f0f921\"]]}, \"colorway\": [\"#636efa\", \"#EF553B\", \"#00cc96\", \"#ab63fa\", \"#FFA15A\", \"#19d3f3\", \"#FF6692\", \"#B6E880\", \"#FF97FF\", \"#FECB52\"], \"font\": {\"color\": \"#2a3f5f\"}, \"geo\": {\"bgcolor\": \"white\", \"lakecolor\": \"white\", \"landcolor\": \"#E5ECF6\", \"showlakes\": true, \"showland\": true, \"subunitcolor\": \"white\"}, \"hoverlabel\": {\"align\": \"left\"}, \"hovermode\": \"closest\", \"mapbox\": {\"style\": \"light\"}, \"paper_bgcolor\": \"white\", \"plot_bgcolor\": \"#E5ECF6\", \"polar\": {\"angularaxis\": {\"gridcolor\": \"white\", \"linecolor\": \"white\", \"ticks\": \"\"}, \"bgcolor\": \"#E5ECF6\", \"radialaxis\": {\"gridcolor\": \"white\", \"linecolor\": \"white\", \"ticks\": \"\"}}, \"scene\": {\"xaxis\": {\"backgroundcolor\": \"#E5ECF6\", \"gridcolor\": \"white\", \"gridwidth\": 2, \"linecolor\": \"white\", \"showbackground\": true, \"ticks\": \"\", \"zerolinecolor\": \"white\"}, \"yaxis\": {\"backgroundcolor\": \"#E5ECF6\", \"gridcolor\": \"white\", \"gridwidth\": 2, \"linecolor\": \"white\", \"showbackground\": true, \"ticks\": \"\", \"zerolinecolor\": \"white\"}, \"zaxis\": {\"backgroundcolor\": \"#E5ECF6\", \"gridcolor\": \"white\", \"gridwidth\": 2, \"linecolor\": \"white\", \"showbackground\": true, \"ticks\": \"\", \"zerolinecolor\": \"white\"}}, \"shapedefaults\": {\"line\": {\"color\": \"#2a3f5f\"}}, \"ternary\": {\"aaxis\": {\"gridcolor\": \"white\", \"linecolor\": \"white\", \"ticks\": \"\"}, \"baxis\": {\"gridcolor\": \"white\", \"linecolor\": \"white\", \"ticks\": \"\"}, \"bgcolor\": \"#E5ECF6\", \"caxis\": {\"gridcolor\": \"white\", \"linecolor\": \"white\", \"ticks\": \"\"}}, \"title\": {\"x\": 0.05}, \"xaxis\": {\"automargin\": true, \"gridcolor\": \"white\", \"linecolor\": \"white\", \"ticks\": \"\", \"title\": {\"standoff\": 15}, \"zerolinecolor\": \"white\", \"zerolinewidth\": 2}, \"yaxis\": {\"automargin\": true, \"gridcolor\": \"white\", \"linecolor\": \"white\", \"ticks\": \"\", \"title\": {\"standoff\": 15}, \"zerolinecolor\": \"white\", \"zerolinewidth\": 2}}}},\n",
              "                        {\"responsive\": true}\n",
              "                    ).then(function(){\n",
              "                            \n",
              "var gd = document.getElementById('6bd38dd6-9fd2-4e62-a7fd-5835f7d7fd0b');\n",
              "var x = new MutationObserver(function (mutations, observer) {{\n",
              "        var display = window.getComputedStyle(gd).display;\n",
              "        if (!display || display === 'none') {{\n",
              "            console.log([gd, 'removed!']);\n",
              "            Plotly.purge(gd);\n",
              "            observer.disconnect();\n",
              "        }}\n",
              "}});\n",
              "\n",
              "// Listen for the removal of the full notebook cells\n",
              "var notebookContainer = gd.closest('#notebook-container');\n",
              "if (notebookContainer) {{\n",
              "    x.observe(notebookContainer, {childList: true});\n",
              "}}\n",
              "\n",
              "// Listen for the clearing of the current output cell\n",
              "var outputEl = gd.closest('.output');\n",
              "if (outputEl) {{\n",
              "    x.observe(outputEl, {childList: true});\n",
              "}}\n",
              "\n",
              "                        })\n",
              "                };\n",
              "                \n",
              "            </script>\n",
              "        </div>\n",
              "</body>\n",
              "</html>"
            ]
          },
          "metadata": {
            "tags": []
          }
        }
      ]
    },
    {
      "cell_type": "code",
      "metadata": {
        "id": "ikaqx8is969b",
        "colab": {
          "base_uri": "https://localhost:8080/"
        },
        "outputId": "4d358f80-8339-419d-db46-045ad962f98f"
      },
      "source": [
        "\n",
        "len(df['CustomerID'].unique())"
      ],
      "execution_count": 113,
      "outputs": [
        {
          "output_type": "execute_result",
          "data": {
            "text/plain": [
              "4338"
            ]
          },
          "metadata": {
            "tags": []
          },
          "execution_count": 113
        }
      ]
    },
    {
      "cell_type": "code",
      "metadata": {
        "id": "0icuOuhfFJXR"
      },
      "source": [
        "#RFM\n",
        "#Assumptions: the recency of a purchase made up to 11 years ago isn't going to help the analysis very much. Therefore the recency will be calculated using the last invoice date: 10/12/2011.\n",
        "import datetime as dt\n",
        "\n",
        "df['InvoiceDate'] = pd.to_datetime(df['InvoiceDate'])\n",
        "customer_df = df[['CustomerID', 'InvoiceNo','InvoiceDate', 'TotalSpent']]\n",
        "latest_date = customer_df['InvoiceDate'].max() \n",
        "\n",
        "#Changing columns to:\n",
        "#InvoiceDate --> Days since last purchase (as of 10/12/2011). This is the \"Recency\" part of the RFM analysis.\n",
        "#InvoiceNo --> n.o. invoices (transactions) per customer. This is the \"Frequency\" of customer transactions.\n",
        "#TotalSpent --> Mean of TotalSpent. This is the \"Monetary\" part of the RFM analysis.\n",
        "#Quantity --> Total number of items bought by each customer.\n",
        "\n",
        "customer_df = df.groupby(by='CustomerID').agg({ 'Quantity':'sum', 'InvoiceNo':'count', 'TotalSpent':'mean', 'InvoiceDate':lambda x: (latest_date - x.max()).days })\n",
        "customer_df.rename(columns = {'InvoiceDate':'Recency', 'InvoiceNo':'Freq', 'TotalSpent':'MeanTotalSpent'}, inplace=True)"
      ],
      "execution_count": 114,
      "outputs": []
    },
    {
      "cell_type": "code",
      "metadata": {
        "colab": {
          "base_uri": "https://localhost:8080/",
          "height": 237
        },
        "id": "Oybl9JNQhe3c",
        "outputId": "5a5fe901-1cf8-4553-ace8-37918f125a97"
      },
      "source": [
        "customer_df.head()"
      ],
      "execution_count": 115,
      "outputs": [
        {
          "output_type": "execute_result",
          "data": {
            "text/html": [
              "<div>\n",
              "<style scoped>\n",
              "    .dataframe tbody tr th:only-of-type {\n",
              "        vertical-align: middle;\n",
              "    }\n",
              "\n",
              "    .dataframe tbody tr th {\n",
              "        vertical-align: top;\n",
              "    }\n",
              "\n",
              "    .dataframe thead th {\n",
              "        text-align: right;\n",
              "    }\n",
              "</style>\n",
              "<table border=\"1\" class=\"dataframe\">\n",
              "  <thead>\n",
              "    <tr style=\"text-align: right;\">\n",
              "      <th></th>\n",
              "      <th>Quantity</th>\n",
              "      <th>Freq</th>\n",
              "      <th>MeanTotalSpent</th>\n",
              "      <th>Recency</th>\n",
              "    </tr>\n",
              "    <tr>\n",
              "      <th>CustomerID</th>\n",
              "      <th></th>\n",
              "      <th></th>\n",
              "      <th></th>\n",
              "      <th></th>\n",
              "    </tr>\n",
              "  </thead>\n",
              "  <tbody>\n",
              "    <tr>\n",
              "      <th>12346.0</th>\n",
              "      <td>74215</td>\n",
              "      <td>1</td>\n",
              "      <td>77183.600000</td>\n",
              "      <td>325</td>\n",
              "    </tr>\n",
              "    <tr>\n",
              "      <th>12347.0</th>\n",
              "      <td>2458</td>\n",
              "      <td>182</td>\n",
              "      <td>23.681319</td>\n",
              "      <td>1</td>\n",
              "    </tr>\n",
              "    <tr>\n",
              "      <th>12348.0</th>\n",
              "      <td>2341</td>\n",
              "      <td>31</td>\n",
              "      <td>57.975484</td>\n",
              "      <td>74</td>\n",
              "    </tr>\n",
              "    <tr>\n",
              "      <th>12349.0</th>\n",
              "      <td>631</td>\n",
              "      <td>73</td>\n",
              "      <td>24.076027</td>\n",
              "      <td>18</td>\n",
              "    </tr>\n",
              "    <tr>\n",
              "      <th>12350.0</th>\n",
              "      <td>197</td>\n",
              "      <td>17</td>\n",
              "      <td>19.670588</td>\n",
              "      <td>309</td>\n",
              "    </tr>\n",
              "  </tbody>\n",
              "</table>\n",
              "</div>"
            ],
            "text/plain": [
              "            Quantity  Freq  MeanTotalSpent  Recency\n",
              "CustomerID                                         \n",
              "12346.0        74215     1    77183.600000      325\n",
              "12347.0         2458   182       23.681319        1\n",
              "12348.0         2341    31       57.975484       74\n",
              "12349.0          631    73       24.076027       18\n",
              "12350.0          197    17       19.670588      309"
            ]
          },
          "metadata": {
            "tags": []
          },
          "execution_count": 115
        }
      ]
    },
    {
      "cell_type": "code",
      "metadata": {
        "id": "IrbniNPF8aN9",
        "colab": {
          "base_uri": "https://localhost:8080/",
          "height": 175
        },
        "outputId": "ad785534-1627-431f-9183-ac37986ee2e8"
      },
      "source": [
        "customer_df.corr()"
      ],
      "execution_count": 116,
      "outputs": [
        {
          "output_type": "execute_result",
          "data": {
            "text/html": [
              "<div>\n",
              "<style scoped>\n",
              "    .dataframe tbody tr th:only-of-type {\n",
              "        vertical-align: middle;\n",
              "    }\n",
              "\n",
              "    .dataframe tbody tr th {\n",
              "        vertical-align: top;\n",
              "    }\n",
              "\n",
              "    .dataframe thead th {\n",
              "        text-align: right;\n",
              "    }\n",
              "</style>\n",
              "<table border=\"1\" class=\"dataframe\">\n",
              "  <thead>\n",
              "    <tr style=\"text-align: right;\">\n",
              "      <th></th>\n",
              "      <th>Quantity</th>\n",
              "      <th>Freq</th>\n",
              "      <th>MeanTotalSpent</th>\n",
              "      <th>Recency</th>\n",
              "    </tr>\n",
              "  </thead>\n",
              "  <tbody>\n",
              "    <tr>\n",
              "      <th>Quantity</th>\n",
              "      <td>1.000000</td>\n",
              "      <td>0.430116</td>\n",
              "      <td>0.326191</td>\n",
              "      <td>-0.123758</td>\n",
              "    </tr>\n",
              "    <tr>\n",
              "      <th>Freq</th>\n",
              "      <td>0.430116</td>\n",
              "      <td>1.000000</td>\n",
              "      <td>-0.012553</td>\n",
              "      <td>-0.206125</td>\n",
              "    </tr>\n",
              "    <tr>\n",
              "      <th>MeanTotalSpent</th>\n",
              "      <td>0.326191</td>\n",
              "      <td>-0.012553</td>\n",
              "      <td>1.000000</td>\n",
              "      <td>0.024617</td>\n",
              "    </tr>\n",
              "    <tr>\n",
              "      <th>Recency</th>\n",
              "      <td>-0.123758</td>\n",
              "      <td>-0.206125</td>\n",
              "      <td>0.024617</td>\n",
              "      <td>1.000000</td>\n",
              "    </tr>\n",
              "  </tbody>\n",
              "</table>\n",
              "</div>"
            ],
            "text/plain": [
              "                Quantity      Freq  MeanTotalSpent   Recency\n",
              "Quantity        1.000000  0.430116        0.326191 -0.123758\n",
              "Freq            0.430116  1.000000       -0.012553 -0.206125\n",
              "MeanTotalSpent  0.326191 -0.012553        1.000000  0.024617\n",
              "Recency        -0.123758 -0.206125        0.024617  1.000000"
            ]
          },
          "metadata": {
            "tags": []
          },
          "execution_count": 116
        }
      ]
    },
    {
      "cell_type": "code",
      "metadata": {
        "id": "WulxVxsfvyOr",
        "colab": {
          "base_uri": "https://localhost:8080/"
        },
        "outputId": "47b5add6-6077-499e-d25b-f5358b6a89af"
      },
      "source": [
        "!pip install plotly\n",
        "import plotly.express as px\n",
        "import plotly.graph_objects as go\n",
        "from plotly.subplots import make_subplots"
      ],
      "execution_count": 117,
      "outputs": [
        {
          "output_type": "stream",
          "text": [
            "Requirement already satisfied: plotly in /usr/local/lib/python3.7/dist-packages (4.4.1)\n",
            "Requirement already satisfied: retrying>=1.3.3 in /usr/local/lib/python3.7/dist-packages (from plotly) (1.3.3)\n",
            "Requirement already satisfied: six in /usr/local/lib/python3.7/dist-packages (from plotly) (1.15.0)\n"
          ],
          "name": "stdout"
        }
      ]
    },
    {
      "cell_type": "code",
      "metadata": {
        "id": "hlnCY7ix2J38",
        "colab": {
          "base_uri": "https://localhost:8080/",
          "height": 542
        },
        "outputId": "4be813dc-7ed5-4caa-fdb9-5a500e0d7b62"
      },
      "source": [
        "fig = make_subplots(rows=1, cols=4, subplot_titles=customer_df.columns + ' Distribution', y_title='Frequency')\n",
        "\n",
        "fig.add_trace(go.Histogram(x=customer_df['Quantity']), row=1, col=1)\n",
        "fig.add_trace(go.Histogram(x=customer_df['Freq']), row=1, col=2)\n",
        "fig.add_trace(go.Histogram(x=customer_df['MeanTotalSpent']), row=1, col=3)\n",
        "fig.add_trace(go.Histogram(x=customer_df['Recency']), row=1, col=4)\n",
        "\n",
        "fig['layout']['xaxis']['title']='Quantity Bought Per Customer'\n",
        "fig['layout']['xaxis2']['title']='Number Of Purchases Per Customer'\n",
        "fig['layout']['xaxis3']['title']='Mean Total Amount Spent Per Customer (£)'\n",
        "fig['layout']['xaxis4']['title']='Days Since Last Purchase'\n",
        "\n",
        "fig.show()"
      ],
      "execution_count": 118,
      "outputs": [
        {
          "output_type": "display_data",
          "data": {
            "text/html": [
              "<html>\n",
              "<head><meta charset=\"utf-8\" /></head>\n",
              "<body>\n",
              "    <div>\n",
              "            <script src=\"https://cdnjs.cloudflare.com/ajax/libs/mathjax/2.7.5/MathJax.js?config=TeX-AMS-MML_SVG\"></script><script type=\"text/javascript\">if (window.MathJax) {MathJax.Hub.Config({SVG: {font: \"STIX-Web\"}});}</script>\n",
              "                <script type=\"text/javascript\">window.PlotlyConfig = {MathJaxConfig: 'local'};</script>\n",
              "        <script src=\"https://cdn.plot.ly/plotly-latest.min.js\"></script>    \n",
              "            <div id=\"41057dc1-db9f-4bd4-a0cc-36c6fc4f04f7\" class=\"plotly-graph-div\" style=\"height:525px; width:100%;\"></div>\n",
              "            <script type=\"text/javascript\">\n",
              "                \n",
              "                    window.PLOTLYENV=window.PLOTLYENV || {};\n",
              "                    \n",
              "                if (document.getElementById(\"41057dc1-db9f-4bd4-a0cc-36c6fc4f04f7\")) {\n",
              "                    Plotly.newPlot(\n",
              "                        '41057dc1-db9f-4bd4-a0cc-36c6fc4f04f7',\n",
              "                        [{\"type\": \"histogram\", \"x\": [74215, 2458, 2341, 631, 197, 536, 20, 530, 240, 1591, 2708, 248, 1622, 1165, 91, 2229, 408, 1506, 174, 173, 2353, 591, 794, 197, 342, 178, 944, 2529, 407, 1127, 808, 1532, 126, 354, 1462, 353, 300, 816, 819, 2118, 1263, 1394, 1178, 11, 94, 96, 857, 1818, 1416, 1409, 5551, 211, 829, 286, 300, 77374, 1552, 407, 345, 484, 370, 1339, 740, 496, 258, 533, 3536, 1557, 117, 2906, 1801, 11071, 394, 2055, 211, 2922, 1180, 121, 182, 1153, 62, 351, 190, 243, 1553, 128, 6575, 185, 473, 1006, 2089, 1633, 843, 506, 287, 536, 776, 112, 479, 366, 8212, 4148, 2439, 4847, 535, 2408, 3653, 236, 385, 1707, 3304, 1110, 2191, 529, 105, 3064, 260, 192, 207, 707, 1236, 159, 2678, 1783, 820, 90, 23, 894, 272, 55, 353, 99, 462, 440, 131, 875, 1371, 1318, 183, 1439, 309, 194, 865, 3699, 632, 234, 756, 913, 45, 153, 651, 219, 2803, 191, 2067, 6685, 680, 136, 523, 633, 134, 49, 569, 100, 88, 1965, 358, 4384, 196, 283, 1110, 177, 1779, 133, 80, 265, 4305, 1801, 523, 452, 84, 61, 967, 472, 1196, 285, 238, 161, 300, 5060, 416, 1279, 79, 51, 53, 306, 4283, 228, 290, 206, 1777, 474, 2236, 1964, 956, 774, 245, 162, 63, 201, 1228, 648, 1049, 846, 262, 1644, 76, 1376, 284, 213, 96, 3378, 1181, 7440, 69, 191, 355, 1612, 3453, 2752, 448, 548, 236, 1162, 1172, 3002, 577, 201, 311, 72, 552, 1808, 325, 1084, 897, 1431, 160, 586, 254, 78, 505, 919, 264, 1723, 1044, 320, 105, 127, 2058, 1203, 37, 395, 1634, 1115, 1397, 78, 351, 1133, 670, 10923, 554, 443, 7536, 5575, 4987, 1985, 1523, 107, 3028, 628, 106, 394, 255, 509, 220, 508, 2967, 678, 53, 164, 1006, 3997, 256, 1307, 3936, 851, 1062, 508, 3069, 197, 708, 506, 203, 374, 4672, 1959, 566, 434, 445, 164, 3143, 2098, 419, 233, 8437, 111, 137, 88, 368, 173, 148, 486, 342, 319, 5241, 1275, 25747, 1471, 137, 2262, 11421, 6481, 1491, 144, 2402, 2135, 902, 1227, 316, 386, 3646, 356, 743, 556, 877, 825, 2024, 671, 1086, 624, 300, 131, 261, 4, 166, 97, 217, 295, 592, 68, 118, 5256, 314, 188, 220, 230, 164, 49, 379, 128, 53, 929, 722, 70, 550, 230, 232, 1058, 197, 494, 376, 9848, 135, 195, 156, 110, 1064, 24, 359, 3807, 1511, 2757, 547, 781, 125, 204, 909, 623, 109, 149, 800, 627, 30, 1079, 343, 188, 216, 925, 171, 4298, 928, 200, 319, 128, 2019, 1941, 1178, 547, 370, 21, 246, 196, 43, 655, 770, 76, 259, 950, 96, 210, 110, 23075, 66, 302, 1749, 1200, 1280, 1692, 670, 1419, 93, 1119, 120, 673, 129, 9526, 370, 69, 481, 541, 1472, 37, 252, 28004, 499, 1853, 559, 1007, 140, 4876, 411, 203, 289, 165, 1165, 1080, 2381, 1380, 503, 653, 84, 3664, 34, 2549, 129, 881, 283, 75, 438, 73, 310, 9289, 24, 561, 12, 886, 242, 288, 26, 1533, 219, 136, 2943, 200, 405, 240, 459, 108, 664, 342, 379, 5505, 73, 103, 4822, 172, 55, 175, 13, 824, 2224, 905, 1617, 527, 48, 5435, 1352, 286, 1620, 17280, 798, 134, 394, 375, 83, 369, 644, 431, 360, 355, 254, 429, 221, 264, 1391, 1238, 268, 3748, 222, 894, 52, 35, 123, 107, 343, 516, 74, 322, 32, 200, 5885, 110, 69, 485, 863, 5630, 62, 120, 19068, 4324, 187, 216, 31070, 2263, 466, 279, 3961, 1716, 144, 2363, 15968, 288, 113, 4204, 82, 504, 18, 1293, 298, 520, 388, 3045, 1567, 291, 945, 410, 12, 252, 585, 2147, 2143, 127, 32, 447, 20, 32, 1059, 4300, 1328, 2226, 473, 2425, 186, 1548, 258, 21, 145, 154, 144, 1975, 1280, 363, 418, 497, 1439, 784, 1059, 56, 29, 1713, 1376, 216, 785, 682, 272, 147, 229, 277, 1395, 453, 91, 3570, 201, 2208, 1692, 12, 820, 95, 25, 842, 595, 50, 26, 1224, 2648, 6176, 516, 800, 130, 804, 4253, 316, 874, 310, 1360, 297, 262, 88, 196, 244, 88, 1518, 3416, 80, 99, 200, 63, 1665, 778, 1004, 441, 416, 298, 327, 298, 130, 233, 38, 125, 1602, 328, 305, 546, 1572, 177, 287, 132, 142, 210, 125, 4780, 1752, 4428, 1969, 3658, 3514, 200, 253, 96, 153, 161, 176, 537, 73, 522, 307, 90, 91, 2051, 233, 347, 453, 82, 78, 963, 96, 30, 203, 345, 5, 238, 1232, 4, 843, 1544, 587, 305, 851, 560, 6948, 1035, 304, 4724, 1096, 372, 117, 175, 5205, 240, 1600, 680, 463, 751, 179, 1774, 559, 256, 326, 5770, 301, 135, 971, 141, 205, 136, 225, 287, 117, 321, 604, 314, 325, 322, 285, 161, 1382, 710, 71, 1247, 144, 327, 149, 343, 159, 1651, 442, 493, 601, 2029, 131, 2422, 281, 282, 429, 224, 4, 2392, 336, 600, 430, 281, 479, 44, 111, 165, 16232, 518, 72, 1574, 142, 162, 3918, 275, 101, 1181, 1326, 1123, 2245, 545, 156, 1390, 751, 672, 300, 2129, 76, 1283, 242, 204, 584, 1660, 222, 1982, 2149, 2, 134, 354, 765, 5508, 286, 1170, 62, 403, 259, 584, 2589, 100, 1590, 266, 132, 1012, 417, 1021, 134, 1142, 116, 160, 44, 277, 669, 265, 4518, 560, 903, 408, 380, 162, 829, 341, 163, 1365, 609, 560, 264, 248, 178, 2486, 324, 1597, 24, 1106, 1386, 143, 109, 40, 681, 985, 1369, 392, 23, 1649, 736, 44, 1752, 324, 394, 1692, 74, 174, 129, 204, 2961, 2136, 175, 320, 127, 359, 441, 458, 12, 1417, 2660, 546, 344, 64, 83, 757, 209, 661, 172, 575, 70, 164, 161, 1759, 534, 303, 449, 2646, 791, 176, 30, 725, 37, 180, 2606, 114, 1848, 485, 84, 731, 359, 406, 58, 3294, 324, 548, 267, 164, 279, 290, 516, 766, 570, 189, 300, 246, 343, 294, 209, 1269, 4372, 1391, 467, 1037, 704, 677, 592, 409, 93, 800, 173, 273, 2067, 158, 895, 139, 922, 33, 578, 2182, 605, 490, 209, 1019, 894, 543, 91, 41, 154, 3742, 237, 282, 57, 119, 330, 924, 1936, 360, 10, 39, 5056, 70, 512, 67, 1226, 63312, 1603, 177, 66, 2304, 10, 1531, 363, 189, 351, 306, 3516, 176, 140, 352, 563, 138, 1959, 173, 609, 501, 316, 1401, 43, 806, 1054, 162, 458, 488, 278, 498, 1130, 497, 125, 54, 425, 218, 1124, 1776, 1249, 496, 8, 439, 516, 152, 876, 512, 214, 1264, 3188, 1844, 287, 197, 642, 272, 728, 932, 7322, 1163, 1477, 546, 192, 12897, 70, 318, 30, 371, 2493, 136, 337, 748, 1200, 92, 23948, 402, 331, 168, 2572, 121, 1498, 1900, 56, 36, 782, 29, 312, 68, 333, 552, 864, 2560, 269, 211, 1109, 153, 611, 439, 768, 82, 141, 311, 745, 28, 118, 442, 183, 263, 100, 1768, 196, 182, 388, 3700, 1016, 944, 1705, 312, 2296, 494, 75, 129, 591, 1688, 224, 204, 57, 513, 1964, 1721, 1325, 2806, 140, 180, 1316, 36, 108, 475, 1842, 10118, 953, 1436, 300, 182, 126, 147, 258, 146, 831, 983, 190, 354, 1365, 200, 133, 156, 430, 1739, 332, 1478, 2731, 380, 228, 1140, 474, 93, 185, 1575, 331, 104, 214, 129, 143, 274, 725, 72, 205, 390, 330, 123, 70, 847, 516, 2364, 443, 44, 40, 2474, 323, 459, 1431, 2724, 150, 154, 491, 357, 142, 87, 460, 42, 4542, 1844, 187, 109, 249, 1732, 154, 315, 639, 172, 1136, 1183, 679, 3445, 430, 3044, 1313, 190, 998, 64, 900, 940, 879, 2243, 710, 962, 877, 2668, 2478, 641, 365, 160, 462, 1076, 378, 2125, 1037, 441, 192, 487, 345, 150, 62, 198, 1479, 5788, 2032, 423, 739, 268, 46, 965, 92, 1554, 94, 308, 535, 460, 381, 288, 3870, 689, 3756, 89, 215, 62, 216, 4273, 4876, 128, 5386, 5593, 1788, 45, 361, 73, 995, 130, 754, 81, 268, 310, 301, 48, 596, 110, 732, 3184, 251, 12665, 134, 72, 2066, 406, 16352, 104, 2179, 64, 6942, 961, 72, 800, 1793, 381, 88, 2445, 458, 1651, 745, 101, 707, 72, 2082, 1618, 1640, 508, 321, 564, 592, 258, 3368, 348, 3850, 610, 510, 811, 355, 313, 30, 756, 2437, 108, 16, 218, 496, 711, 465, 25, 57885, 284, 781, 4408, 455, 142, 893, 1033, 54, 150, 167, 150, 94, 1515, 209, 205, 1505, 330, 719, 127, 6, 1162, 3937, 3662, 445, 5840, 760, 142, 290, 28, 590, 82, 204, 276, 114, 691, 760, 1242, 1152, 751, 1358, 594, 689, 160, 78, 272, 2191, 607, 585, 514, 1308, 1820, 610, 409, 1941, 680, 963, 1959, 310, 38, 111, 993, 418, 146, 123, 1221, 976, 804, 47, 102, 1200, 1674, 414, 1682, 7100, 68, 406, 1645, 70, 330, 530, 197, 88, 599, 264, 744, 1984, 52, 2668, 161, 541, 4338, 261, 188, 292, 915, 2749, 1663, 709, 84, 865, 58343, 2149, 32, 606, 139, 1089, 1075, 2058, 1633, 146, 1012, 296, 1021, 255, 325, 2406, 350, 103, 139, 3095, 252, 481, 58, 1731, 379, 1759, 335, 168, 58, 1403, 347, 477, 50, 605, 183, 86, 183, 12, 538, 64, 210, 92, 277, 148, 371, 1151, 100, 1967, 4438, 36, 34, 17, 194, 219, 292, 146, 1237, 817, 159, 54, 819, 1941, 729, 2136, 13, 1693, 225, 1890, 454, 4507, 519, 839, 77, 1415, 1616, 1230, 571, 196, 786, 68, 2512, 3011, 326, 1711, 487, 334, 365, 2906, 120, 48, 2699, 228, 436, 130, 2070, 368, 129, 60, 82, 526, 588, 446, 482, 938, 933, 571, 104, 757, 241, 389, 119, 49, 2908, 88, 760, 881, 766, 964, 179, 405, 1006, 278, 193, 1160, 88, 140, 447, 132, 720, 117, 143, 489, 1646, 97, 210, 71, 735, 799, 299, 139, 1285, 92, 62, 159, 235, 1098, 501, 117, 161, 1498, 2004, 308, 2759, 730, 600, 131, 784, 122, 361, 589, 1134, 91, 278, 146, 525, 251, 676, 2696, 2089, 278, 348, 1410, 284, 4019, 2047, 1831, 40, 120, 155, 428, 421, 647, 19, 679, 1543, 1317, 2668, 256, 136, 394, 106, 91, 493, 1478, 130, 510, 1260, 1014, 1834, 1540, 800, 412, 79, 95, 1428, 544, 12, 353, 240, 217, 73, 792, 383, 91, 444, 761, 5, 1297, 415, 332, 185, 978, 577, 189, 125, 168, 400, 6224, 11766, 437, 7026, 104, 264, 152, 214, 993, 146, 419, 162, 335, 1403, 272, 380, 622, 96, 96, 241, 166, 1431, 886, 90, 76, 815, 258, 381, 196915, 95, 1018, 344, 53, 950, 1089, 120, 466, 47, 1195, 228, 35, 602, 466, 740, 161, 5385, 775, 337, 454, 1004, 341, 2500, 13476, 76, 80, 853, 470, 3621, 76, 170, 707, 265, 34, 1630, 181, 615, 77, 1342, 932, 1454, 183, 1082, 100, 621, 2484, 378, 978, 315, 1615, 229, 521, 604, 1032, 219, 120, 695, 593, 62, 197, 1132, 256, 1405, 3764, 2264, 345, 601, 3820, 735, 841, 627, 1038, 84, 1223, 260, 211, 486, 2219, 416, 160, 419, 569, 40, 118, 341, 190, 135, 1349, 52, 7436, 490, 82, 1174, 3134, 306, 84, 310, 114, 237, 84, 421, 116, 699, 2, 91, 673, 17, 6025, 150, 146, 3655, 175, 370, 121, 115, 330, 2147, 1016, 67, 744, 5, 655, 324, 109, 253, 20, 88, 525, 991, 2172, 452, 169, 734, 45, 1436, 31, 1778, 1166, 1833, 120, 5694, 293, 325, 1747, 82, 1832, 267, 714, 464, 671, 232, 117, 772, 132, 108, 6752, 328, 1405, 550, 119, 185, 168, 558, 802, 373, 316, 158, 790, 724, 160, 1100, 184, 90, 51, 505, 799, 265, 4851, 279, 468, 1020, 661, 218, 1536, 1985, 287, 1691, 132, 238, 80265, 971, 1743, 112, 1136, 675, 509, 953, 418, 64, 136, 1166, 417, 80, 1042, 935, 4085, 484, 2815, 22, 179, 673, 136, 311, 3355, 225, 127, 34, 129, 494, 221, 3708, 44, 1176, 143, 365, 187, 140, 127, 250, 644, 28, 369, 44, 380, 234, 525, 97, 60, 260, 128, 141, 103, 1120, 270, 218, 862, 630, 4247, 302, 69, 642, 184, 231, 151, 76, 63, 189, 159, 847, 543, 2871, 920, 189, 285, 565, 459, 372, 401, 2968, 1695, 2422, 245, 327, 217, 9209, 104, 30, 300, 2795, 114, 3451, 222, 195, 63, 1224, 1011, 82, 986, 198, 668, 1069, 604, 263, 28920, 763, 56, 1383, 317, 954, 364, 520, 36, 269, 491, 455, 447, 571, 5105, 389, 190, 38, 470, 460, 1359, 208, 346, 135, 3760, 1079, 120, 170, 121, 343, 80, 241, 329, 637, 1211, 1181, 169, 499, 131, 246, 710, 2386, 3096, 157, 648, 1948, 1440, 88, 296, 199, 800, 1195, 233, 6193, 251, 1343, 1794, 197, 679, 680, 887, 43, 776, 208, 1572, 365, 150, 3050, 756, 1473, 366, 187, 128, 3658, 2704, 198, 104, 597, 2392, 198, 11441, 84, 186, 360, 160, 67, 52, 290, 1611, 145, 454, 30, 1938, 36, 544, 253, 223, 666, 215, 1887, 6149, 918, 144, 5703, 1404, 469, 120, 396, 1210, 1753, 258, 378, 162, 316, 228, 240, 36, 272, 1254, 225, 28, 3329, 45, 1393, 43, 440, 213, 152, 226, 71, 750, 2255, 351, 686, 196, 1324, 269, 1071, 692, 594, 1369, 1818, 185, 405, 1784, 247, 160, 3577, 6171, 522, 866, 275, 489, 55, 46, 142, 885, 270, 73, 89, 265, 612, 18, 944, 26, 1521, 1262, 310, 619, 498, 64, 205, 189, 154, 1211, 55, 433, 775, 1008, 4501, 2103, 56, 1766, 292, 3116, 2948, 292, 2775, 248, 104, 810, 37, 175, 38194, 516, 25, 313, 862, 100, 642, 175, 326, 1181, 416, 232, 386, 116, 486, 1312, 652, 344, 274, 80, 416, 812, 283, 84, 116, 81, 144, 130, 84, 327, 51, 753, 343, 45, 1673, 7050, 223, 336, 144, 493, 1084, 621, 1057, 230, 830, 2924, 500, 126, 619, 2305, 376, 171, 4012, 596, 161, 446, 88, 400, 1277, 150, 910, 17, 122, 20, 769, 611, 390, 694, 193, 254, 558, 106, 1200, 530, 108, 443, 575, 2090, 284, 230, 500, 38, 101, 554, 674, 1013, 102, 380, 65, 534, 647, 54, 613, 79, 59, 197, 120, 1663, 764, 58, 85, 232, 812, 376, 283, 845, 86, 660, 132, 156, 109, 172, 106, 350, 1257, 246, 310, 155, 153, 266, 251, 672, 319, 585, 303, 5020, 295, 3152, 1306, 73, 608, 1646, 483, 560, 1148, 624, 6105, 572, 4236, 74, 33, 2390, 848, 162, 440, 2, 271, 68, 5709, 2160, 27, 293, 1273, 314, 1836, 573, 132, 4, 416, 24, 992, 123, 3496, 950, 1105, 521, 289, 143, 29, 410, 200, 49, 86, 3109, 163, 4032, 698, 295, 218, 60, 451, 74, 4439, 236, 219, 267, 39, 1501, 60, 223, 461, 666, 2067, 264, 1229, 363, 349, 404, 89, 52, 120, 286, 453, 314, 320, 312, 243, 354, 60, 983, 561, 279, 160, 718, 4983, 1137, 96, 159, 441, 892, 202, 714, 148, 66, 504, 52, 5508, 454, 136, 915, 501, 1674, 125, 357, 1188, 766, 1894, 800, 2109, 99, 284, 128, 323, 6607, 1562, 246, 557, 256, 394, 221, 192, 479, 208, 1200, 475, 324, 343, 24, 242, 111, 1050, 236, 106, 157, 1666, 240, 72, 342, 91, 1699, 1514, 1275, 527, 2252, 319, 184, 1170, 952, 816, 131, 1310, 84, 408, 72, 138, 1677, 212, 1028, 113, 357, 923, 66, 1028, 62, 321, 605, 1267, 121, 486, 150, 187, 744, 70, 2725, 281, 409, 1026, 87, 73, 221, 3065, 28, 689, 215, 62, 346, 599, 2982, 472, 152, 216, 120, 421, 178, 480, 51, 18028, 1786, 1978, 144, 199, 1427, 242, 491, 47, 60, 251, 271, 2050, 170, 244, 29672, 311, 87, 68, 138, 378, 220, 180, 864, 212, 1612, 3364, 540, 438, 114, 731, 553, 581, 861, 873, 955, 335, 570, 1, 290, 2565, 3387, 602, 430, 1343, 301, 861, 1071, 922, 603, 1271, 1856, 1357, 128, 202, 375, 1, 220, 963, 882, 996, 415, 1105, 465, 965, 439, 26, 189, 18368, 675, 396, 942, 27, 134, 1926, 449, 302, 48, 135, 939, 470, 11005, 308, 1167, 440, 2544, 585, 19, 1192, 368, 126, 2054, 175, 335, 212, 2534, 371, 211, 260, 276, 223, 111, 147, 76, 215, 442, 168, 94, 261, 570, 39, 221, 384, 2410, 84, 544, 509, 98, 1015, 185, 757, 42, 153, 545, 99, 166, 138, 122, 93, 139, 2325, 885, 115, 73, 240, 4728, 4, 232, 50, 52, 898, 567, 284, 729, 313, 399, 892, 2135, 211, 33, 298, 453, 211, 124, 116, 1717, 106, 2262, 243, 277, 1016, 888, 1560, 1866, 892, 1843, 1086, 268, 1556, 181, 443, 17, 2051, 177, 384, 2041, 5110, 1185, 300, 84, 1393, 323, 378, 210, 2042, 799, 15536, 265, 909, 620, 102, 190, 1733, 487, 261, 358, 398, 338, 243, 1147, 40208, 283, 423, 3539, 242, 716, 428, 244, 684, 1584, 755, 503, 897, 144, 793, 278, 282, 1793, 380, 22, 347, 863, 643, 800, 262, 231, 936, 457, 180, 140, 48, 1435, 16, 864, 128, 1477, 908, 216, 636, 511, 154, 628, 20, 647, 155, 87, 613, 434, 757, 942, 558, 123, 330, 74, 1176, 615, 612, 733, 574, 176, 43, 1001, 248, 130, 240, 878, 586, 1128, 170, 48, 124, 2125, 323, 988, 1802, 8887, 371, 209, 440, 330, 730, 238, 422, 919, 16, 3123, 427, 246, 72, 308, 1047, 642, 1073, 1308, 347, 236, 1162, 2599, 4, 192, 433, 1892, 1325, 1770, 24, 787, 575, 651, 533, 95, 94, 99, 5867, 152, 3791, 113, 561, 260, 3020, 5048, 782, 134, 88, 3351, 219, 129, 523, 1286, 191, 262, 231, 517, 272, 140, 333, 1179, 7559, 154, 244, 48, 420, 104, 254, 91, 2088, 717, 365, 1116, 493, 192, 90, 318, 365, 550, 174, 330, 184, 228, 1641, 1453, 1982, 110, 855, 1014, 182, 78, 950, 208, 3233, 1767, 581, 2, 2994, 311, 306, 2646, 398, 533, 688, 1038, 224, 155, 336, 420, 114, 1054, 934, 114, 1236, 544, 298, 191, 982, 841, 206, 198, 158, 2659, 256, 487, 8000, 467, 394, 165, 75, 1484, 890, 199, 72, 732, 135, 231, 50, 282, 194, 709, 2571, 147, 801, 32184, 87, 94, 23, 501, 1398, 157, 195, 18, 289, 353, 819, 9, 545, 90, 300, 2006, 150, 93, 246, 1302, 1183, 2144, 421, 351, 52, 280, 504, 256, 647, 260, 1035, 647, 166, 240, 694, 1500, 267, 1410, 1524, 475, 260, 261, 224, 44, 1242, 203, 1576, 2604, 1476, 758, 264, 172, 3882, 149, 114, 157, 187, 122, 1124, 1306, 132, 73, 148, 27, 187, 672, 288, 436, 33704, 230, 88, 199, 1243, 156, 9, 103, 453, 276, 106, 767, 463, 2018, 173, 446, 407, 111, 80997, 223, 78, 367, 200, 120, 3, 988, 1148, 140, 2154, 879, 49, 16, 1163, 963, 789, 31, 273, 531, 141, 196, 943, 319, 1415, 224, 102, 455, 346, 44, 200, 235, 728, 478, 1164, 675, 337, 1111, 1396, 45, 127, 123, 569, 524, 576, 42, 64, 92, 417, 407, 833, 58, 96, 327, 54, 558, 4265, 7397, 106, 106, 171, 198, 915, 2016, 612, 356, 251, 477, 46, 78, 549, 2365, 1540, 970, 219, 4600, 402, 175, 1890, 111, 5377, 500, 244, 486, 46, 362, 996, 93, 2112, 1239, 532, 360, 416, 134, 164, 111, 646, 95, 71, 368, 41, 2927, 116, 64, 335, 97, 184, 73, 1145, 134, 336, 480, 2859, 2420, 66, 47, 506, 293, 223, 370, 91, 1363, 133, 88, 302, 39, 488, 164, 2690, 162, 1205, 493, 1138, 82, 927, 1255, 510, 256, 479, 269, 826, 146, 281, 372, 3283, 733, 282, 2367, 8894, 1229, 40, 72, 571, 59, 233, 237, 318, 888, 2556, 875, 2832, 188, 636, 2397, 29, 94, 1407, 1040, 50255, 396, 2030, 804, 330, 138, 152, 204, 146, 27, 840, 4024, 6393, 5476, 249, 285, 851, 1836, 833, 1749, 4276, 610, 642, 120, 1866, 413, 1204, 182, 172, 5001, 399, 294, 977, 177, 677, 5783, 994, 317, 346, 1573, 288, 3, 172, 1, 2047, 805, 6735, 4665, 583, 880, 214, 1031, 54, 189, 4280, 1064, 106, 81, 203, 609, 341, 618, 319, 1259, 4, 536, 4435, 196, 83, 464, 1489, 171, 322, 440, 262, 64, 194, 5325, 271, 113, 712, 24, 311, 32, 898, 763, 44, 146, 937, 239, 186, 540, 499, 245, 246, 539, 378, 778, 196, 652, 114, 477, 81, 1525, 2769, 274, 822, 2164, 307, 136, 236, 566, 158, 59, 99, 264, 33, 440, 358, 61, 165, 1563, 185, 8975, 2250, 693, 10159, 135, 78, 182, 33, 249, 271, 56, 164, 12, 91, 827, 140, 409, 60, 585, 1253, 600, 3840, 1069, 463, 12, 753, 600, 424, 104, 320, 184, 157, 925, 283, 239, 62, 102, 73, 419, 522, 833, 629, 262, 2034, 1408, 281, 298, 436, 886, 1029, 82, 121, 132, 440, 232, 721, 1413, 171, 3417, 493, 35, 993, 2114, 929, 341, 3158, 87, 288, 399, 173, 2540, 2169, 811, 145, 2725, 312, 1614, 791, 644, 1318, 92, 10, 1054, 266, 114, 172, 49, 304, 125, 35, 291, 1981, 333, 326, 816, 72, 88, 166, 865, 788, 182, 1379, 2423, 1832, 1040, 402, 43, 1233, 100, 860, 544, 360, 76, 294, 2164, 679, 819, 272, 597, 118, 186, 245, 1981, 6673, 176, 827, 108, 69, 235, 97, 421, 400, 146, 235, 750, 410, 229, 656, 28, 181, 951, 994, 998, 504, 106, 510, 533, 485, 2676, 1614, 184, 261, 122, 804, 592, 1855, 216, 1526, 430, 770, 318, 2164, 1506, 133, 1197, 759, 292, 295, 788, 24, 166, 78, 1049, 772, 1816, 786, 1859, 868, 921, 1746, 1131, 152, 618, 339, 459, 800, 815, 2, 693, 4837, 589, 50, 302, 219, 372, 68, 154, 334, 120, 80, 246, 130, 291, 792, 76, 983, 2730, 102, 1224, 126, 5182, 302, 81, 483, 212, 882, 82, 517, 104, 490, 242, 172, 778, 1111, 2856, 1001, 66, 1501, 100, 78, 526, 185, 480, 1122, 41, 866, 170, 290, 683, 241, 1296, 200, 144, 1328, 227, 161, 1167, 1254, 119, 191, 357, 268, 2850, 646, 884, 76, 1323, 147, 1176, 276, 24, 958, 89, 1905, 288, 128, 112, 406, 741, 1532, 185, 1651, 1742, 203, 131, 55, 224, 474, 105, 1822, 150, 611, 3370, 616, 75, 106, 213, 168, 110, 193, 43, 252, 232, 141, 410, 367, 36, 394, 161, 159, 844, 1778, 79, 430, 179, 48, 1877, 1364, 118, 559, 1203, 520, 404, 72, 1140, 294, 67, 387, 678, 149, 575, 144, 11491, 41, 1005, 372, 1402, 1896, 3888, 1146, 634, 373, 776, 844, 60, 142, 120, 16, 375, 315, 1269, 3128, 152, 5967, 489, 56, 66, 346, 1657, 216, 1401, 112, 795, 113, 1200, 1006, 166, 153, 202, 161, 335, 157, 191, 2701, 4777, 150, 1391, 540, 152, 749, 408, 85, 367, 86, 2076, 663, 25649, 25, 150, 88, 201, 1902, 542, 1068, 7612, 480, 320, 241, 2005, 254, 310, 1097, 701, 117, 32748, 726, 787, 3, 105, 616, 306, 738, 2100, 114, 4302, 289, 1876, 265, 2253, 459, 407, 3094, 34, 9474, 624, 190, 292, 207, 185, 1693, 90, 103, 246, 1496, 504, 2119, 198, 443, 1122, 69993, 1203, 219, 243, 66, 222, 826, 170, 537, 236, 799, 227, 1095, 220, 306, 116, 787, 1675, 462, 178, 338, 1061, 191, 191, 428, 1134, 2013, 155, 229, 79, 394, 711, 17, 160, 376, 486, 1664, 556, 139, 359, 289, 3534, 214, 64549, 2753, 254, 135, 243, 416, 102, 1236, 365, 519, 1034, 872, 90, 82, 310, 488, 2138, 1526, 136, 103, 136, 6, 700, 134, 194, 134, 341, 58, 210, 86, 150, 719, 1048, 1763, 349, 101, 306, 635, 146, 817, 146, 518, 2632, 159, 905, 95, 308, 77, 1994, 138, 258, 88, 5927, 123, 458, 1671, 676, 1631, 828, 1009, 3101, 550, 229, 4400, 1176, 144, 103, 4151, 74, 169, 232, 723, 2560, 1808, 2496, 238, 140, 224, 331, 127, 60, 514, 265, 554, 1198, 79, 1629, 158, 334, 644, 840, 182, 280, 49, 250, 474, 71, 1793, 323, 30, 487, 399, 150, 3112, 2509, 1409, 41, 1116, 1399, 616, 1525, 130, 797, 604, 596, 1033, 93, 1916, 110, 772, 1690, 1487, 672, 8360, 932, 9775, 207, 729, 96, 1367, 145, 1956, 2478, 1773, 134, 672, 231, 184, 779, 1756, 93, 93, 1266, 109, 1353, 590, 343, 963, 3899, 144, 91, 17, 246, 215, 92, 384, 3072, 83, 2466, 576, 1595, 792, 300, 2162, 645, 1469, 3576, 493, 93, 463, 422, 8439, 238, 108, 1029, 861, 89, 3412, 29, 12, 320, 3957, 192, 1869, 3320, 2091, 708, 239, 398, 12, 395, 144, 128, 1186, 1862, 365, 287, 58, 512, 72, 507, 397, 34, 354, 67, 200, 910, 211, 74, 836, 46, 232, 341, 178, 498, 1758, 736, 752, 478, 727, 2057, 4177, 350, 790, 30, 67, 1031, 408, 1247, 667, 496, 92, 12, 208, 348, 88, 518, 1879, 285, 23071, 113, 52, 1, 398, 114, 1733, 53, 84, 197, 842, 19256, 2706, 127, 104, 1988, 100, 2638, 810, 5757, 174, 542, 111, 1401, 182, 1047, 221, 98, 401, 45, 314, 32, 379, 854, 167, 481, 30, 980, 79, 416, 393, 109, 161, 405, 130, 288, 229, 190, 171, 73, 24, 63, 407, 26, 173, 223, 185, 289, 473, 187, 756, 2516, 430, 50, 1160, 72, 306, 140, 108, 1594, 249, 789, 478, 82, 262, 1754, 40, 9755, 252, 38, 75, 168, 144, 30546, 366, 616, 2234, 273, 1, 287, 84, 41, 560, 128, 301, 1556, 2571, 80, 160, 152, 525, 37, 176, 519, 1568, 106, 342, 499, 397, 682, 98, 183, 10, 261, 43, 414, 25, 497, 133, 2298, 221, 363, 78, 93, 220, 1581, 126, 60, 71, 285, 68, 157, 1029, 300, 55, 7, 736, 184, 78, 67, 42, 253, 561, 611, 234, 20, 148, 3819, 33, 282, 1033, 142, 127, 40, 302, 2455, 211, 88, 258, 955, 396, 384, 1027, 108, 189, 6, 1311, 260, 288, 3108, 190, 1464, 1878, 145, 7432, 642, 195, 621, 312, 265, 106, 3907, 109, 4252, 1392, 2518, 419, 825, 1686, 149, 88, 64124, 362, 46, 128, 84, 4237, 86, 255, 72, 55, 848, 618, 2882, 125, 31, 450, 1234, 594, 804, 144, 188, 48, 824, 1350, 349, 379, 38, 5557, 1276, 570, 1343, 2625, 153, 203, 310, 332, 355, 255, 266, 301, 354, 139, 294, 812, 184, 254, 382, 594, 61, 409, 481, 3184, 1220, 50, 283, 710, 983, 1360, 1721, 146, 371, 60, 183, 1168, 566, 140, 140, 339, 124, 632, 433, 4074, 111, 581, 43, 1200, 192, 58, 1398, 359, 101, 232, 118, 200, 491, 584, 885, 288, 791, 335, 2948, 69, 3244, 3466, 21, 238, 2488, 1316, 821, 302, 4, 1578, 403, 622, 795, 126, 1051, 1017, 1788, 166, 511, 128, 199, 7824, 239, 74, 1041, 714, 1478, 146, 182, 1468, 311, 2, 76, 101, 2050, 80, 88, 186, 68, 66, 45, 54, 103, 1397, 1586], \"xaxis\": \"x\", \"yaxis\": \"y\"}, {\"type\": \"histogram\", \"x\": [1, 182, 31, 73, 17, 85, 4, 58, 13, 59, 131, 19, 248, 129, 10, 266, 23, 85, 22, 11, 167, 63, 52, 14, 33, 17, 77, 219, 40, 104, 87, 99, 27, 10, 100, 32, 100, 64, 27, 156, 126, 85, 59, 5, 11, 5, 54, 105, 77, 105, 109, 26, 61, 38, 18, 714, 192, 34, 29, 45, 39, 125, 30, 36, 30, 31, 294, 97, 11, 235, 108, 420, 50, 36, 16, 199, 98, 11, 12, 176, 4, 57, 26, 22, 191, 8, 354, 22, 43, 15, 90, 125, 62, 38, 35, 62, 83, 29, 47, 38, 460, 339, 168, 424, 36, 233, 300, 36, 31, 154, 217, 75, 346, 55, 15, 245, 26, 20, 22, 77, 14, 23, 61, 149, 147, 9, 23, 21, 69, 7, 33, 34, 35, 51, 16, 26, 284, 124, 18, 152, 38, 12, 106, 144, 71, 18, 92, 66, 17, 16, 63, 34, 261, 21, 273, 478, 52, 19, 50, 69, 8, 5, 57, 10, 20, 191, 121, 33, 11, 21, 105, 16, 168, 21, 9, 19, 446, 188, 34, 60, 28, 11, 88, 147, 114, 29, 24, 15, 22, 247, 96, 87, 11, 4, 10, 35, 68, 26, 18, 21, 118, 27, 206, 132, 62, 64, 28, 12, 2, 16, 101, 60, 106, 65, 19, 153, 20, 105, 32, 42, 11, 90, 92, 467, 11, 18, 38, 86, 294, 230, 41, 64, 31, 101, 101, 390, 39, 22, 53, 10, 47, 24, 31, 73, 45, 121, 21, 31, 20, 9, 48, 43, 38, 126, 47, 36, 5, 13, 230, 37, 3, 33, 161, 101, 92, 10, 42, 83, 45, 165, 48, 52, 638, 525, 344, 105, 157, 7, 171, 72, 16, 32, 39, 37, 27, 41, 268, 53, 12, 21, 88, 334, 33, 157, 208, 77, 133, 38, 259, 21, 69, 55, 19, 39, 354, 161, 53, 69, 53, 24, 124, 139, 46, 26, 274, 12, 22, 4, 43, 4, 11, 38, 27, 134, 222, 103, 4595, 199, 15, 53, 197, 63, 4, 4, 371, 97, 95, 69, 18, 45, 310, 32, 12, 55, 66, 50, 149, 25, 103, 84, 59, 14, 20, 4, 21, 2, 25, 24, 45, 14, 13, 8, 25, 28, 25, 31, 15, 2, 47, 29, 4, 14, 59, 6, 46, 5, 25, 91, 25, 56, 11, 38, 9, 27, 24, 18, 175, 12, 123, 314, 113, 420, 34, 103, 52, 27, 91, 51, 50, 17, 78, 110, 3, 314, 46, 5, 3, 95, 26, 538, 107, 11, 66, 4, 2, 85, 154, 47, 10, 7, 13, 42, 7, 71, 82, 5, 82, 3, 34, 22, 4, 116, 10, 72, 63, 2, 91, 75, 24, 50, 22, 107, 2, 50, 28, 720, 28, 29, 30, 45, 84, 8, 25, 82, 106, 129, 62, 120, 9, 47, 99, 75, 30, 23, 97, 116, 215, 23, 63, 79, 17, 180, 19, 238, 16, 95, 109, 10, 19, 5, 151, 305, 8, 22, 9, 20, 20, 28, 4, 76, 28, 92, 64, 13, 31, 27, 61, 3, 59, 28, 31, 339, 7, 6, 404, 26, 4, 14, 3, 89, 219, 109, 176, 47, 1, 458, 131, 40, 40, 26, 45, 10, 99, 71, 11, 37, 27, 48, 28, 43, 13, 33, 18, 35, 172, 136, 14, 403, 18, 76, 8, 8, 15, 10, 11, 69, 14, 48, 15, 2, 425, 9, 7, 22, 112, 358, 6, 6, 1024, 73, 18, 22, 1818, 155, 21, 25, 159, 24, 6, 423, 572, 1, 8, 304, 8, 20, 1, 58, 10, 47, 145, 200, 120, 30, 76, 79, 1, 50, 55, 235, 140, 15, 2, 44, 3, 7, 98, 1, 127, 704, 63, 170, 46, 135, 23, 3, 6, 17, 4, 319, 86, 74, 15, 85, 87, 79, 121, 4, 8, 79, 42, 41, 65, 131, 13, 32, 46, 43, 314, 72, 17, 265, 11, 94, 181, 1, 79, 37, 2, 29, 63, 29, 3, 110, 226, 119, 46, 57, 8, 149, 321, 22, 56, 142, 90, 5, 4, 5, 21, 66, 5, 108, 32, 16, 9, 2, 10, 611, 207, 43, 58, 36, 31, 21, 67, 13, 58, 27, 16, 141, 25, 26, 23, 36, 13, 38, 87, 8, 9, 11, 1677, 91, 187, 211, 440, 316, 1, 96, 15, 16, 30, 8, 46, 9, 85, 37, 7, 13, 187, 42, 31, 54, 10, 5, 59, 2, 5, 20, 81, 1, 21, 81, 1, 54, 107, 72, 26, 78, 62, 87, 124, 20, 476, 106, 11, 25, 21, 75, 12, 108, 17, 17, 53, 21, 268, 51, 19, 54, 134, 42, 19, 119, 20, 8, 14, 16, 40, 16, 24, 51, 32, 42, 90, 29, 23, 166, 60, 10, 128, 1, 29, 14, 39, 23, 158, 37, 53, 97, 172, 15, 152, 35, 35, 51, 13, 1, 155, 21, 43, 38, 26, 39, 3, 11, 27, 478, 28, 18, 24, 19, 28, 304, 16, 8, 104, 127, 78, 157, 29, 74, 67, 49, 46, 10, 101, 12, 167, 54, 13, 59, 195, 19, 71, 443, 2, 17, 46, 63, 382, 17, 27, 9, 41, 17, 99, 302, 10, 260, 21, 64, 86, 58, 79, 15, 109, 11, 10, 8, 23, 69, 34, 422, 14, 86, 50, 8, 18, 48, 35, 19, 42, 65, 52, 18, 17, 22, 215, 26, 162, 12, 44, 115, 15, 10, 4, 59, 44, 141, 38, 8, 93, 436, 5, 172, 27, 6, 223, 15, 22, 66, 76, 296, 179, 25, 37, 87, 98, 124, 51, 4, 109, 136, 34, 175, 33, 14, 82, 49, 83, 38, 176, 44, 85, 27, 341, 33, 26, 46, 126, 83, 23, 10, 53, 24, 8, 174, 21, 87, 58, 16, 128, 26, 166, 40, 247, 19, 99, 23, 27, 43, 98, 226, 74, 201, 23, 44, 13, 19, 81, 19, 92, 59, 71, 11, 146, 188, 62, 63, 101, 8, 40, 66, 28, 146, 5, 79, 23, 96, 6, 63, 166, 56, 49, 16, 108, 104, 53, 13, 12, 87, 470, 9, 25, 6, 65, 25, 16, 195, 57, 3, 30, 39, 8, 6, 9, 53, 568, 90, 12, 14, 197, 1, 134, 28, 20, 48, 51, 336, 8, 13, 10, 105, 21, 102, 12, 60, 43, 28, 85, 6, 104, 42, 20, 63, 43, 38, 33, 196, 191, 30, 3, 23, 34, 321, 41, 72, 25, 1, 28, 24, 9, 76, 35, 12, 342, 142, 117, 25, 57, 70, 7, 15, 208, 368, 135, 119, 177, 22, 197, 9, 57, 17, 115, 31, 7, 31, 45, 11, 13, 349, 39, 33, 23, 60, 17, 137, 13, 10, 7, 76, 12, 35, 13, 36, 69, 57, 176, 28, 24, 36, 59, 96, 40, 46, 10, 93, 15, 74, 3, 29, 55, 19, 174, 1, 206, 20, 9, 55, 5, 101, 93, 81, 23, 110, 14, 11, 28, 76, 139, 20, 30, 7, 61, 33, 307, 115, 336, 23, 18, 104, 7, 3, 36, 165, 178, 65, 142, 59, 28, 16, 19, 40, 15, 110, 27, 21, 27, 118, 17, 12, 19, 43, 149, 26, 122, 148, 33, 18, 30, 28, 7, 20, 117, 41, 11, 21, 27, 9, 17, 58, 16, 23, 31, 26, 9, 7, 45, 49, 45, 11, 5, 3, 160, 35, 39, 137, 20, 25, 33, 152, 92, 12, 11, 35, 2, 626, 149, 15, 11, 28, 338, 10, 15, 54, 11, 111, 107, 16, 349, 13, 234, 41, 16, 84, 5, 121, 155, 86, 208, 15, 39, 47, 171, 84, 30, 42, 11, 34, 39, 20, 161, 66, 39, 22, 28, 31, 16, 6, 15, 243, 250, 143, 89, 66, 38, 28, 92, 6, 235, 21, 209, 6, 14, 32, 85, 488, 54, 210, 56, 4, 6, 10, 1106, 284, 8, 202, 111, 80, 7, 52, 24, 324, 13, 43, 46, 42, 65, 12, 4, 153, 29, 181, 450, 69, 589, 14, 1, 214, 105, 5111, 21, 250, 26, 35, 79, 21, 74, 123, 34, 9, 155, 10, 160, 34, 15, 72, 3, 159, 5, 167, 15, 44, 46, 52, 67, 200, 28, 134, 47, 26, 66, 40, 22, 7, 11, 210, 5, 3, 28, 26, 49, 52, 6, 1400, 48, 41, 1204, 108, 25, 52, 29, 25, 52, 58, 29, 26, 149, 31, 42, 327, 165, 240, 24, 3, 65, 265, 259, 42, 579, 7, 6, 39, 2, 37, 44, 24, 20, 10, 87, 102, 112, 9, 67, 108, 59, 100, 12, 7, 21, 193, 41, 60, 118, 67, 175, 40, 50, 115, 35, 159, 79, 15, 9, 8, 112, 42, 10, 16, 141, 108, 75, 20, 8, 111, 78, 53, 106, 111, 5, 52, 143, 17, 31, 55, 29, 10, 33, 29, 64, 225, 8, 156, 32, 27, 280, 9, 16, 47, 101, 237, 100, 61, 5, 62, 1637, 143, 3, 13, 17, 105, 33, 180, 117, 20, 87, 8, 101, 24, 31, 123, 36, 8, 12, 259, 28, 26, 15, 162, 63, 90, 31, 14, 6, 129, 21, 71, 6, 60, 18, 31, 18, 1, 47, 6, 9, 11, 33, 41, 55, 118, 41, 69, 524, 8, 4, 4, 75, 11, 46, 56, 131, 59, 14, 7, 140, 186, 45, 286, 5, 350, 73, 87, 25, 182, 20, 103, 8, 73, 107, 54, 193, 14, 43, 23, 97, 590, 14, 124, 206, 29, 27, 222, 3, 1, 224, 17, 144, 17, 382, 12, 9, 5, 9, 32, 55, 51, 63, 93, 293, 70, 20, 258, 40, 109, 62, 22, 970, 4, 37, 16, 180, 240, 6, 130, 72, 90, 43, 281, 7, 29, 42, 19, 10, 18, 13, 30, 144, 9, 14, 47, 144, 46, 30, 17, 120, 7, 6, 19, 29, 193, 194, 7, 10, 624, 164, 107, 799, 316, 96, 57, 68, 23, 12, 73, 101, 18, 16, 4, 17, 12, 203, 291, 972, 18, 229, 216, 64, 62, 519, 330, 19, 10, 19, 32, 76, 111, 5, 72, 114, 399, 366, 4, 56, 48, 10, 58, 113, 216, 21, 16, 74, 69, 423, 127, 4, 33, 12, 29, 270, 235, 1, 123, 24, 17, 6, 330, 100, 29, 19, 383, 3, 197, 164, 152, 53, 102, 55, 50, 25, 7, 2, 2700, 86, 20, 4, 3, 16, 20, 26, 92, 21, 134, 13, 53, 122, 24, 152, 41, 8, 20, 28, 16, 172, 106, 7, 2, 31, 26, 30, 2076, 30, 199, 102, 29, 237, 49, 80, 126, 29, 253, 30, 4, 168, 99, 90, 14, 573, 170, 132, 61, 74, 102, 42, 258, 7, 2, 421, 15, 327, 13, 50, 71, 68, 8, 130, 22, 210, 8, 115, 335, 347, 22, 415, 1, 28, 196, 139, 357, 25, 339, 10, 71, 55, 237, 37, 29, 278, 52, 10, 71, 501, 45, 147, 202, 194, 17, 54, 60, 89, 59, 26, 69, 18, 89, 5, 30, 41, 235, 38, 19, 71, 102, 5, 11, 21, 6, 39, 135, 5, 1090, 52, 9, 60, 117, 35, 41, 27, 6, 15, 3, 30, 6, 46, 2, 14, 80, 6, 1141, 12, 13, 385, 59, 44, 12, 47, 11, 235, 255, 30, 53, 4, 63, 48, 13, 29, 2, 70, 29, 121, 17, 42, 40, 67, 6, 108, 4, 138, 145, 130, 13, 388, 21, 28, 143, 9, 127, 20, 66, 60, 58, 11, 6, 48, 11, 4, 99, 36, 144, 71, 13, 98, 28, 47, 124, 47, 17, 11, 53, 15, 18, 6, 20, 10, 7, 33, 73, 23, 498, 43, 55, 116, 96, 20, 355, 69, 17, 165, 9, 30, 5675, 27, 87, 12, 77, 45, 57, 78, 44, 10, 11, 128, 41, 17, 87, 10, 364, 34, 170, 3, 14, 63, 19, 20, 138, 55, 85, 12, 42, 59, 27, 312, 5, 198, 13, 83, 38, 6, 37, 34, 160, 18, 32, 21, 11, 72, 216, 8, 41, 87, 4, 40, 61, 26, 75, 77, 115, 158, 1119, 144, 12, 182, 20, 128, 35, 20, 20, 31, 70, 472, 135, 562, 155, 72, 61, 35, 48, 7, 111, 52, 510, 394, 27, 127, 130, 1502, 67, 5, 3, 453, 12, 206, 22, 97, 3, 78, 143, 30, 71, 114, 25, 276, 237, 121, 403, 57, 5, 155, 42, 82, 104, 70, 1, 26, 54, 42, 27, 49, 440, 47, 33, 5, 15, 57, 145, 23, 30, 26, 108, 47, 11, 25, 3, 23, 3, 8, 35, 69, 101, 100, 16, 60, 28, 35, 84, 100, 197, 21, 45, 79, 1, 14, 21, 28, 82, 106, 15, 127, 16, 102, 84, 22, 52, 29, 73, 9, 68, 13, 80, 26, 14, 217, 67, 91, 28, 20, 23, 343, 271, 22, 85, 55, 125, 7, 710, 4, 29, 103, 27, 41, 5, 5, 110, 11, 23, 3, 93, 6, 16, 29, 63, 21, 19, 91, 212, 51, 19, 310, 1, 32, 10, 13, 69, 142, 9, 37, 9, 42, 20, 52, 5, 24, 110, 35, 2, 166, 9, 117, 5, 5, 20, 14, 23, 8, 58, 125, 23, 31, 14, 143, 15, 99, 50, 49, 78, 110, 22, 34, 89, 33, 6, 350, 111, 44, 53, 18, 47, 6, 7, 34, 77, 19, 10, 12, 23, 82, 6, 11, 2, 41, 274, 63, 47, 41, 52, 12, 19, 16, 139, 3, 20, 88, 58, 204, 103, 25, 194, 39, 192, 7, 28, 243, 31, 23, 58, 12, 19, 2379, 47, 1, 24, 37, 1, 33, 16, 36, 95, 42, 49, 29, 10, 57, 13, 35, 16, 99, 36, 86, 17, 24, 21, 26, 20, 17, 5, 9, 72, 5, 225, 63, 14, 519, 551, 13, 7, 16, 29, 114, 44, 95, 4, 94, 27, 132, 3, 117, 194, 36, 8, 302, 41, 12, 31, 10, 1, 84, 12, 85, 7, 14, 6, 73, 50, 12, 42, 8, 53, 153, 34, 122, 99, 10, 39, 48, 192, 28, 8, 53, 6, 2, 17, 292, 306, 6, 82, 10, 41, 55, 29, 329, 45, 25, 62, 2, 382, 219, 5, 9, 28, 60, 30, 58, 286, 25, 60, 58, 7, 58, 11, 7, 157, 97, 57, 52, 24, 24, 77, 76, 11, 29, 46, 45, 98, 88, 188, 86, 2, 50, 154, 35, 297, 125, 15, 512, 68, 213, 70, 13, 97, 164, 46, 92, 1, 160, 7, 308, 178, 15, 27, 214, 18, 185, 57, 10, 1, 178, 4, 163, 26, 672, 108, 228, 256, 83, 75, 24, 41, 15, 29, 28, 259, 81, 702, 115, 61, 29, 17, 56, 14, 899, 31, 20, 27, 1, 113, 8, 7, 53, 31, 323, 57, 215, 104, 168, 45, 39, 13, 51, 149, 44, 123, 31, 9, 29, 24, 5, 103, 77, 22, 14, 52, 410, 46, 2, 17, 67, 77, 13, 60, 16, 6, 43, 6, 423, 45, 3, 100, 16, 185, 19, 34, 64, 49, 155, 60, 167, 15, 25, 15, 25, 484, 119, 33, 238, 52, 35, 25, 2, 32, 21, 6, 21, 34, 47, 1, 48, 11, 90, 5, 9, 17, 116, 13, 1, 33, 12, 78, 155, 114, 21, 202, 33, 12, 110, 78, 53, 10, 166, 9, 19, 2, 12, 78, 22, 171, 18, 86, 237, 5, 117, 6, 55, 214, 288, 6, 53, 19, 35, 118, 7, 937, 128, 91, 69, 41, 11, 32, 302, 5, 70, 14, 10, 26, 72, 173, 8, 9, 88, 3, 62, 28, 93, 21, 10, 293, 411, 1, 28, 141, 192, 45, 9, 7, 37, 61, 180, 11, 27, 130, 10, 25, 7, 18, 21, 29, 20, 43, 14, 83, 267, 206, 25, 35, 75, 12, 42, 133, 8, 98, 119, 64, 1, 8, 262, 301, 31, 48, 208, 35, 89, 133, 41, 40, 72, 49, 123, 17, 62, 33, 1, 20, 68, 115, 51, 39, 68, 54, 273, 50, 10, 24, 167, 62, 27, 47, 8, 11, 138, 22, 97, 22, 30, 140, 80, 645, 14, 191, 142, 546, 147, 18, 20, 40, 45, 461, 15, 76, 128, 120, 129, 105, 29, 23, 49, 18, 12, 12, 93, 62, 41, 11, 24, 86, 4, 51, 116, 74, 30, 150, 249, 7, 267, 19, 155, 12, 40, 143, 60, 25, 11, 21, 12, 21, 115, 74, 12, 7, 18, 76, 1, 14, 6, 2, 29, 60, 19, 98, 41, 91, 98, 183, 42, 7, 28, 122, 84, 20, 11, 35, 4, 176, 24, 98, 65, 49, 43, 97, 113, 270, 37, 14, 140, 27, 52, 3, 552, 35, 130, 506, 9, 103, 218, 8, 385, 33, 90, 86, 212, 94, 139, 145, 182, 235, 32, 28, 160, 46, 76, 101, 64, 28, 32, 16, 242, 29, 100, 1137, 22, 55, 39, 26, 65, 6, 71, 39, 83, 8, 312, 10, 34, 84, 70, 8, 68, 121, 180, 64, 23, 74, 102, 33, 21, 23, 1, 129, 1, 21, 10, 227, 31, 38, 167, 39, 18, 51, 1, 63, 12, 10, 67, 39, 76, 57, 48, 29, 13, 6, 31, 48, 18, 354, 16, 30, 8, 284, 34, 30, 16, 30, 212, 38, 16, 11, 13, 117, 40, 89, 78, 338, 35, 21, 37, 31, 35, 30, 37, 117, 1, 224, 29, 22, 1, 18, 117, 29, 89, 130, 18, 14, 20, 474, 2, 6, 34, 98, 85, 125, 3, 69, 84, 23, 58, 15, 8, 11, 162, 11, 28, 15, 45, 31, 218, 295, 67, 11, 6, 134, 19, 15, 179, 111, 18, 35, 57, 98, 63, 19, 66, 46, 123, 23, 41, 6, 44, 14, 37, 15, 84, 97, 137, 96, 134, 8, 6, 47, 35, 37, 22, 46, 20, 19, 135, 662, 294, 51, 91, 90, 16, 7, 69, 24, 123, 270, 13, 2, 135, 18, 124, 258, 61, 45, 54, 133, 25, 67, 33, 6, 23, 107, 17, 11, 166, 109, 8, 17, 118, 79, 20, 27, 11, 162, 22, 41, 4, 42, 37, 16, 14, 151, 69, 19, 3, 56, 12, 37, 1, 118, 18, 319, 319, 39, 153, 45, 10, 11, 20, 153, 77, 15, 47, 2, 38, 92, 235, 9, 57, 8, 28, 94, 39, 31, 34, 109, 66, 662, 106, 81, 5, 53, 51, 18, 130, 76, 118, 228, 97, 111, 125, 5, 23, 108, 32, 102, 33, 59, 88, 4, 34, 45, 330, 83, 210, 82, 73, 29, 186, 60, 10, 23, 5, 62, 172, 232, 45, 35, 31, 7, 54, 71, 102, 51, 369, 18, 5, 21, 372, 9, 2, 6, 83, 8, 17, 109, 132, 282, 24, 174, 84, 63, 3, 36, 20, 40, 11, 14, 2, 99, 111, 9, 202, 135, 33, 3, 82, 236, 148, 2, 182, 170, 13, 18, 360, 28, 146, 17, 35, 53, 18, 19, 25, 42, 29, 39, 56, 50, 97, 95, 136, 15, 19, 11, 84, 86, 4, 3, 13, 13, 169, 35, 113, 6, 17, 40, 13, 156, 290, 183, 15, 14, 17, 30, 77, 4, 177, 31, 55, 45, 5, 3, 25, 981, 251, 32, 17, 84, 52, 17, 207, 11, 460, 56, 31, 19, 3, 18, 35, 5, 126, 87, 57, 42, 28, 9, 6, 14, 28, 8, 13, 33, 10, 216, 27, 53, 85, 12, 7, 10, 62, 31, 29, 34, 172, 276, 6, 10, 66, 30, 26, 33, 5, 96, 14, 9, 29, 5, 48, 23, 179, 20, 117, 64, 152, 9, 69, 94, 50, 12, 34, 27, 62, 14, 19, 24, 118, 69, 29, 261, 73, 208, 8, 2, 16, 9, 32, 53, 20, 160, 252, 6, 114, 98, 89, 163, 3, 10, 44, 30, 277, 62, 585, 62, 13, 12, 3, 60, 10, 21, 5, 308, 144, 270, 123, 27, 79, 402, 22, 447, 624, 93, 19, 2, 199, 45, 201, 27, 37, 225, 43, 151, 185, 46, 269, 660, 82, 28, 53, 125, 1, 1, 13, 1, 191, 242, 357, 449, 42, 69, 95, 25, 9, 34, 2, 170, 13, 7, 22, 42, 13, 89, 23, 706, 1, 34, 222, 54, 40, 145, 255, 26, 48, 158, 76, 50, 16, 333, 60, 17, 190, 3, 155, 5, 93, 320, 12, 16, 285, 66, 18, 164, 76, 24, 60, 98, 103, 67, 23, 149, 15, 28, 15, 449, 324, 28, 86, 188, 26, 38, 26, 28, 22, 8, 11, 23, 12, 47, 24, 10, 11, 165, 25, 266, 116, 63, 378, 11, 12, 14, 8, 19, 20, 9, 19, 2, 10, 52, 6, 26, 11, 128, 137, 7, 279, 112, 159, 3, 178, 1, 39, 38, 26, 101, 37, 135, 203, 99, 45, 69, 37, 162, 125, 79, 44, 60, 710, 208, 93, 151, 18, 547, 101, 8, 38, 57, 143, 9, 128, 327, 60, 672, 83, 14, 6, 209, 77, 54, 898, 53, 44, 62, 57, 241, 305, 281, 33, 249, 21, 19, 60, 42, 86, 16, 1, 54, 25, 16, 16, 7, 101, 14, 7, 26, 28, 21, 31, 42, 41, 2, 39, 89, 87, 22, 148, 407, 120, 3, 129, 7, 12, 1, 93, 37, 12, 4, 23, 169, 49, 44, 44, 52, 11, 15, 74, 217, 252, 16, 234, 7, 3, 9, 4, 153, 2, 11, 22, 28, 30, 28, 75, 22, 15, 70, 98, 102, 6, 22, 22, 65, 43, 318, 316, 43, 92, 13, 83, 62, 516, 5, 99, 70, 78, 62, 296, 143, 64, 140, 174, 77, 25, 28, 2, 8, 64, 81, 52, 162, 187, 96, 115, 63, 195, 125, 14, 74, 48, 211, 65, 42, 1, 90, 418, 117, 12, 30, 127, 39, 9, 10, 35, 18, 7, 9, 32, 40, 260, 14, 134, 27, 24, 52, 24, 478, 20, 15, 48, 35, 81, 9, 14, 14, 23, 20, 13, 67, 101, 229, 104, 5, 144, 10, 12, 54, 16, 15, 86, 4, 63, 15, 80, 128, 23, 73, 2, 10, 84, 61, 19, 237, 32, 29, 29, 96, 40, 152, 57, 13, 7, 211, 4, 157, 103, 9, 274, 25, 472, 63, 28, 49, 21, 47, 208, 47, 69, 541, 36, 25, 14, 29, 105, 19, 566, 15, 40, 400, 31, 9, 55, 69, 57, 39, 87, 18, 112, 78, 16, 124, 12, 23, 127, 80, 38, 6, 114, 27, 69, 15, 9, 94, 292, 45, 124, 142, 111, 102, 1, 135, 69, 51, 30, 57, 66, 79, 53, 66, 12, 55, 14, 24, 131, 473, 9, 73, 107, 200, 50, 6, 33, 6, 1, 28, 11, 543, 753, 9, 407, 183, 17, 32, 87, 500, 1, 215, 9, 71, 27, 8, 16, 19, 45, 59, 15, 132, 29, 35, 411, 468, 34, 111, 33, 87, 253, 57, 28, 69, 24, 418, 83, 109, 2, 51, 15, 47, 28, 78, 15, 213, 3, 62, 4, 27, 92, 38, 213, 59, 33, 198, 82, 113, 2, 13, 64, 41, 66, 6, 14, 269, 30, 206, 30, 117, 26, 43, 271, 2, 328, 39, 14, 43, 48, 54, 134, 9, 17, 5, 135, 1, 135, 9, 36, 277, 337, 100, 19, 61, 8, 17, 19, 54, 111, 29, 111, 27, 215, 9, 41, 5, 88, 78, 181, 14, 29, 82, 21, 24, 29, 76, 109, 12, 27, 10, 17, 40, 5, 18, 28, 38, 127, 52, 14, 88, 22, 366, 20, 963, 105, 6, 40, 87, 137, 11, 82, 30, 45, 73, 33, 6, 9, 19, 47, 253, 394, 14, 9, 13, 3, 75, 9, 25, 25, 145, 5, 6, 42, 43, 49, 2, 88, 106, 6, 34, 26, 46, 63, 49, 152, 165, 29, 299, 12, 25, 8, 411, 5, 50, 45, 440, 29, 35, 214, 23, 253, 201, 166, 213, 50, 83, 270, 55, 13, 9, 560, 11, 63, 59, 237, 576, 135, 312, 100, 14, 3, 78, 77, 4, 26, 33, 50, 315, 5, 123, 26, 39, 70, 297, 20, 35, 7, 5, 40, 8, 157, 51, 7, 91, 52, 8, 232, 259, 44, 22, 91, 82, 19, 158, 45, 86, 43, 18, 116, 15, 68, 11, 53, 110, 227, 27, 705, 78, 304, 16, 30, 11, 118, 15, 130, 286, 256, 19, 46, 16, 15, 35, 115, 19, 8, 142, 24, 74, 55, 31, 103, 382, 5, 35, 7, 23, 29, 10, 1, 245, 6, 274, 50, 115, 10, 40, 192, 66, 165, 218, 67, 18, 35, 43, 690, 25, 10, 97, 47, 15, 136, 6, 1, 35, 193, 1, 92, 741, 412, 95, 25, 19, 1, 75, 57, 21, 105, 310, 38, 54, 53, 156, 3, 194, 82, 12, 67, 13, 72, 134, 5, 14, 190, 10, 58, 46, 82, 111, 408, 104, 140, 10, 43, 61, 851, 141, 371, 17, 33, 48, 13, 220, 67, 30, 23, 2, 61, 61, 24, 169, 121, 56, 7847, 37, 5, 1, 51, 26, 297, 24, 15, 17, 15, 54, 199, 25, 58, 222, 11, 148, 102, 370, 9, 79, 40, 279, 10, 44, 46, 12, 26, 6, 26, 8, 145, 117, 64, 109, 10, 67, 21, 94, 34, 28, 16, 193, 16, 2, 114, 28, 32, 6, 19, 38, 34, 12, 58, 39, 38, 59, 80, 94, 23, 696, 145, 1, 31, 1, 21, 23, 5, 39, 65, 90, 21, 29, 77, 43, 12, 19, 2, 2, 20, 9, 1, 70, 71, 20, 485, 19, 1, 31, 7, 26, 249, 35, 104, 329, 68, 48, 85, 14, 31, 31, 15, 179, 296, 65, 21, 12, 146, 30, 48, 23, 1, 13, 38, 29, 5, 81, 2, 166, 93, 58, 40, 60, 22, 30, 32, 14, 28, 31, 32, 46, 123, 3, 29, 5, 191, 21, 21, 9, 5, 34, 112, 53, 96, 19, 19, 472, 7, 121, 127, 47, 7, 5, 20, 360, 19, 3, 18, 46, 27, 7, 137, 10, 37, 1, 470, 25, 18, 73, 13, 142, 227, 29, 127, 2, 17, 73, 1, 29, 7, 2, 39, 89, 36, 70, 21, 213, 108, 19, 41, 431, 38, 18, 39, 17, 444, 46, 26, 1, 28, 378, 74, 1279, 30, 17, 32, 364, 36, 196, 56, 47, 14, 70, 1, 20, 38, 8, 159, 15, 61, 43, 221, 10, 7, 16, 37, 38, 21, 25, 140, 34, 23, 39, 80, 24, 10, 37, 131, 9, 38, 54, 189, 31, 1, 30, 74, 97, 90, 119, 44, 37, 1, 17, 71, 68, 15, 7, 45, 16, 7, 141, 159, 32, 68, 19, 200, 32, 8, 134, 42, 43, 15, 13, 26, 31, 21, 114, 2, 64, 19, 272, 10, 271, 242, 5, 30, 164, 86, 124, 37, 1, 104, 49, 61, 88, 6, 104, 78, 175, 4, 47, 8, 21, 16, 98, 6, 118, 42, 134, 21, 13, 61, 46, 1, 7, 11, 166, 3, 11, 14, 8, 9, 10, 7, 12, 756, 70], \"xaxis\": \"x2\", \"yaxis\": \"y2\"}, {\"type\": \"histogram\", \"x\": [77183.6, 23.681318681318665, 57.97548387096774, 24.076027397260273, 19.67058823529412, 29.482823529411775, 22.25, 18.610344827586207, 35.33846153846154, 47.6513559322034, 47.38679389312974, 61.47684210526315, 25.695887096774214, 20.636124031007753, 18.99, 19.64748120300753, 24.0, 15.448235294117648, 29.153636363636362, 15.354545454545455, 21.231676646706575, 29.967619047619053, 24.962307692307697, 26.042857142857144, 22.513030303030302, 26.91176470588236, 21.14441558441558, 18.304200913242013, 21.30599999999999, 26.200096153846154, 21.210459770114948, 18.69252525252525, 21.67666666666667, 40.190000000000005, 27.806600000000003, 17.182499999999997, 4.608899999999999, 24.728125000000006, 47.12888888888889, 19.3501923076923, 19.12619047619048, 19.24305882352941, 18.790677966101697, 16.86, 20.509090909090908, 85.53999999999999, 31.6738888888889, 32.52666666666668, 22.18337662337662, 27.510000000000005, 101.584128440367, 26.666538461538458, 20.1127868852459, 19.95, 31.244999999999997, 174.95032212885118, 19.005729166666665, 19.664117647058816, 20.703103448275865, 17.934222222222225, 20.60410256410256, 14.874480000000002, 58.69866666666666, 21.58888888888889, 19.42433333333333, 26.63870967741936, 27.06278911564627, 38.66391752577321, 23.30909090909091, 27.606170212765953, 46.84555555555557, 31.847309523809503, 16.122799999999998, 217.49694444444438, 31.813125000000003, 24.881457286432145, 29.661734693877555, 15.77727272727273, 14.338333333333333, 28.440113636363638, 33.35, 17.58438596491228, 18.326538461538462, 20.42954545454546, 21.294712041884825, 24.735, 25.524067796610165, 19.57136363636364, 16.44395348837209, 235.22266666666667, 27.40955555555552, 25.448319999999985, 38.1166129032258, 24.931578947368422, 23.625142857142862, 19.186935483870972, 16.202168674698793, 41.794827586206885, 15.791276595744684, 19.198421052631577, 43.0957608695651, 19.386755162241897, 23.44375, 17.39573113207547, 20.093888888888888, 29.25502145922749, 44.06579999999997, 18.916388888888896, 17.006451612903227, 21.309285714285725, 25.789493087557616, 33.13306666666668, 13.126358381502893, 23.612, 22.328666666666663, 22.113999999999994, 17.707692307692312, 13.160499999999999, 19.715454545454545, 16.18311688311689, 74.50714285714285, 17.55217391304348, 69.80032786885246, 14.559664429530198, 25.332448979591835, 53.5611111111111, 3.195652173913045, 62.13380952380952, 5.772028985507247, 25.214285714285715, 29.774848484848487, 4.059705882352943, 17.494000000000003, 19.95450980392157, 23.98125, 50.46384615384615, 8.812816901408445, 16.587822580645156, 18.935555555555553, 17.330657894736845, 15.78105263157895, 16.060000000000002, 16.88462264150944, 31.150833333333328, 18.544507042253528, 19.37277777777778, 21.016086956521747, 25.186060606060597, 7.365882352941177, 21.864375, 17.28857142857143, 21.069117647058828, 48.28287356321841, 17.33095238095238, 20.396886446886427, 28.03397489539747, 18.868846153846157, 19.61578947368421, 20.007799999999996, 16.833333333333332, 25.975, 19.04, 16.926842105263148, 16.8, 21.891, 19.331308900523567, 4.989338842975204, 363.3624242424242, 24.541818181818186, 26.748095238095235, 20.323904761904764, 14.928125, 22.510357142857156, 21.75714285714286, 16.21333333333333, 18.507894736842108, 21.079103139013437, 21.939840425531912, 15.282647058823526, 17.007000000000005, 5.7335714285714285, 19.85909090909091, 14.952613636363633, 4.474829931972791, 24.513245614035082, 15.186896551724136, 17.320833333333333, 13.180666666666665, 23.24363636363636, 29.4792712550607, 24.355729166666663, 23.44942528735631, 17.903636363636362, 36.0, 21.490000000000002, 18.47657142857143, 145.0626470588236, 17.417307692307688, 24.31111111111111, 19.909523809523808, 28.28999999999999, 22.898888888888887, 18.501067961165056, 22.902121212121205, 16.654516129032267, 40.61000000000001, 20.609285714285715, 12.760000000000003, 369.59999999999997, 15.886249999999997, 15.63871287128713, 18.780833333333337, 19.80698113207548, 18.35876923076923, 37.054736842105264, 21.858692810457505, 15.779999999999998, 21.820857142857147, 22.290625, 8.465000000000005, 16.11909090909091, 40.458222222222226, 14.558804347826085, 29.31406852248394, 16.37272727272727, 16.950000000000003, 16.87184210526316, 31.207209302325577, 22.518639455782306, 19.47186956521739, 19.18195121951219, 19.857499999999998, 20.66129032258065, 21.425544554455442, 16.724554455445546, 15.440769230769233, 17.222820512820515, 22.095454545454547, 22.16188679245283, 18.59, 21.558723404255318, 139.36, 15.416451612903229, 24.31753424657535, 29.932666666666673, 30.767107438016538, 15.145238095238096, 20.11322580645161, 15.722, 12.66666666666667, 19.166249999999994, 51.39186046511629, 15.841578947368422, 32.15214285714287, 34.961276595744685, 19.056944444444447, 18.336000000000002, 18.853846153846156, 16.73817391304347, 131.9427027027027, 21.0, 18.791818181818183, 23.6468944099379, 27.168613861386145, 32.565760869565224, 22.59, 14.536190476190475, 23.742168674698803, 29.586444444444457, 106.83915151515153, 23.18791666666667, 16.592499999999998, 21.610564263322885, 23.40613333333333, 24.64119186046511, 21.74885714285714, 18.236178343949046, 12.734285714285715, 28.501812865497104, 17.327916666666667, 24.313124999999996, 32.36875, 21.94641025641025, 23.50459459459459, 21.55925925925926, 23.355853658536585, 18.43279850746271, 15.051132075471697, 18.25, 13.50238095238095, 26.600454545454546, 20.56374251497007, 18.285454545454545, 17.279681528662426, 46.81019230769227, 14.922337662337672, 33.05360902255639, 22.330263157894734, 18.180926640926618, 16.85047619047619, 15.267971014492748, 18.74509090909091, 12.539473684210527, 16.537179487179486, 16.332570621468932, 16.497701863354045, 18.823207547169808, 10.508260869565214, 19.460566037735845, 17.825, 21.041129032258066, 28.63812949640288, 18.18108695652174, 17.42346153846154, 68.96317518248176, 19.688333333333343, 17.452272727272728, 27.599999999999998, 18.129534883720925, 58.50000000000001, 14.122727272727273, 26.658947368421053, 15.837037037037033, 4.07783582089552, 95.85265765765763, 40.73796116504855, 7.338352557127381, 20.557185929648245, 18.392, 82.39207547169809, 108.77862944162436, 47.78952380952381, 952.9874999999998, 28.020000000000003, 21.178167115902962, 28.779278350515476, 16.12042105263159, 27.514782608695658, 27.448888888888888, 37.64177777777778, 22.547193548387096, 35.737500000000004, 112.62083333333332, 16.22672727272728, 21.000606060606067, 16.4446, 26.720536912751697, 33.06960000000001, 22.630291262135938, 26.49892857142857, 9.73593220338983, 22.282142857142855, 23.183, 22.962500000000002, 15.472380952380956, 96.30000000000001, 16.0216, 22.728333333333335, 19.120222222222218, 30.748571428571434, 19.540769230769232, 872.1299999999999, 17.103199999999998, 17.273214285714293, 19.572400000000002, 16.608064516129033, 15.30933333333333, 62.96, 22.6268085106383, 19.731034482758623, 41.51, 110.14857142857143, 15.971864406779659, 15.453333333333333, 20.62782608695652, 351.9, 15.884799999999998, 16.20571428571428, 17.206, 18.191250000000004, 26.636363636363637, 179.3326315789474, 23.894444444444446, 14.186296296296298, 17.39083333333333, 17.354444444444443, 14.930628571428564, 11.174999999999999, 5.553902439024386, 17.807070063694276, 24.13070796460176, 9.577023809523801, 32.9114705882353, 16.526796116504855, 6.268461538461537, 13.114444444444446, 9.577362637362636, 20.6056862745098, 2.703599999999999, 18.326470588235292, 25.09102564102564, 12.040909090909096, 12.700000000000001, 6.942452229299366, 24.052173913043486, 104.24000000000001, 49.04, 16.507684210526307, 21.50461538461538, 7.503382899628246, 15.019252336448606, 34.60363636363637, 9.090454545454543, 93.5, 171.61500000000004, 26.094352941176474, 9.972532467532472, 18.19127659574468, 57.322, 42.57142857142857, 112.54153846153842, 16.74928571428572, 44.15000000000001, 16.552394366197177, 16.809756097560978, 70.824, 4.639878048780488, 110.33333333333333, 5.533529411764706, 16.94545454545454, 54.125, 152.19431034482756, 13.868, 7.077499999999997, 46.34619047619046, 375.0, 23.941428571428574, 41.00053333333335, 69.2625, 49.672599999999996, 16.529545454545453, 28.094859813084117, 297.0, 26.703799999999998, 5.865357142857143, 23.037625000000027, 14.477857142857143, 6.102413793103448, 31.123333333333342, 15.42333333333333, 24.555952380952373, 14.731250000000001, 16.632, 512.8775609756096, 5.731415094339622, 16.74961240310077, 17.159677419354846, 12.535583333333337, 12.682222222222222, 246.42127659574467, 9.227676767676769, 9.118666666666668, 20.150333333333332, 20.12826086956522, 16.5359793814433, 17.801293103448273, 19.382418604651168, 80.1304347826087, 16.890000000000008, 17.56696202531646, 19.402941176470588, 26.42866666666666, 5.687894736842105, 16.88042016806724, 16.649375000000003, 19.54347368421052, 7.081743119266052, 16.018, 87.41578947368421, 27.189999999999998, 2.994966887417218, 36.688229508196706, 18.1, 33.57272727272727, 4.36, 368.745, 18.610999999999997, 13.947857142857142, 24.375, 16.30763157894737, 19.95357142857143, 5.818695652173914, 108.18921874999994, 31.500000000000004, 16.25032258064516, 15.361481481481478, 15.974098360655738, 70.44, 20.794745762711866, 16.281428571428567, 17.253225806451617, 28.964070796460213, 17.27857142857143, 24.84166666666667, 13.999777227722772, 19.75769230769231, 20.3925, 16.39071428571429, 16.85, 18.672359550561808, 21.967762557077627, 31.800733944954125, 19.012954545454555, 16.80617021276595, 204.0, 15.890174672489076, 19.97236641221374, 17.247500000000002, 24.383999999999993, 265.84615384615387, 14.696000000000002, 124.75, 8.075555555555557, 14.227887323943659, 17.32272727272727, 17.372162162162162, 34.143703703703714, 18.355625, 32.445, 15.743953488372096, 39.72461538461539, 16.983939393939398, 16.959999999999997, 17.980285714285714, 18.822906976744193, 13.499338235294113, 46.905714285714296, 14.483523573200992, 19.34166666666667, 15.979078947368421, 33.925, 22.925, 20.502000000000002, 24.861, 31.543636363636367, 16.224492753623196, 14.704285714285714, 9.808333333333335, 7.697333333333335, 172.0, 10.437929411764692, 25.422222222222224, 25.307142857142853, 41.80045454545455, 6.511339285714286, 35.27357541899441, 36.68333333333333, 9.68, 27.673222656250047, 49.50178082191782, 16.875, 18.912727272727274, 32.357442244224494, 57.48916129032258, 16.467619047619046, 19.1132, 49.26081761006289, 80.305, 12.4, 14.209030732860505, 50.493776223776244, 207.35999999999999, 12.648749999999998, 21.131875000000004, 30.4925, 54.924, 76.5, 26.40724137931035, 35.00599999999999, 16.734893617021278, 10.266689655172422, 61.22980000000001, 19.123166666666673, 16.704666666666668, 12.959342105263152, 15.162151898734171, 30.599999999999998, 5.674599999999998, 16.770727272727278, 16.45246808510637, 14.997428571428568, 17.278, 32.0, 24.393181818181812, 25.766666666666666, 15.685714285714287, 18.301836734693875, 3096.0, 20.532362204724407, 5.185241477272726, 15.276031746031748, 29.79376470588237, 9.211304347826086, 17.69444444444444, 13.35173913043478, 36.98333333333333, 103.08666666666666, 13.465294117647058, 178.20000000000002, 11.621065830721006, 19.48906976744186, 16.998243243243248, 32.41466666666667, 11.432470588235294, 20.014022988505737, 15.20329113924051, 11.883057851239675, 22.95, 14.09375, 21.37075949367088, 24.320952380952377, 10.17560975609756, 12.174307692307694, 10.070152671755725, 54.83692307692308, 3.6253125000000006, 10.18282608695652, 8.224418604651163, 8.97143312101911, 6.8450000000000015, 16.61470588235294, 21.60554716981133, 11.016363636363636, 42.104042553191505, 9.399392265193375, 71.4, 19.94797468354431, 6.3789189189189175, 57.300000000000004, 8.988965517241379, 14.475238095238097, 4.0648275862068965, 20.233333333333334, 16.343454545454545, 15.049734513274323, 82.4968067226891, 18.915, 15.253684210526314, 31.282500000000002, 8.214093959731542, 18.353925233644855, 16.067272727272726, 21.382499999999997, 5.549859154929576, 16.895333333333337, 66.748, 133.495, 12.528, 39.01380952380952, 12.839545454545457, 32.64, 19.962499999999995, 201.99500000000006, 6.7631250000000005, 28.633333333333333, 179.0, 16.095, 4.594058919803602, 6.558454106280201, 14.072558139534886, 17.777068965517238, 20.690277777777784, 22.6041935483871, 15.693333333333333, 9.905223880597017, 20.800000000000004, 10.346034482758622, 4.508888888888889, 26.90625, 14.094326241134757, 20.0448, 17.910769230769226, 30.93086956521739, 28.62222222222222, 30.73153846153846, 18.383684210526315, 3.3599999999999985, 69.70250000000001, 104.9, 18.20818181818182, 4.444883720930206, 23.16109890109891, 20.504064171122995, 21.428862559241708, 7.306113636363635, 16.918449367088606, 590.0, 2.264374999999999, 18.43733333333334, 8.686249999999998, 19.697666666666667, 32.3, 11.798478260869565, 15.305555555555555, 9.58658823529412, 30.598378378378374, 13.379999999999999, 15.476153846153846, 14.48727272727273, 8.597857142857142, 18.67548387096774, 16.180370370370365, 20.119999999999997, 17.48, 35.42118644067797, 180.0, 28.5, 18.594500000000004, 7.630740740740738, 63.75, 14.30571428571428, 24.701975308641966, 15.0, 25.657592592592593, 13.614859813084106, 15.722638888888891, 23.02192307692308, 19.93999999999999, 12.515161290322583, 68.70954022988508, 18.336129032258057, 32.038, 22.784768907563002, 14.610377358490569, 51.57818181818182, 7.9792, 37.516666666666666, 94.95933333333326, 56.275, 33.590462962962945, 76.96941176470588, 46.411764705882355, 21.526981132075463, 16.70952380952381, 13.197089552238799, 15.590588235294117, 25.632631578947368, 15.928148148148152, 80.1229850746268, 18.472619047619045, 18.60157894736842, 21.37579831932775, 19.475, 42.67, 16.697142857142858, 15.457499999999998, 24.477999999999998, 23.37125, 16.582500000000003, 14.579019607843144, 21.084375, 18.291428571428575, 6.777222222222224, 15.138965517241381, 19.111304347826085, 18.618915662650593, 16.54166666666667, 13.496, 17.38570312500001, 56.160000000000004, 21.49655172413793, 22.020000000000003, 19.355641025641035, 16.46260869565217, 20.96360759493671, 21.04459459459459, 19.240754716981137, 5.902680412371131, 21.158779069767444, 14.866000000000001, 27.315328947368418, 15.273428571428576, 19.34571428571429, 15.646274509803922, 41.85230769230769, 59.8, 16.258193548387094, 14.653333333333334, 31.650930232558135, 40.63499999999999, 17.590000000000003, 15.928974358974365, 25.0, 22.953636363636363, 21.201888888888885, 58.822259414225904, 35.823571428571434, 11.86388888888889, 57.9375, 37.50000000000001, 22.886785714285715, 20.156019736842097, 13.816249999999997, 19.98125, 17.79884615384615, 20.679527559055124, 20.823205128205124, 23.193121019108265, 20.089655172413792, 2.9522972972972967, 15.026865671641792, 13.866326530612247, 27.589130434782597, 53.424, 37.72168316831683, 16.407499999999995, 20.407544910179638, 5.253888888888889, 22.81846153846154, 19.137966101694918, 18.150615384615396, 15.362105263157895, 28.784788732394368, 6.718171557562075, 295.0, 20.998823529411766, 23.007391304347824, 28.0431746031746, 25.25280104712042, 10.790588235294118, 53.518518518518526, 16.833333333333332, 16.455609756097566, 18.111764705882354, 10.946565656565657, 18.89062913907285, 16.5, 9.736846153846146, 20.125714285714285, 3.5873437499999996, 16.648604651162803, 21.352931034482754, 18.41240506329113, 20.063333333333333, 16.555596330275222, 16.785454545454545, 14.034000000000002, 39.224999999999994, 19.749565217391304, 16.266811594202895, 16.923529411764708, 21.25191943127961, 32.10857142857143, 14.137441860465115, 25.396800000000013, 77.32875, 17.57, 42.601458333333326, 18.666571428571427, 18.318421052631578, 27.59785714285714, 17.950307692307696, 25.77538461538461, 16.22222222222222, 12.755882352941175, 13.451363636363636, 20.43548837209302, 17.635384615384616, 15.30345679012345, 9.2475, 22.26636363636364, 15.578782608695638, 16.747333333333334, 20.509999999999998, 38.050000000000004, 15.103728813559327, 31.577500000000008, 15.09517730496454, 17.35368421052631, 15.34375, 38.971505376344076, 2.5083715596330283, 25.160000000000004, 23.051627906976748, 25.191851851851855, 104.79666666666667, 10.257892376681617, 20.517333333333333, 21.990909090909096, 3.186515151515149, 3.5630263157894753, 19.831351351351405, 19.26418994413407, 51.233999999999995, 17.063243243243246, 3.3495402298850565, 6.397857142857141, 5.503306451612903, 18.003921568627447, 22.950000000000003, 34.31256880733946, 30.509411764705902, 17.17823529411765, 3.4574857142857134, 5.283939393939395, 10.132857142857144, 21.94304878048779, 15.867959183673472, 21.072530120481932, 6.3215789473684225, 4.96994318181818, 4.382954545454546, 4.397058823529411, 8.870000000000001, 6.1358357771261005, 41.946969696969695, 11.323076923076922, 15.914565217391297, 53.31222222222223, 20.332530120481913, 20.30608695652174, 11.799999999999999, 14.736415094339627, 5.9333333333333345, 89.05, 14.24683908045976, 18.07857142857143, 22.780689655172406, 19.260862068965523, 15.497499999999997, 15.914687500000007, 15.268076923076922, 4.199036144578313, 4.5042500000000025, 20.865060728744933, 11.553684210526315, 7.003232323232325, 18.647391304347824, 6.086666666666667, 6.524186046511627, 6.918469387755098, 5.008318584070799, 15.835135135135138, 8.012238805970155, 18.1604347826087, 12.367727272727272, 13.641538461538463, 11.255263157894737, 9.231851851851856, 13.538421052631577, 17.809456521739133, 132.07389830508475, 28.616619718309863, 279.1290909090909, 14.529246575342466, 8.378510638297874, 17.27467741935484, 15.065396825396824, 8.024752475247523, 15.330000000000002, 25.833500000000004, 5.375757575757574, 18.551428571428573, 17.974383561643844, 50.42, 21.2420253164557, 15.069565217391307, 19.128541666666667, 15.700000000000001, 17.38222222222222, 16.309216867469875, 16.660178571428577, 7.74795918367347, 23.883749999999996, 24.436759259259293, 15.126923076923084, 16.938867924528303, 14.574615384615385, 7.054166666666668, 3.5059770114942506, 13.539553191489327, 24.283333333333335, 13.988000000000007, 31.064999999999998, 6.106461538461537, 19.472800000000003, 14.537500000000003, 19.08933333333334, 14.523333333333333, 19.833333333333332, 2.2410000000000005, 79.98564102564106, 9.0, 151.66666666666666, 19.13888888888889, 28.08150943396227, 114.50637323943667, 27.823666666666654, 12.608333333333334, 22.041428571428572, 11.498071065989842, 99.5, 17.224328358208943, 25.42357142857143, 16.539499999999997, 16.80020833333334, 5.8211764705882345, 18.833482142857154, 22.560000000000002, 19.38923076923077, 22.883999999999997, 10.279428571428568, 6.584761904761905, 14.166764705882356, 25.545833333333334, 17.361333333333334, 18.602325581395345, 18.719285714285714, 27.94600000000001, 33.30833333333334, 19.043846153846157, 25.706190476190482, 16.674000000000003, 16.129206349206346, 17.502325581395343, 16.06815789473684, 14.904848484848486, 14.720612244897946, 3.8319371727748686, 11.319999999999999, 72.3, 15.25, 19.659705882352938, 9.753956386292838, 32.721951219512185, 16.060555555555553, 12.001599999999998, 79.6, 33.86607142857142, 68.63583333333332, 32.91666666666666, 15.608947368421056, 21.178857142857144, 23.55, 6.319736842105267, 36.54591549295771, 27.26965811965813, 26.3764, 5.0314035087719295, 15.295000000000002, 43.81714285714286, 114.33066666666666, 7.316153846153847, 46.79445652173915, 20.714888888888883, 22.138235294117656, 6.396214689265538, 15.68181818181818, 131.86375634517756, 19.855555555555554, 6.315964912280702, 7.520000000000001, 7.930434782608689, 79.4448387096774, 32.91428571428572, 9.969032258064518, 7.75111111111111, 137.8181818181818, 15.04230769230769, 106.45802292263603, 17.66307692307693, 16.91878787878787, 14.121739130434781, 76.65700000000001, 16.29823529411765, 19.239343065693433, 71.12307692307692, 25.637999999999998, 16.085714285714285, 22.995526315789476, 12.920833333333334, 42.828857142857146, 62.65384615384615, 14.97222222222222, 19.809565217391295, 27.70385964912281, 22.882727272727262, 20.416785714285716, 15.957499999999996, 31.676388888888887, 6.536271186440678, 6.583333333333335, 23.9415, 36.93347826086956, 18.95, 4.43064516129032, 13.966000000000003, 29.77013513513513, 17.4, 13.268965517241377, 15.174000000000001, 14.275789473684213, 3.975459770114942, 85.0, 16.435048543689316, 18.081, 34.775555555555556, 15.728363636363646, 251.0, 15.227227722772279, 17.15569892473118, 32.73407407407407, 47.39739130434783, 73.72290909090908, 27.75, 19.65181818181818, 7.184285714285714, 16.393421052631584, 15.894676258992813, 15.289000000000001, 16.718666666666667, 20.81, 16.64409836065574, 96.74363636363637, 10.11384364820848, 24.095130434782615, 19.05729166666668, 16.93913043478261, 30.025000000000002, 17.18067307692308, 17.52857142857143, 39.080000000000005, 35.598055555555554, 19.513757575757577, 96.40179775280895, 18.32507692307692, 18.834366197183087, 13.349152542372885, 18.100000000000005, 15.222500000000002, 18.39736842105263, 15.14075, 27.793333333333333, 17.12554545454545, 23.443333333333335, 39.1, 20.911851851851853, 21.975169491525417, 18.303529411764703, 12.994166666666667, 20.44842105263158, 17.231395348837204, 19.242953020134227, 12.79384615384615, 19.422540983606545, 17.438581081081075, 18.98333333333333, 15.113333333333335, 40.428000000000004, 13.743214285714286, 24.607142857142854, 17.556500000000003, 15.716666666666669, 16.542682926829265, 20.35, 16.61857142857143, 17.206296296296294, 93.6277777777778, 19.843529411764703, 21.33672413793104, 19.2125, 26.469130434782603, 29.74516129032257, 14.483846153846153, 17.65, 10.237142857142857, 12.63444444444444, 17.125306122448983, 113.62133333333334, 51.051818181818184, 18.119999999999997, 33.99999999999999, 15.170749999999984, 21.287428571428574, 17.293589743589738, 23.730445255474454, 175.78400000000002, 17.5968, 9.786666666666665, 6.752763157894739, 6.502173913043477, 19.185, 15.413636363636364, 18.986857142857144, 40.35, 14.463162939297128, 18.511812080536913, 12.683333333333339, 24.063636363636363, 14.771071428571428, 7.47420118343195, 35.79800000000001, 13.119333333333334, 16.108703703703707, 18.194545454545455, 16.863153153153153, 24.3311214953271, 57.53187500000001, 20.22959885386821, 24.650769230769235, 17.726324786324792, 30.879999999999992, 19.45625, 10.190119047619046, 15.36, 28.647603305785125, 14.923483870967747, 16.2056976744186, 18.75870192307694, 42.37733333333334, 52.38666666666666, 11.270851063829788, 26.799064327485375, 34.22285714285715, 32.073, 16.562142857142856, 29.89090909090909, 13.91235294117647, 12.953333333333335, 45.867000000000004, 26.964037267080744, 21.53954545454546, 16.482051282051284, 28.722727272727276, 15.714285714285714, 18.84096774193548, 20.48125, 17.470000000000002, 31.17733333333333, 9.71230452674897, 69.14743999999999, 20.808321678321683, 7.323820224719103, 21.63666666666667, 16.490789473684206, 5.257142857142859, 16.960652173913033, 25.366666666666664, 15.382638297872338, 6.733809523809524, 3.123540669856456, 276.625, 11.070714285714285, 40.8940625, 4.82270588235294, 11.64286885245901, 13.821481481481484, 74.33519047619042, 4.024285714285713, 65.0625, 15.409999999999998, 72.56400000000001, 7.4273508137432005, 21.89422535211268, 22.949999999999996, 30.39811881188118, 94.27792792792793, 16.921750000000003, 21.792857142857144, 7.20576923076923, 11.077083333333334, 4.440802469135812, 11.618461538461538, 21.913023255813947, 2.6623913043478256, 11.89095238095238, 16.144153846153852, 31.25833333333333, 11.399999999999999, 6.107973856209151, 6.284482758620689, 5.626685082872927, 9.885644444444438, 2.8176811594202897, 85.7246349745331, 11.5, 76.32000000000001, 19.050981308411227, 4.2176190476190465, 12.74990999804337, 7.016666666666665, 12.416680000000001, 7.496153846153846, 170.76542857142857, 17.218734177215193, 10.295714285714284, 17.11121621621622, 21.977479674796747, 17.58558823529412, 16.022222222222222, 36.66548387096773, 69.285, 18.219687499999985, 54.13000000000002, 25.768666666666665, 19.204722222222227, 30.0, 17.48522012578616, 83.91600000000001, 16.409760479041925, 47.07533333333334, 16.12977272727272, 13.858695652173916, 21.612692307692306, 7.221791044776118, 17.930150000000005, 21.629999999999995, 35.00231343283583, 20.901702127659583, 15.99307692307692, 14.167424242424236, 22.878250000000005, 14.17318181818182, 16.54285714285714, 340.2, 19.957142857142852, 96.67999999999999, 52.4, 15.950714285714287, 25.332307692307698, 12.679387755102045, 25.8773076923077, 19.791666666666668, 83.84259285714272, 9.018333333333336, 12.381951219512198, 3.897848837209294, 10.282592592592593, 11.574400000000002, 47.036730769230786, 56.267931034482764, 4.901599999999999, 11.054615384615383, 6.272241379310344, 15.546206896551725, 5.171538461538462, 21.6261744966443, 18.60967741935484, 13.319285714285716, 4.9569724770642205, 4.362303030303028, 19.785499999999992, 18.870416666666667, 65.88333333333334, 31.60553846153846, 17.56256603773584, 18.087876447876454, 20.318809523809527, 19.601934369602738, 144.57142857142853, 55.919999999999995, 17.98461538461538, 92.69999999999999, 20.201081081081078, 3.6597727272727267, 19.445833333333336, 16.407999999999994, 15.173999999999998, 23.832528735632188, 18.684705882352944, 20.00982142857143, 118.94222222222223, 14.99074626865671, 16.571481481481484, 31.17457627118644, 20.0498, 14.123333333333335, 12.848571428571429, 30.114285714285714, 17.78652849740932, 16.662682926829266, 16.518833333333333, 8.899322033898306, 33.31626865671642, 19.148342857142865, 38.68, 18.514200000000002, 17.809304347826092, 41.79200000000002, 4.877106918238996, 39.808354430379744, 32.724000000000004, 17.888888888888893, 18.35625, 21.2575892857143, 21.19857142857144, 21.37, 17.534375, 18.36007092198581, 15.680092592592588, 19.65413333333334, 6.838500000000001, 37.8225, 17.153603603603607, 36.91923076923077, 18.284150943396224, 29.24264150943396, 114.14396396396393, 24.0, 22.374038461538458, 18.309300699300707, 19.64529411764706, 17.10258064516129, 27.567999999999994, 16.987931034482756, 11.232000000000003, 13.271515151515153, 19.30931034482759, 17.495937499999997, 18.73866666666667, 16.755, 23.906025641025668, 18.601562500000004, 70.74111111111112, 16.531249999999993, 19.625555555555554, 26.6625, 19.38851063829787, 22.917326732673263, 16.385021097046405, 48.71929999999998, 17.156721311475398, 33.239999999999995, 21.05370967741935, 31.476664630421485, 27.731608391608358, 14.4, 49.24153846153846, 22.55588235294118, 17.70438095238095, 63.43393939393938, 16.642888888888894, 20.107094017094028, 15.513, 18.52402298850574, 15.0, 24.565643564356428, 21.190833333333334, 15.412580645161293, 12.445121951219505, 16.807222222222226, 22.98125, 25.970833333333335, 19.362316602316618, 16.523571428571426, 33.319615384615375, 27.68, 15.754382716049387, 7.432698412698413, 17.943444444444452, 18.974838709677417, 22.108571428571427, 22.45, 16.91689922480619, 31.836190476190485, 12.534225352112678, 18.16333333333333, 17.026333333333337, 22.753888888888888, 4.306451612903228, 15.71833333333333, 51.0, 22.95659574468085, 15.1, 18.18, 15.854545454545455, 21.24939393939394, 5.506585365853661, 16.585090909090912, 18.035847457627117, 3.931707317073171, 53.874637681159406, 17.67465648854963, 19.375000000000004, 25.125, 19.1375, 3.435733333333333, 56.095454545454544, 7.567391304347827, 3.619285714285716, 4.779160305343511, 21.147288135593218, 14.436428571428573, 20.342857142857145, 12.646857142857153, 17.27333333333334, 23.188000000000002, 16.268601398601405, 13.589999999999998, 10.022028571428574, 6.684794520547945, 30.034022988505757, 22.988000000000003, 22.260879120879114, 73.79050000000001, 14.313786407766994, 19.59375, 29.557945205479445, 24.360093457943925, 38.13796296296296, 5.72575129533678, 75.92857142857143, 17.907674418604657, 5.334782608695653, 15.432783505154644, 10.000474576271184, 35.01571428571429, 15.622983870967744, 5.136213592233011, 13.362758620689654, 30.115185185185187, 19.205585585585588, 88.39999999999999, 322.08, 20.007455357142863, 21.37294117647059, 8.64465277777778, 27.668235294117643, 5.904476439790572, 114.39999999999999, 9.895555555555555, 12.6, 14.655555555555557, 83.16375, 42.8669090909091, 33.58607843137256, 25.2352380952381, 15.27096774193549, 3.548054607508535, 16.617571428571434, 18.767500000000002, 3.515891472868217, 12.08125, 6.0788073394495425, 4.265161290322582, 5.451363636363637, 3.157113402061854, 28.41, 49.673513513513505, 27.14625, 11.683666666666662, 8.350083333333336, 88.27, 8.143230769230776, 31.56111111111113, 6.652888888888888, 10.725348837209303, 6.892669039145912, 33.47714285714286, 18.8848275862069, 22.044047619047614, 11.352631578947367, 130.96, 17.569444444444443, 21.465384615384615, 21.217000000000002, 14.362152777777785, 15.233333333333336, 22.994285714285713, 3.5265957446808516, 8.307847222222223, 23.13652173913044, 15.446000000000002, 20.05470588235294, 19.860333333333337, 19.937142857142856, 20.63333333333333, 28.35842105263158, 16.392068965517236, 10.14155440414508, 4.2026804123711345, 50.978571428571435, 25.121, 3.9594070512820507, 21.605243902439035, 6.292149532710276, 7.39128911138922, 6.3676265822784845, 14.408124999999993, 4.849473684210525, 19.335441176470585, 11.968695652173912, 37.965833333333336, 14.456849315068492, 20.81277227722772, 18.358333333333334, 10.898125, 67.65, 57.32588235294117, 20.090833333333336, 9.200394088669954, 14.887285223367684, 8.753930041152222, 20.234444444444446, 2.7075982532751084, 13.545879629629635, 14.575781249999995, 31.44709677419356, 8.568497109826588, 8.679363636363652, 9.042105263157895, 35.55600000000001, 20.434210526315784, 16.79625, 13.108684210526315, 13.168018018018017, 20.650000000000002, 50.421250000000015, 17.758333333333336, 6.461378446115294, 10.949562841530051, 163.2, 5.164999999999998, 15.95041666666667, 18.623, 2.8460344827586215, 7.604159292035398, 11.023333333333342, 15.435238095238097, 49.27375000000001, 30.240135135135155, 15.663188405797108, 11.997092198581555, 24.402519685039383, 358.0, 46.37454545454547, 18.949166666666667, 7.519310344827583, 10.492000000000004, 7.03582978723405, 35.400000000000006, 6.98951219512196, 7.02625, 8.152941176470588, 19.018333333333334, 3.189545454545456, 10.422599999999996, 5.415517241379311, 12.492631578947366, 4.18052219321149, 13.25, 7.345888324873101, 3.4784146341463402, 4.0657236842105275, 7.166603773584903, 17.064705882352943, 16.057272727272732, 4.439400000000001, 15.733199999999997, 30.56571428571429, 330.0, 4.502462962962989, 192.66860465116278, 89.2575, 150.39000000000001, 135.36, 34.59, 19.721999999999998, 15.876153846153844, 19.438695652173912, 15.265714285714285, 6.636194029850746, 17.37307692307692, 16.974150943396225, 22.879262295081965, 27.998333333333335, 6.309276315789474, 24.560487804878044, 14.319999999999999, 17.245000000000005, 21.78035714285715, 27.725, 17.35168604651164, 20.047924528301877, 15.78, 48.06, 22.380967741935486, 31.95230769230769, 19.903000000000002, 134.97399807321764, 8.107333333333331, 7.1220603015075366, 6.417647058823527, 3.9372413793103456, 8.217510548523206, 39.43326530612245, 3.638124999999998, 6.7319047619047625, 8.522413793103448, 9.999723320158107, 9.524666666666665, 26.9875, 4.590297619047621, 6.443333333333333, 20.39666666666667, 13.94642857142857, 16.127748691099484, 7.470529411764708, 3.1176515151515156, 12.549999999999999, 23.464864864864857, 5.92892156862745, 60.67238095238095, 111.45003875968993, 71.27857142857142, 26.0, 2.9365320665083168, 41.89199999999999, 17.219785932721702, 8.676923076923078, 7.434, 29.77929577464788, 8.699264705882355, 21.6125, 15.991923076923076, 8.573181818181816, 5.956000000000007, 13.641249999999998, 19.437391304347823, 7.610059701492534, 9.487435158501436, 14.462272727272723, 3.7274939759036143, 179.0, 40.2275, 25.107346938775546, 4.36064748201439, 8.035854341736686, 36.6828, 7.865368731563422, 16.019, 12.216619718309861, 5.994181818181816, 6.76004219409283, 17.94081081081082, 6.479999999999999, 4.1665467625899275, 13.80923076923077, 26.857999999999997, 4.4153521126760555, 4.002115768463087, 8.444888888888887, 18.384285714285713, 47.45499999999999, 31.26644329896907, 68.50294117647059, 24.341666666666665, 65.038, 16.272022471910105, 23.734576271186448, 42.30692307692308, 17.684927536231886, 18.233333333333334, 15.907303370786511, 77.92799999999998, 18.771666666666665, 15.562195121951222, 21.32034042553191, 19.44631578947368, 22.13157894736842, 20.902253521126752, 15.94088235294117, 17.84, 23.263636363636365, 14.310476190476189, 46.38333333333333, 6.515641025641025, 18.321259259259257, 38.52, 9.793348623853218, 16.854230769230764, 15.473333333333333, 16.865, 21.694871794871784, 20.88171428571428, 9.418292682926827, 16.58074074074074, 33.35, 19.332666666666668, 25.8, 22.647999999999993, 32.940000000000005, 16.196956521739132, 3.1, 16.356428571428573, 16.498874999999995, 21.90833333333333, 7.031104294478508, 14.478333333333333, 12.13076923076923, 11.272051948051946, 3.2735593220338965, 19.21704545454546, 29.43916666666666, 11.801063829787234, 17.580909090909095, 11.664553191489349, 8.18776470588235, 5.180999999999999, 14.68867924528302, 67.9625, 17.62444444444444, 13.704166666666666, 20.928461538461534, 17.492758620689656, 24.400000000000002, 4.591857142857141, 38.88655172413794, 18.404214876033045, 125.86823529411765, 16.60833333333333, 4.92825, 25.67611940298508, 17.075, 15.27314814814816, 15.7125, 23.882318840579707, 19.48062068965517, 24.536999999999995, 23.799999999999997, 20.439536082474216, 15.511904761904763, 18.262499999999996, 19.836993006992994, 52.86666666666666, 21.730944881889766, 32.282500000000006, 19.869393939393948, 19.551999999999996, 23.34034482758619, 15.483636363636366, 20.965000000000003, 17.525000000000002, 24.25090909090909, 13.05, 145.3525252525253, 19.730000000000004, 20.51104166666668, 10.221126760563381, 25.17307692307692, 5.330408163265303, 18.56, 31.17702127659575, 11.980161290322586, 15.025319148936173, 15.023529411764706, 53.60909090909092, 14.369622641509437, 51.02133333333333, 20.26666666666667, 310.3333333333333, 18.46, 13.59, 17.95, 16.79939393939394, 16.9568493150685, 28.510869565217387, 22.366887550200815, 10.901627906976744, 24.84327272727273, 11.23724137931034, 14.805104166666672, 16.633000000000003, 7.917267605633803, 14.861449275362316, 36.24411764705883, 21.218787878787865, 30.86666666666666, 14.478333333333335, 25.34362290748889, 32.142592592592585, 14.108390804597708, 25.623333333333335, 16.480259740259736, 35.7811111111111, 17.153859649122808, 16.87269230769231, 17.024999999999995, 31.005000000000003, 20.35272727272727, 18.537968750000008, 30.675121951219513, 21.384117647058822, 21.734942528735637, 178.47099999999998, 22.354450549450547, 47.70235294117647, 34.70735294117648, 33.63333333333333, 20.772857142857145, 17.491587301587295, 19.53684210526316, 15.584500000000002, 58.691956521739115, 5.269454545454545, 3.9549411764705864, 4.874166666666667, 11.897142857142855, 11.786779661016949, 8.195185185185183, 22.57910256410257, 25.340000000000003, 7.514141414141421, 15.862307692307693, 7.216867469879516, 5.034736842105261, 77.3, 3.988918918918919, 46.825294117647054, 6.978562499999995, 6.376111111111112, 41.0765625, 5.4471428571428575, 25.44909090909091, 10.984166666666662, 8.941759259259273, 12.764999999999997, 5.20170731707317, 3.4109195402298838, 81.6, 8.3635, 3.8234426229508203, 21.00769230769231, 5.7315999999999985, 6.37038961038961, 14.276173913043475, 7.888101265822781, 5.6448346738158985, 3.4867361111111093, 13.075833333333335, 6.9328571428571415, 15.447000000000003, 3.304999999999997, 7.43342857142857, 8.501999999999999, 6.279000000000002, 16.006774193548388, 3.7999999999999985, 4.05682203389831, 6.703999999999996, 12.10455516014233, 10.718258064516133, 5.23625, 7.688524590163935, 30.46142857142856, 13.065208333333333, 74.03999999999999, 6.019279279279279, 95.36730769230766, 5.071901960784316, 10.935558375634514, 9.360370370370369, 3.665748031496063, 5.426846153846151, 13.258615179760296, 2.6917910447761195, 27.186, 179.0, 16.998300220750544, 61.30500000000001, 25.309563106796123, 15.61909090909091, 3.9592783505154623, 40.39000000000001, 22.847307692307698, 9.731538461538463, 7.192666666666667, 9.828028169014084, 2.65, 59.58, 7.699239130434791, 5.6443881856540115, 2.5048760330578506, 135.3204466501241, 17.330877192982456, 74.16, 20.37503225806452, 21.275952380952383, 21.277560975609763, 5.320769230769229, 15.85042857142858, 106.2, 37.771923076923066, 19.322407407407404, 17.8302380952381, 28.630740740740748, 17.976530612244904, 22.14343181818187, 19.055531914893617, 15.296969696969693, 17.639999999999997, 20.462666666666667, 20.352105263157895, 16.695448275862084, 16.57913043478261, 16.023666666666667, 17.608076923076922, 42.564999999999976, 29.161702127659566, 19.94454545454545, 9.923199999999998, 13305.5, 17.84695652173913, 292.0, 39.69125, 20.095999999999993, 14.890434782608697, 22.761683168316843, 14.225200000000003, 19.96875, 21.670833333333338, 17.319642857142856, 28.46, 18.66047619047619, 36.093300000000006, 14.012994923857857, 16.19571428571429, 30.061111111111117, 19.642784810126585, 244.8, 19.02857142857143, 17.086666666666662, 16.347142857142856, 19.924146341463402, 20.7482075471698, 12.279333333333334, 90.77543307086616, 25.408125000000002, 14.421568627450988, 41.04047619047619, 15.005, 18.806346153846157, 33.876551724137926, 19.013561643835615, 15.449999999999998, 18.92205882352942, 13.766153846153852, 29.428125000000005, 19.182307692307692, 18.532142857142855, 30.324608294930908, 17.831791044776125, 14.584175824175832, 22.267857142857142, 15.064499999999999, 22.643478260869564, 15.494081632653046, 17.511771217712177, 14.965909090909092, 3.487294117647058, 17.481636363636362, 15.488560000000005, 57.342857142857156, 26.254943661971854, 39.540000000000006, 10.498965517241377, 8.184951456310676, 18.064814814814813, 3.97560975609756, 21.312, 257.9, 14.764090909090907, 12.340909090909092, 9.745217391304351, 13.5, 23.730645161290326, 14.583333333333334, 43.092499999999994, 21.47758620689655, 6.456507936507936, 14.791428571428574, 21.65315789473684, 52.49648351648353, 76.53485849056608, 20.476862745098046, 26.28, 24.56945161290321, 3861.0, 33.7378125, 19.363999999999997, 97.59230769230768, 17.920869565217394, 12.871830985915482, 35.17555555555556, 17.655135135135133, 46.699999999999996, 20.717142857142857, 16.559, 17.20019230769231, 20.359999999999996, 13.681249999999999, 15.104000000000001, 20.998285714285714, 48.3, 34.68006024096386, 33.97222222222222, 15.204786324786319, 80.65, 117.0, 37.78750000000001, 23.00571428571428, 17.800000000000004, 19.30125, 21.024137931034485, 27.093680000000003, 18.678260869565218, 19.743870967741938, 14.071428571428571, 15.716853146853145, 21.403333333333332, 14.265858585858597, 21.439799999999995, 15.930408163265307, 21.879102564102563, 15.96763636363637, 14.394545454545455, 18.57558823529412, 28.267865168539334, 15.580303030303034, 59.333333333333336, 19.10988571428573, 94.45936936936934, 16.835909090909094, 17.324528301886783, 16.68666666666667, 18.954255319148935, 16.408333333333335, 45.30714285714286, 18.32823529411765, 23.516493506493507, 13.411578947368422, 17.895000000000003, 13.042499999999997, 17.119130434782612, 18.36731707317073, 19.883333333333336, 156.12363636363636, 204.4, 58.03634146341463, 9.149890510948913, 11.459365079365076, 15.246170212765964, 15.003414634146338, 2.6021153846153853, 21.325, 15.29, 7.07, 16.778057553956828, 80.18333333333334, 24.3345, 26.210454545454535, 16.20310344827587, 38.93735294117647, 45.3233009708738, 7.237599999999999, 18.932268041237116, 16.46, 24.99947916666667, 643.8585714285715, 17.729999999999997, 20.8656378600823, 18.516774193548386, 30.191304347826097, 20.247413793103444, 17.108333333333334, 16.340526315789475, 25.543463640185, 19.677659574468088, 52.0, 13.665416666666667, 15.41891891891892, 165.0, 9.473333333333333, 12.78125, 7.420277777777778, 28.929578947368427, 16.182857142857138, 3.3120408163265287, 10.748620689655171, 20.875000000000004, 18.415789473684207, 54.99692307692308, 47.45885714285714, 64.285, 3.552222222222221, 4.8325000000000005, 6.675232558139533, 118.85411764705883, 16.920416666666664, 17.357142857142858, 21.69, 19.677, 14.84823529411765, 40.31999999999999, 17.559999999999995, 6.580694444444442, 23.130000000000003, 8.711600000000004, 12.333650793650794, 19.789285714285718, 5.330443159922927, 15.149183303085284, 32.917692307692306, 59.845714285714294, 20.375, 31.4893103448276, 20.301052631578948, 13.693409090909093, 19.764105263157887, 111.73500000000001, 25.383510638297874, 74.34814814814816, 18.302348484848487, 56.0, 10.541538461538458, 19.089123711340203, 46.95166666666667, 74.60625, 19.720894039735096, 15.668536585365853, 26.406666666666666, 12.714193548387097, 14.053999999999998, 500.0, 18.280119047619046, 19.32166666666667, 25.68870588235294, 15.350000000000003, 20.58428571428571, 15.666666666666666, 18.431917808219175, 16.315399999999997, 59.68333333333334, 14.923095238095234, 43.6375, 9.636037735849055, 6.90483660130719, 7.858235294117645, 28.285573770491816, 13.72606060606061, 19.053000000000004, 19.869230769230764, 11.933541666666663, 20.75166666666666, 18.171428571428574, 16.9825, 17.93132075471697, 16.283333333333335, 21.75, 22.54941176470588, 4.956815068493151, 4.846862745098039, 15.63, 4.8457317073170705, 17.119, 13.007317073170729, 18.936000000000003, 5.1479310344827605, 3.4119452887538015, 4.448, 6.263199999999999, 6.188387096774193, 297.0, 8.473586387434553, 6.476073059360738, 22.7, 17.24111111111111, 17.665714285714287, 16.242, 14.328, 9.28844827586207, 4.854440559440563, 7.164000000000001, 7.453666666666668, 4.087413793103448, 23.09142857142857, 3.7372413793103445, 21.327272727272728, 18.02, 6.680573248407647, 75.82082474226804, 5.868947368421055, 10.093846153846155, 19.47958333333333, 22.43958333333333, 6.097142857142855, 4.888947368421053, 161.01818181818183, 15.658965517241374, 31.33521739130434, 20.122222222222224, 112.80571428571432, 2.656931818181819, 19.118670212765956, 29.941860465116278, 45.660000000000004, 22.6856, 20.130454545454555, 18.841714285714282, 6.740067340067357, 10.393840000000008, 84.14666666666668, 26.008593749999985, 16.640588235294125, 48.75553990610329, 2.101285714285715, 4.063846153846155, 37.22639175257733, 5.971097560975612, 10.703478260869565, 10.872500000000002, 250.0, 5.682687500000001, 17.285714285714285, 47.91629870129869, 23.255393258426977, 4.162, 9.89, 9.07686915887851, 19.08333333333333, 16.2172972972973, 6.99719298245614, 41.20099999999999, 440.0, 4.6400000000000015, 37.11, 14.906625766871159, 8.820384615384613, 5.945282738095234, 13.91064814814815, 8.80456140350877, 6.175507812500013, 9.729759036144575, 7.151999999999998, 4.621666666666668, 13.133170731707319, 14.220000000000002, 2.935517241379311, 4.566428571428571, 13.693861003860984, 3.613827160493826, 7.058176638176626, 14.724, 9.43655737704918, 15.03655172413793, 5.301176470588236, 7.807678571428569, 15.514285714285714, 5.345016685205772, 9.024838709677418, 23.682499999999997, 29.651481481481486, 134.55, 12.393274336283184, 21.644999999999996, 26.572857142857146, 14.307358490566035, 44.37774193548388, 12.896346749226007, 11.411052631578947, 11.873767441860466, 5.840865384615385, 4.180059523809525, 20.903777777777783, 6.6379487179487136, 9.776923076923076, 6.835294117647057, 24.69778523489933, 15.52068181818182, 5.89520325203252, 14.68709677419355, 101.52000000000002, 16.50103448275862, 16.190833333333334, 39.96, 17.201747572815535, 18.2674025974026, 14.753181818181817, 17.19142857142857, 14.648846153846154, 16.52819512195121, 28.21456521739131, 24.240000000000002, 12.728823529411766, 17.88402985074627, 37.92415584415585, 8.05846153846154, 18.228, 18.655, 18.743333333333332, 37.01046511627908, 32.525, 24.585673758865223, 17.26335555555556, 112.13333333333334, 15.5318, 80.81437500000001, 20.051675675675686, 15.843684210526314, 17.29794117647059, 23.9728125, 13.791836734693879, 18.51767741935484, 19.772499999999997, 19.672514970059886, 16.236666666666668, 28.9904, 14.890666666666668, 17.0128, 25.858801652892524, 15.858823529411769, 20.121212121212128, 3.415966386554621, 11.769423076923072, 12.789714285714284, 26.293999999999997, 408.0, 20.196875000000002, 16.082857142857144, 146.23999999999998, 43.93000000000001, 16.490294117647057, 15.92553191489362, 30.0, 21.33541666666666, 27.859090909090913, 17.787333333333333, 61.96, 15.34888888888889, 22.731176470588235, 19.32767241379311, 23.17846153846154, 76.32000000000001, 20.737575757575758, 14.420833333333334, 34.06576923076924, 18.58722580645162, 21.46140350877193, 15.413809523809524, 17.008712871287127, 19.916060606060608, 29.39166666666667, 7.102545454545453, 17.098461538461542, 26.908679245283015, 19.375, 18.03072289156626, 28.233333333333334, 12.618947368421054, 68.4, 15.920000000000002, 83.06923076923074, 18.63545454545455, 16.002690058479534, 17.202777777777772, 8.100930232558134, 6.506919831223629, 42.3, 19.60358974358974, 23.850000000000005, 19.28290909090909, 4.418598130841121, 11.681388888888883, 22.208333333333332, 20.233207547169815, 18.773684210526316, 9.45371428571428, 9.481440677966106, 21.47142857142857, 5.384855923159016, 4.677578125000001, 5.572307692307691, 32.21101449275362, 4.953658536585365, 19.84090909090909, 12.976562500000004, 17.148874172185433, 17.0, 16.012571428571434, 21.008571428571425, 16.23, 51.517307692307696, 16.737777777777776, 27.817456647398824, 56.14000000000001, 17.208888888888893, 8.914318181818187, 11.6, 17.654677419354837, 7.03142857142857, 10.473548387096768, 7.109999999999998, 4453.43, 8.41460750853242, 6.416982968369836, 79.2, 16.3775, 16.767730496453918, 2.7758333333333307, 15.876000000000001, 22.805555555555557, 36.14857142857143, 15.777027027027026, 17.81836065573771, 18.222055555555556, 28.641818181818177, 23.030740740740743, 432.71323076923085, 63.568000000000005, 10.832, 14.985714285714286, 13.423333333333336, 49.86238095238096, 16.38896551724138, 17.273000000000003, 60.8079069767442, 17.592857142857145, 28.059879518072293, 18.472659176029975, 4.602184466019418, 14.052, 6.309999999999999, 21.502533333333336, 80.46749999999999, 14.524047619047622, 20.387669172932327, 275.925, 9.02183673469388, 5.874621848739497, 16.624218749999997, 451.42, 51.9775, 16.054923664122125, 18.36704318936876, 25.309032258064512, 18.83125, 17.956586538461544, 14.73628571428571, 15.640224719101122, 16.681353383458642, 43.930243902439024, 32.59775, 27.01847222222223, 42.869387755102046, 15.491463414634147, 12.17529411764706, 9.209032258064516, 26.83242424242424, 15.0, 26.647000000000002, 24.328088235294118, 15.966000000000006, 12.473333333333333, 14.76923076923077, 11.790588235294116, 15.496111111111109, 8.182234432234429, 19.08179999999999, 13.737, 16.3325, 201.45556886227547, 16.911129032258067, 13.168888888888889, 26.043829787234053, 14.86875, 11.885454545454547, 26.89688405797101, 17.694090909090907, 2.4623711340206187, 7.305000000000001, 3.693333333333334, 21.24749999999998, 8.902999999999995, 25.407085271317836, 21.214285714285715, 7.533246073298433, 6.8817605633802765, 5.79736263736264, 5.665850340136054, 3.8244444444444445, 96.816, 22.378250000000005, 5.1228888888888875, 8.27036876355748, 9.975999999999999, 4.65907894736842, 2.819765624999999, 36.71566666666666, 3.823875968992248, 3.269333333333333, 17.289310344827587, 22.450434782608692, 8.09142857142857, 21.075, 15.090833333333334, 14.025833333333333, 4.805053763440858, 8.459999999999999, 6.428048780487804, 16.288181818181815, 9.252083333333333, 16.149767441860465, 14.0625, 6.884509803921567, 3.1368965517241367, 69.28054054054054, 5.489333333333333, 10.451266666666676, 3.8853413654618465, 27.419999999999995, 4.614906367041197, 13.927368421052632, 9.858645161290326, 10.258333333333335, 8.35575, 4.4747552447552446, 2.791666666666666, 13.441200000000002, 33.59090909090909, 6.0514285714285725, 17.2625, 20.315714285714293, 21.703217391304356, 14.96567567567568, 34.738333333333344, 20.764285714285712, 22.476666666666667, 80.46065789473683, 35.8, 24.10285714285714, 54.18333333333334, 90.5, 58.904827586206906, 15.92066666666667, 19.195789473684204, 18.015408163265295, 17.27365853658537, 8.86340659340659, 16.932448979591836, 24.13256830601094, 10.211666666666664, 14.907142857142857, 16.812857142857148, 6.9314754098360645, 4.986071428571428, 33.30499999999999, 28.55454545454546, 119.9957142857143, 76.955, 19.557670454545455, 15.45875, 4.397346938775508, 16.22661538461538, 22.424081632653067, 55.78744186046511, 35.13896907216493, 13.053274336283186, 10.509888888888892, 30.876216216216218, 12.008571428571429, 10.366285714285718, 5.852962962962964, 15.232884615384616, 13.996666666666664, 5.068061594202896, 12.202000000000002, 8.159076923076919, 6.106660079051381, 1377.0777777777778, 26.55699029126214, 2.822889908256876, 12.674999999999999, 4.420623376623372, 14.508484848484851, 11.03011111111111, 4.738372093023255, 15.86183962264152, 15.056276595744679, 267.126618705036, 4.568137931034482, 3.8757692307692286, 6.420255319148942, 6.621249999999998, 14.60357142857143, 23.663999999999994, 18.50021739130435, 8.266842105263159, 7.126831683168317, 3.925624999999999, 15.702142857142858, 7.377812500000002, 58.41375, 334.81338842975214, 11.422068965517244, 5.4894, 7.754089709762521, 19.89545454545454, 13.798545454545444, 21.923589743589748, 18.14538461538461, 20.20846153846155, 527.7333333333333, 16.862957746478877, 19.845897435897445, 16.153012048192775, 32.05500000000001, 3.563429487179485, 13.790000000000001, 10.648823529411766, 17.999404761904756, 11.198571428571427, 16.85, 9.777205882352941, 18.703471074380165, 8.110333333333339, 18.025312499999988, 14.579130434782611, 5.028243243243244, 14.92029411764706, 25.82272727272727, 15.535238095238098, 25.405217391304344, 122.39999999999999, 17.323488372093017, 79.2, 64.3809523809524, 21.716, 12.365198237885465, 42.503870967741946, 11.478421052631578, 5.877305389221556, 28.753589743589746, 17.503333333333337, 16.036470588235293, 17.0, 17.114761904761902, 26.718333333333334, 18.505000000000003, 29.93477611940299, 18.766666666666662, 16.982894736842105, 32.31824561403509, 29.784166666666664, 10.426206896551724, 25.919999999999998, 18.063333333333333, 103.36, 17.552083333333332, 33.99333333333333, 3.7781920903954846, 12.23375, 5.379333333333334, 16.968750000000004, 5.873133802816908, 18.022941176470592, 7.740333333333334, 26.46, 43.638000000000005, 4.090141509433961, 18.011052631578945, 19.23625, 22.636363636363637, 22.25769230769231, 53.74162393162395, 16.406250000000004, 21.126067415730336, 44.95564102564104, 43.162840236686385, 17.65971428571429, 24.64523809523809, 19.172432432432437, 20.497096774193547, 20.719428571428573, 20.68, 14.468648648648653, 20.7259829059829, 175.2, 16.96200892857141, 25.314827586206892, 17.045454545454547, 76.32000000000001, 15.584444444444447, 17.54717948717948, 63.070344827586204, 20.496966292134836, 24.01569230769232, 36.48277777777778, 24.871428571428577, 51.27200000000003, 11.762784810126577, 18.7, 142.76666666666668, 24.190588235294122, 38.64897959183674, 21.446705882352944, 15.080399999999996, 24.400000000000002, 16.524782608695652, 16.884761904761895, 43.89347826086957, 17.889482758620684, 22.13, 24.737500000000004, 19.62090909090909, 63.29740740740742, 27.776363636363644, 236.34464285714287, 22.580666666666673, 25.750888888888895, 17.07774193548387, 18.380458715596344, 23.42861016949152, 14.654626865671643, 19.589090909090906, 35.84666666666667, 38.66059701492538, 16.55, 26.712066666666665, 6.036983240223459, 16.78801801801801, 20.29277777777778, 16.939999999999998, 7.117719298245615, 7.769183673469388, 8.524761904761904, 20.756842105263157, 10.064545454545456, 49.18739130434783, 171.4333333333333, 23.783478260869565, 16.837560975609758, 26.5, 24.153409090909086, 17.310714285714287, 24.727837837837843, 20.283333333333335, 36.72238095238097, 8.916082474226805, 6.1804379562043845, 13.492708333333338, 8.181492537313432, 31.889999999999997, 52.370000000000005, 21.502127659574466, 15.486571428571429, 26.780540540540535, 24.39454545454545, 18.854565217391297, 21.609999999999996, 21.8, 27.546666666666674, 3.939380664652578, 12.255816326530615, 8.021568627450975, 16.733516483516482, 15.707333333333345, 7.16, 21.84857142857143, 26.087971014492762, 16.22666666666667, 29.950081300812993, 9.70337037037037, 57.87923076923078, 23.475, 38.54451851851852, 57.525000000000006, 6.022822580645161, 21.112403100775204, 14.129344262295078, 14.836666666666664, 21.134074074074064, 10.746165413533832, 16.468000000000004, 5.3425373134328344, 16.96575757575757, 135.10000000000002, 24.625217391304343, 14.108224299065425, 121.29764705882353, 15.3, 9.46271084337349, 7.559357798165133, 17.8125, 17.779411764705884, 19.059237288135595, 16.817088607594943, 15.095000000000002, 22.155555555555548, 21.201818181818183, 33.09030864197531, 16.419090909090905, 15.421219512195124, 640.0, 16.82309523809524, 16.655675675675674, 17.134375000000002, 16.169285714285714, 19.462980132450337, 19.444202898550724, 17.271052631578947, 134.8, 18.543928571428573, 31.1375, 8.831081081081079, 207.50000000000003, 3.6328813559322017, 33.013333333333335, 9.752225705329169, 12.050846394984326, 6.4592307692307696, 10.413071895424839, 591.7066666666667, 15.105, 19.52727272727273, 5.4975000000000005, 3.5886928104575153, 25.608701298701302, 21.494000000000003, 7.882553191489361, 50.550000000000004, 15.142368421052634, 9.648369565217392, 6.252978723404257, 5.944444444444445, 19.587192982456134, 19.2375, 17.65857142857143, 71.01819148936167, 10.148717948717948, 6.831290322580645, 19.378823529411765, 18.600917431192652, 26.5290909090909, 5.305936555891238, 8.459056603773586, 9.07123456790123, 21.872000000000003, 13.340377358490562, 30.204313725490206, 18.183333333333334, 6.188384615384611, 6.545131578947366, 13.166610169491527, 5.7919298245614055, 3.793092783505153, 4.261531531531529, 7.896080000000006, 135.24, 15.780434782608697, 19.975925925925935, 55.643437500000005, 6.552549019607839, 17.712121212121207, 9.421864406779658, 3.6045454545454563, 23.59, 40.64911764705882, 4.915333333333335, 9.230939393939398, 18.73903614457832, 7.080476190476192, 20.80243902439025, 5.596849315068493, 10.480344827586206, 22.03397849462365, 4.993333333333333, 17.75, 19.263043478260876, 33.45, 2.6301612903225804, 12.365872093023265, 8.74517241379311, 4.77, 4.338, 8.458064516129033, 18.035714285714285, 3.8953703703703675, 14.80845070422535, 6.62029411764706, 19.063333333333333, 93.9956639566396, 19.22888888888889, 26.712, 14.414285714285711, 5.12970430107527, 26.784444444444446, 142.275, 50.14166666666667, 7.744698795180722, 35.925, 10.838823529411766, 13.965596330275234, 6.048106060606059, 12.910177304964536, 15.883333333333333, 3.5447701149425286, 7.79369047619048, 3.6588888888888893, 56157.5, 7.194722222222217, 9.4445, 17.692249999999994, 28.35636363636364, 19.069285714285716, 3.45, 18.597777777777782, 19.44477477477478, 23.151111111111113, 17.241287128712873, 6.03496296296296, 4.588484848484848, 45.333333333333336, 17.346341463414635, 5.570677966101696, 10.834189189189194, 37.45, 3.573791208791211, 4.484647058823529, 17.226923076923075, 17.561666666666667, 5.198611111111118, 19.439285714285713, 17.085342465753428, 19.470588235294116, 8.595142857142857, 14.51490566037735, 12.256666666666666, 7.334210526315791, 16.172000000000004, 8.658333333333333, 17.2, 18.756410256410255, 24.136250000000008, 16.530599999999996, 7.0557731958762915, 16.83705263157895, 21.806544117647064, 6.7313333333333345, 19.23421052631579, 36.441818181818185, 17.046785714285722, 5.632325581395346, 194.4, 30.100000000000005, 27.976923076923075, 19.084615384615386, 5.62284023668639, 24.988285714285713, 14.399380530973456, 16.95, 9.570588235294121, 12.108000000000004, 16.544615384615387, 6.7087820512820535, 32.47748275862071, 71.18825136612027, 19.35733333333333, 16.290000000000003, 14.377058823529412, 15.175, 16.163506493506496, 1687.2, 6.189604519774015, 19.153225806451612, 9.981272727272728, 30.862444444444442, 23.924, 113.10000000000001, 31.486, 4.235107033639138, 9.15924302788844, 28.81625, 22.33705882352941, 68.09309523809523, 16.098076923076924, 16.81705882352941, 16.008647342995168, 25.62272727272727, 18.12715217391307, 15.025178571428567, 16.48774193548387, 56.72315789473684, 57.9, 34.147777777777776, 24.73142857142857, 24.84, 29.669841269841275, 16.341264367816095, 17.712280701754384, 15.80023809523809, 16.122857142857136, 11.76, 52.26999999999999, 16.675, 33.43142857142857, 57.99375, 17.319230769230764, 13.916363636363632, 21.35, 19.044814814814814, 12.223333333333331, 3.416792452830188, 4.237176470588239, 20.845833333333335, 12.862857142857147, 14.505, 13.121290322580647, 7.896774193548386, 18.20965517241379, 14.19029411764706, 19.46343023255815, 19.903840579710167, 12.61, 12.949000000000002, 17.994848484848482, 20.619666666666667, 19.46884615384615, 15.164242424242428, 30.370000000000005, 27.579062500000017, 16.157857142857143, 19.884444444444448, 28.05103448275863, 25.889999999999997, 16.886875, 14.481739130434784, 24.65418994413409, 16.14, 18.70128205128205, 6.527031249999998, 18.96776315789474, 24.211111111111112, 16.731449275362323, 17.88, 25.150199999999995, 19.258333333333336, 20.245, 18.055925925925926, 13.448064516129026, 15.290000000000001, 15.297894736842103, 21.600833333333338, 57.40652542372882, 17.57478260869566, 20.733448275862063, 14.53839080459769, 118.16164383561646, 4.48855769230769, 15.405, 19.56, 79.22812499999999, 15.044444444444444, 3.718125, 10.75716981132075, 15.335999999999999, 8.592937500000001, 16.253571428571437, 282.045, 71.35912280701754, 3.2613265306122456, 17.888988764044942, 19.07969325153375, 43.25, 18.37, 40.23500000000001, 34.26666666666666, 240.6265703971119, 5.2296774193548385, 5.235606837606835, 20.33645161290323, 32.5076923076923, 18.79833333333333, 425.3333333333333, 8.033499999999997, 65.78999999999999, 5.3690476190476195, 399.6, 16.4823051948052, 37.48819444444446, 51.981444444444406, 4.319918699186992, 24.319629629629635, 38.35278481012659, 6.1767164179104475, 75.04681818181815, 8.155324384787463, 11.094759615384628, 12.48956989247311, 15.879999999999999, 450.6, 19.388844221105522, 13.861111111111116, 8.90756218905473, 5.749629629629629, 7.9045945945945935, 21.025822222222224, 13.701162790697675, 5.172317880794704, 7.470378378378386, 5.93086956521739, 3.920706319702601, 10.969575757575733, 9.062317073170732, 21.562499999999993, 12.27377358490566, 18.404479999999992, 417.59999999999997, 3.75, 24.84615384615385, 464.9, 11.71774869109948, 5.391570247933881, 20.15210084033615, 14.916837416481089, 19.906190476190478, 21.969565217391292, 6.567684210526315, 70.58879999999999, 23.055555555555557, 6.5858823529411765, 1001.2, 8.80488235294118, 18.415384615384617, 15.26142857142857, 16.788181818181815, 18.804523809523808, 24.35538461538461, 16.86943820224719, 26.602173913043483, 3.9649433427762064, 34.0, 33.69411764705882, 25.137837837837836, 8.853518518518516, 9.509749999999997, 5.311034482758624, 8.811019607843143, 6.599615384615385, 13.781666666666668, 10.732025316455708, 5.108947368421052, 4.527000000000001, 15.37125, 31.921081081081045, 7.086499999999999, 18.30882352941176, 11.999473684210527, 35.86666666666667, 3.854709677419354, 16.16, 16.619569892473116, 5.380562500000007, 9.198333333333334, 15.239999999999998, 4.290210526315794, 6.286060606060607, 16.97888888888889, 7.326158536585368, 21.312236842105268, 13.845833333333331, 8.949833333333334, 4.699897959183672, 7.781456310679608, 16.740149253731342, 12.540000000000001, 6.138859060402685, 20.636, 19.538214285714282, 31.95666666666667, 3.770556792873051, 20.089814814814826, 14.895000000000001, 18.65988372093024, 17.81686170212766, 19.138846153846156, 9.431052631578945, 17.716923076923077, 27.685000000000002, 15.531818181818183, 16.0625, 17.92909090909091, 14.169999999999998, 16.595833333333335, 23.543191489361696, 17.227500000000003, 18.085, 22.89727272727273, 19.218060606060615, 23.554000000000006, 62.384774436090154, 16.119137931034487, 20.066507936507932, 26.975052910052927, 19.483636363636364, 16.12, 20.101428571428574, 15.57125, 17.495263157894737, 17.1225, 16.10111111111111, 17.28421052631579, 17.700000000000003, 37.569, 14.380961538461538, 28.959999999999997, 19.338461538461537, 18.885454545454543, 6.448593749999998, 20.52802919708029, 97.14571428571428, 25.532688172043002, 18.710089285714286, 5.369308176100628, 4.433333333333334, 8.534157303370788, 432.0, 18.079999999999995, 7.282368421052631, 16.53230769230769, 4.668415841584155, 5.2670270270270265, 11.693851851851855, 3.988669950738917, 5.308484848484846, 3.24288888888889, 3.1759420289855065, 7.831891891891894, 3.1408024691358007, 10.252479999999998, 11.22924050632912, 38.79272727272728, 6.220666666666667, 5.287704225352111, 14.915528846153848, 6.234086021505378, 6.500993377483445, 21.063333333333336, 2.7606215722120693, 25.49881188118813, 14.180000000000001, 5.48578947368421, 10.906666666666668, 4.029790209790212, 43.50222222222223, 8.350156249999998, 7.940214067278285, 2.829833333333334, 10.785133928571398, 10.20180722891566, 16.446428571428573, 90.50833333333334, 13.62488038277511, 16.82324675324676, 7.047222222222223, 5.1271937639198075, 3.0554716981132075, 12.800681818181813, 15.337580645161289, 4.608421052631579, 11.354273858921168, 9.999606557377053, 6.834839857651252, 24.749393939393936, 17.45180722891569, 19.356190476190484, 22.89578947368421, 21.437833333333334, 28.06095238095238, 14.8575581395349, 10.475625, 20.8, 38.6125925925926, 20.746799999999997, 19.29625, 26.04, 16.764285714285716, 5.02029702970297, 16.72642857142857, 15.792857142857144, 7.738076923076923, 76.9632142857143, 15.191428571428569, 14.175161290322585, 15.485952380952385, 8.71243902439024, 125.75999999999999, 8.828974358974358, 20.808988764044948, 12.401839080459776, 17.457272727272727, 13.048986486486484, 11.01068796068795, 45.53433333333334, 624.4, 12.59728682170543, 18.017142857142858, 94.4375, 179.0, 17.358172043010754, 39.3772972972973, 58.5, 73.75, 21.07913043478261, 23.60692307692308, 30.484285714285715, 32.11227272727272, 17.767727272727274, 17.114038461538463, 17.76, 18.060000000000002, 7.923378378378376, 8.4910599078341, 34.50103174603175, 57.50624999999999, 5.438504273504279, 10.142857142857142, 31.95, 39.75222222222222, 38.707499999999996, 5.818888888888887, 358.0, 13.351818181818182, 17.288636363636364, 36.79071428571428, 24.85066666666667, 15.483214285714284, 16.897599999999997, 5.10909090909091, 29.981999999999992, 15.451000000000002, 10.656938775510207, 17.01156862745098, 158.08, 15.42909090909091, 29.182727272727266, 16.93692307692308, 21.519767441860463, 17.798679245283036, 10.21784810126582, 5.747441860465116, 4.497282608695653, 38.34461538461538, 16.341325301204822, 19.03048387096774, 5.99813953488372, 46.848, 52.85080808080808, 7.691, 18.732564102564098, 13.860483870967746, 15.378851351351365, 18.948951048951056, 4.877187499999999, 17.35021428571429, 8.310862068965516, 10.832727272727276, 33.6432, 13.507142857142862, 59.400000000000006, 35.9525, 4.533750000000001, 24.738888888888898, 27.03423076923076, 18.208333333333343, 8.377807486631017, 21.35499999999999, 17.3131304347826, 32.44365079365081, 19.629538461538473, 14.222240000000005, 21.571428571428566, 17.89405405405404, 21.294375000000006, 4.523317535545022, 14.949846153846154, 38.61261904761904, 25.5, 7.39755555555556, 25.874234449760753, 7.564444444444444, 13.608333333333333, 8.286999999999999, 6.367086614173226, 21.47435897435897, 12.911111111111108, 15.702000000000002, 17.340285714285713, 17.08111111111111, 19.759999999999998, 38.36666666666666, 9.340312500000001, 6.483749999999999, 3.8644230769230763, 11.220714285714285, 18.381865671641798, 181.1940740740741, 17.708333333333332, 21.91788461538461, 15.854166666666666, 22.318974895397464, 23.266, 38.6, 20.511874999999996, 21.422285714285714, 21.16777777777778, 13.875555555555556, 120.67857142857143, 15.269999999999998, 14.31913043478261, 12.584999999999997, 24.53846153846154, 18.90999999999999, 15.236435643564358, 15.36257641921397, 16.49480769230769, 58.620000000000005, 17.134375000000006, 15.868, 17.194999999999997, 15.477407407407416, 14.056874999999998, 21.184, 43.797674418604636, 14.975, 22.91571428571429, 20.408666666666665, 8.897375, 6.218984375000002, 10.431304347826085, 45.853561643835604, 72.0, 20.395, 29.455119047619046, 6.301639344262294, 23.40736842105263, 8.840210970464142, 53.10312500000001, 9.055862068965517, 34.93137931034483, 7.210625000000001, 8.56575, 23.446381578947364, 27.44842105263158, 29.544615384615383, 29.177142857142858, 10.982085308056877, 56.7125, 17.714840764331196, 10.379805825242718, 12.61111111111111, 7.155912408759125, 4.5692, 6.775953389830514, 5.319523809523809, 12.648214285714285, 8.709999999999997, 18.737619047619045, 19.985531914893617, 9.163894230769237, 6.782127659574469, 52.73057971014493, 5.867504621072094, 11.708888888888891, 7.6352, 10.706428571428571, 18.967586206896552, 8.725047619047622, 16.562631578947368, 6.615989399293286, 25.500000000000004, 28.375999999999994, 21.69212499999999, 30.803225806451604, 19.049999999999997, 5.130727272727271, 4.618115942028986, 6.7459649122807015, 7.263589743589743, 4.067356321839079, 9.903333333333332, 2.4325000000000006, 3.82576923076923, 14.999999999999998, 4.865887096774192, 104.44666666666667, 2.7582608695652175, 4.432283464566927, 3.882999999999999, 8.358421052631577, 127.27333333333333, 18.847631578947365, 4.147407407407408, 15.43985507246377, 16.402666666666672, 20.869999999999997, 18.121382978723407, 5.659520547945212, 3.4204444444444455, 8.581532258064517, 9.998098591549304, 8.508198198198203, 5.149411764705881, 550.8000000000001, 13.889703703703708, 8.071739130434779, 2.583921568627452, 16.614, 11.738771929824564, 2.994393939393941, 14.37506329113924, 4.717735849056602, 130.7774242424243, 6.895833333333333, 25.179090909090913, 46.021428571428565, 97.03499999999998, 19.297099236641223, 13.302875264270604, 288.9266666666667, 16.446849315068487, 6.550093457943924, 4.605350000000003, 19.804600000000004, 16.133333333333333, 15.851818181818182, 60.65, 175.2, 17.65178571428571, 27.910909090909094, 3.7345672191528605, 8.823280212483393, 27.040000000000003, 30.35206388206388, 4.2697267759562845, 11.390588235294116, 5.017812499999998, 6.180919540229885, 5.353119999999998, 228.96, 5.393116279069773, 12.305555555555555, 18.11366197183099, 21.746296296296297, 217.5, 87.06625, 9.379999999999999, 8.62533333333333, 6.200847457627116, 8.524, 4.437803030303032, 16.834482758620688, 8.920857142857141, 10.903114355231134, 10.259743589743588, 4.952941176470588, 17.231261261261267, 13.520606060606061, 4.872298850574711, 5.307035573122534, 11.349473684210528, 17.706071428571427, 5.798550724637679, 8.466666666666667, 9.810813397129174, 4.875421686746988, 186.01477064220174, 32.7, 3.90764705882353, 22.42666666666667, 5.555531914893619, 95.94357142857143, 10.052692307692308, 83.97066666666666, 149.45389671361508, 169.6, 7.385645161290323, 50.96749999999999, 271.5111111111112, 7.569673913043476, 17.194210526315786, 9.99981220657278, 44.641525423728815, 8.533939393939395, 161.14555555555552, 12.578170731707319, 19.47274336283186, 16.325, 59.373076923076916, 18.979999999999993, 18.99853658536585, 19.061515151515152, 129.66666666666666, 36.27428571428571, 25.6260966542751, 15.44866666666667, 20.517330097087378, 19.961000000000006, 16.917692307692306, 26.861923076923087, 17.655116279069755, 18.587675276752762, 50.4, 52.612347560975614, 13.459487179487184, 18.982857142857146, 9.379069767441862, 7.620000000000001, 5.614074074074074, 17.715074626865675, 24.033333333333335, 22.85, 37.284, 16.656000000000006, 534.24, 21.778074074074084, 13.433333333333334, 15.042499999999999, 9.100577617328518, 577.302047477745, 17.214, 25.616842105263157, 8.484098360655741, 16.4625, 14.697647058823529, 91.45789473684209, 5.86111111111111, 5.921621621621621, 21.463103448275856, 6.82396396396396, 25.025555555555552, 8.820511627906985, 32.21777777777778, 18.616585365853666, 27.4, 21.26102272727272, 14.42397435897436, 3.92425414364641, 13.883571428571425, 17.64896551724138, 15.312073170731715, 19.716190476190476, 16.536250000000003, 12.98758620689655, 27.53052631578947, 32.65018348623853, 31.214166666666667, 18.42814814814815, 27.104999999999997, 16.012941176470587, 15.572, 227.6, 16.03333333333333, 24.610714285714284, 14.709473684210524, 23.59866141732284, 22.035384615384615, 21.585714285714285, 6.881590909090908, 17.605, 16.708032786885248, 15.424000000000001, 94.56114226375905, 27.85704761904763, 85.53333333333335, 5.2162500000000005, 7.345057471264365, 5.606423357664235, 13.994545454545454, 22.48804878048781, 18.227, 16.071333333333328, 14.667260273972603, 19.780000000000005, 24.166666666666668, 46.96666666666667, 62.942105263157885, 19.98659574468085, 14.341897233201587, 6.053299492385793, 21.192857142857147, 24.817777777777778, 12.646153846153844, 25.5, 11.968266666666672, 10.935555555555558, 23.156, 6.83, 4.454896551724137, 20.66, 24.810000000000002, 6.3609523809523845, 7.1358139534883716, 18.987959183673468, 743.8, 22.186931818181815, 4.559056603773584, 26.316666666666666, 15.925294117647056, 32.88269230769232, 3.6439130434782605, 17.81555555555555, 9.26551020408163, 5.929013157894741, 26.251393939393935, 11.866896551724135, 5.011739130434787, 18.895833333333332, 15.223999999999998, 23.206249999999997, 8.81430656934306, 28.691999999999997, 8.977999999999998, 4.793777777777779, 25.10236363636361, 6.043793103448277, 35.494285714285716, 5.294719626168226, 53.921739130434794, 9.502648221343877, 7.359303482587065, 13.409457831325305, 18.438215962441312, 19.86359999999999, 4.68421686746988, 10.47381481481481, 37.17036363636364, 12.436153846153847, 12.89, 9.112446428571422, 35.88363636363636, 4.91047619047619, 3.2783050847457638, 4.692911392405065, 6.91704861111111, 15.1737037037037, 14.612660256410255, 3.9006999999999987, 23.542857142857144, 190.4, 12.456153846153848, 2.8379220779220784, 20.36, 53.07307692307692, 15.971212121212119, 16.869599999999995, 6.498412698412702, 15.150000000000002, 14.7489430894309, 19.369230769230764, 13.546923076923077, 18.92628571428571, 7.952760942760954, 14.278, 15.630285714285712, 15.5, 124.33200000000002, 17.807250000000003, 12.693750000000001, 18.44356687898089, 19.772352941176468, 19.00857142857143, 19.752747252747252, 16.70173076923077, 20.759999999999998, 17.00431034482759, 18.794285714285706, 27.44454545454546, 5.343181818181818, 28.999340659340685, 20.423048780487804, 31.337894736842102, 18.98392405063292, 4.355555555555555, 20.96406976744186, 14.061395348837209, 40.453333333333326, 17.71991379310344, 23.18333333333333, 50.09882352941177, 18.7, 29.67377358490567, 28.892454545454545, 7.176740088105735, 20.408888888888892, 28.899687943262368, 17.790769230769236, 53.8264144736842, 18.631874999999997, 66.40366666666668, 16.763636363636362, 20.96889830508475, 15.960666666666667, 24.550230769230765, 20.068041958041984, 18.585742187500003, 15.28421052631579, 16.107391304347825, 12.529375, 18.87466666666667, 21.866857142857143, 19.875739130434795, 17.839473684210528, 19.368750000000002, 17.84957746478873, 17.414583333333336, 24.65364864864865, 14.522545454545453, 28.55451612903225, 17.704077669902905, 27.498664921465952, 30.479999999999997, 7.630857142857144, 19.635714285714283, 16.743478260869566, 18.031379310344825, 15.3, 326.4, 23.08567346938776, 23.224999999999998, 19.69357664233578, 23.9188, 21.078608695652164, 327.64, 25.825000000000006, 17.911875000000002, 16.064393939393938, 17.430363636363644, 24.304954128440354, 18.509104477611938, 16.887222222222224, 19.77685714285714, 16.293720930232556, 19.000028985507235, 15.097599999999995, 16.824, 19.371649484536086, 59.3904255319149, 23.674, 17.076470588235292, 18.375000000000004, 71.4, 19.271999999999995, 9.31383419689119, 80.64, 19.263695652173904, 7.564493927125498, 8.390048543689327, 8.789368421052629, 11.503599999999999, 37.514736842105265, 15.0, 10.917600000000002, 6.524210526315788, 12.914285714285716, 21.649333333333335, 12.896709677419352, 30.086052631578934, 4.552037037037037, 3.4484905660377354, 7.85519230769231, 18.8, 3.4322680412371134, 8.031341463414634, 15.668333333333331, 4.230895522388055, 10.14923076923077, 3.871388888888889, 13.91932835820895, 223.58, 16.135714285714286, 10.345000000000008, 10.61, 5.569655172413793, 7.617173913043476, 8.5109756097561, 7.030900900900903, 7.490024509803914, 11.528942307692308, 9.17885714285714, 51.230999999999995, 12.698604651162787, 88.71983606557379, 9.21002350176262, 5.192624113475178, 4.773261455525613, 2.150588235294117, 11.747878787878784, 77.18479166666664, 22.95384615384615, 9.070272727272732, 27.16552238805971, 29.641333333333332, 17.33478260869565, 17.700000000000003, 2.5470491803278703, 5.748196721311475, 4.592083333333333, 9.428284023668644, 22.969421487603302, 6.050000000000002, 5.223852427679378, 5.553513513513514, 10.312000000000001, 2033.1, 17.670588235294122, 23.299999999999997, 18.152222222222253, 4.764166666666667, 20.750666666666667, 12.29235294117647, 94.53533333333334, 497.75999999999993, 25.90783919597989, 5.9284, 4.358620689655172, 9.463063063063064, 30.08181818181818, 21.351351351351347, 5.857843137254904, 28.44951351351351, 36.62777777777777, 15.15316455696203, 10.704499999999998, 6.789784946236566, 15.589999999999998, 42.253636363636375, 14.857826086956527, 19.800833333333333, 14.594230769230771, 29.75333333333333, 17.650769230769225, 16.668750000000003, 4.632896551724134, 6.132051282051276, 2.9717187499999995, 8.253302752293576, 11.135, 10.836567164179106, 9.708095238095238, 6.405212765957452, 5.995882352941174, 8.717857142857143, 7.015625000000003, 5.802124352331608, 6.124999999999998, 128.16, 4.97017543859649, 5.430714285714286, 4.8687499999999995, 18.7, 5.809473684210527, 5.043947368421051, 23.536470588235293, 6.075, 4.194482758620688, 9.390512820512821, 8.184473684210527, 6.976271186440679, 4.205374999999998, 3.6306382978723395, 56.697391304347825, 6.040373563218374, 5.700137931034485, 207.50000000000003, 95.56451612903227, 244.08, 18.91857142857143, 9.240869565217393, 168.6, 44.6276923076923, 6.282461538461539, 14.795222222222218, 33.535714285714285, 5.027241379310345, 5.062857142857141, 100.02837209302326, 8.261666666666668, 216.1284210526316, 152.28, 38.75000000000001, 7.479000000000001, 19.63111111111111, 358.56000000000006, 835.864, 6.791549295774648, 50.427000000000014, 4.809731958762888, 29.331578947368417, 12.75, 3.60258064516129, 72.63714285714285, 2.8376923076923077, 5.206586345381531, 2.9379999999999997, 4.535576923076922, 7.971337386018231, 16.15338235294118, 2.563958333333334, 3.262941176470588, 16.3, 18.79322580645161, 4.388387096774193, 22.469333333333335, 4.138491620111729, 15.164898648648654, 5.433692307692307, 13.72095238095238, 25.076666666666664, 5.189794520547945, 27.048333333333332, 3.1808333333333345, 27.606521739130432, 20.8, 15.274615384615384, 5.2926315789473675, 21.753103448275862, 18.669999999999998, 8.376419753086422, 38.05, 11.8715060240964, 4.108172043010752, 7.193620689655173, 4.236749999999999, 4.161999999999998, 20.212727272727275, 70.53966666666666, 8.041875000000001, 12.485714285714284, 3.671071428571429, 6.041612903225808, 5.2006250000000005, 2.6093478260869567, 12.061463414634146, 174.33333333333334, 4.211724137931033, 7.69, 3.4979581151832475, 18.560952380952383, 5.490952380952381, 25.627777777777773, 14.7, 2.8814705882352953, 3.7757142857142867, 13.7811320754717, 4.225208333333332, 3.685263157894737, 18.8, 8.86311440677965, 23.578571428571426, 4.624049586776857, 16.445669291338575, 4.029787234042552, 24.612857142857145, 14.88, 15.001000000000001, 18.844972222222225, 19.139473684210525, 56.72, 17.025555555555556, 46.074130434782596, 26.68592592592593, 116.28571428571429, 17.46591240875913, 31.8, 10.711621621621624, 101.69999999999999, 4.333340425531915, 18.12, 13.746666666666666, 53.11671232876715, 37.66153846153846, 18.392605633802823, 11.599162995594709, 11.590689655172413, 28.75566929133856, 615.75, 20.20294117647059, 9.63520547945205, 90.47999999999999, 23.79137931034483, 14.477142857142855, 2027.8599999999997, 4.2992307692307685, 101.89056179775284, 58.51444444444444, 43.1042857142857, 27.62142857142857, 4.277699530516433, 24.979629629629628, 8.85842105263158, 5.454878048780488, 602.4531322505802, 19.85894736842106, 6.304444444444446, 11.04358974358974, 15.941176470588236, 18.137319819819812, 5.136956521739131, 13.565, 76.32000000000001, 7.860714285714286, 3.75140211640212, 4.334054054054054, 4.420500390930392, 6.037333333333333, 6.538235294117647, 21.034375000000004, 5.017060439560444, 16.37333333333333, 5.831581632653057, 3.6933928571428583, 7.419787234042551, 8.039285714285715, 15.134142857142862, 931.4999999999999, 34.0955, 20.640263157894733, 19.08125, 53.07132075471696, 67.968, 16.39606557377049, 67.18023255813955, 12.948190045248872, 16.035, 25.619999999999997, 38.255, 15.312972972972977, 17.193421052631578, 19.009047619047617, 14.864800000000002, 5.2495714285714286, 13.335294117647061, 23.050000000000008, 16.360512820512824, 20.233624999999996, 16.652083333333334, 30.246000000000002, 37.42864864864865, 8.93083969465649, 22.51666666666667, 25.797631578947374, 22.80203703703703, 40.00888888888889, 67.9625806451613, 104.0, 15.878333333333332, 18.12729729729729, 16.400103092783503, 19.92411111111112, 15.493697478991596, 8.7, 17.082972972972975, 49.8, 17.897058823529413, 28.183661971830986, 16.032941176470587, 18.964, 29.685714285714283, 21.28822222222222, 15.235000000000003, 139.11999999999998, 4.88744680851064, 34.12301886792456, 5.11875, 20.543970588235304, 8.443157894736842, 9.9685, 16.1675, 17.387500000000003, 19.56253731343283, 14.287380952380953, 5.77720930232558, 15.498666666666669, 23.02615384615385, 18.528846153846153, 20.056451612903224, 31.527619047619048, 18.15587719298246, 152.64000000000001, 16.275156250000002, 23.31578947368421, 23.840220588235308, 15.895000000000001, 20.328856088560887, 21.60351239669423, 18.75, 25.996666666666666, 44.37134146341464, 32.6767441860465, 16.800564516129043, 16.026216216216216, 440.0, 17.273846153846154, 18.004897959183673, 16.18196721311475, 17.74556818181818, 70.43, 19.9335576923077, 28.621666666666663, 14.668914285714283, 149.02499999999998, 17.1068085106383, 11.9175, 16.631904761904764, 269.66999999999996, 5.374183673469384, 17.216666666666665, 19.810423728813564, 55.6809523809524, 19.72537313432836, 15.439999999999998, 11.498461538461537, 19.887868852459018, 17.42413043478261, 25.5, 24.085714285714285, 25.740909090909096, 18.545662650602413, 68.0, 15.992727272727274, 23.98999999999999, 13.7975, 19.32222222222222, 18.06, 11.545714285714284, 14.837499999999999, 2.7710052910052947, 26.246857142857138], \"xaxis\": \"x3\", \"yaxis\": \"y3\"}, {\"type\": \"histogram\", \"x\": [325, 1, 74, 18, 309, 35, 203, 231, 213, 22, 32, 1, 57, 51, 286, 2, 109, 7, 290, 3, 50, 44, 71, 310, 24, 10, 314, 129, 81, 21, 4, 184, 28, 337, 15, 79, 21, 71, 63, 18, 35, 45, 118, 302, 322, 49, 148, 21, 49, 32, 78, 308, 74, 66, 216, 23, 2, 112, 63, 15, 95, 0, 162, 77, 194, 21, 25, 8, 42, 35, 42, 0, 84, 79, 99, 1, 13, 366, 2, 20, 21, 57, 242, 43, 21, 155, 10, 16, 133, 55, 72, 43, 65, 70, 93, 18, 52, 9, 16, 187, 1, 31, 28, 16, 53, 15, 22, 3, 10, 27, 22, 16, 32, 9, 335, 4, 38, 62, 165, 15, 81, 20, 22, 336, 95, 17, 232, 133, 25, 283, 142, 65, 112, 266, 352, 77, 27, 0, 63, 78, 142, 38, 18, 8, 0, 81, 8, 59, 14, 29, 130, 91, 42, 28, 21, 19, 29, 35, 74, 46, 197, 165, 78, 357, 38, 7, 49, 15, 7, 310, 4, 302, 7, 260, 288, 85, 22, 1, 39, 8, 226, 315, 35, 34, 20, 77, 246, 39, 238, 2, 3, 233, 16, 7, 38, 28, 210, 316, 91, 108, 37, 50, 18, 9, 28, 28, 189, 58, 21, 78, 59, 77, 22, 51, 73, 56, 277, 1, 94, 28, 21, 15, 14, 1, 231, 275, 105, 211, 22, 10, 3, 9, 56, 58, 89, 66, 32, 238, 23, 114, 24, 127, 129, 33, 4, 21, 154, 106, 2, 334, 330, 148, 10, 16, 10, 18, 29, 10, 0, 7, 324, 57, 11, 150, 9, 329, 4, 38, 24, 41, 58, 0, 14, 3, 3, 7, 27, 371, 113, 25, 205, 27, 126, 69, 6, 28, 7, 79, 19, 70, 6, 14, 291, 29, 14, 96, 28, 0, 8, 105, 3, 150, 70, 4, 2, 31, 84, 3, 4, 370, 27, 10, 70, 113, 23, 179, 233, 352, 314, 332, 371, 77, 63, 133, 51, 1, 0, 3, 128, 80, 22, 235, 280, 86, 15, 116, 51, 7, 137, 316, 3, 238, 210, 59, 16, 19, 37, 63, 4, 1, 8, 363, 9, 64, 191, 373, 256, 334, 52, 18, 365, 9, 186, 36, 177, 260, 44, 101, 147, 95, 280, 261, 2, 213, 70, 74, 59, 2, 5, 2, 336, 37, 261, 31, 144, 282, 58, 172, 33, 2, 143, 4, 69, 65, 28, 266, 21, 30, 96, 294, 134, 78, 372, 7, 210, 51, 137, 25, 282, 25, 185, 83, 326, 281, 142, 57, 3, 235, 44, 275, 8, 24, 87, 62, 67, 213, 23, 185, 30, 41, 204, 8, 264, 17, 11, 175, 39, 22, 2, 4, 148, 138, 127, 7, 16, 8, 160, 63, 87, 4, 34, 311, 77, 21, 23, 1, 16, 14, 25, 63, 54, 130, 35, 287, 143, 15, 30, 1, 8, 5, 9, 0, 305, 9, 6, 7, 88, 9, 357, 111, 6, 3, 197, 211, 155, 157, 29, 242, 18, 0, 73, 291, 2, 30, 22, 22, 3, 84, 21, 195, 106, 3, 317, 105, 11, 173, 55, 322, 371, 8, 0, 10, 52, 72, 6, 15, 3, 63, 0, 113, 22, 30, 10, 51, 356, 54, 73, 137, 79, 8, 272, 290, 98, 30, 31, 13, 63, 14, 211, 77, 24, 249, 253, 71, 190, 12, 372, 23, 81, 9, 0, 191, 266, 129, 0, 2, 3, 178, 11, 125, 3, 157, 2, 8, 27, 70, 275, 20, 70, 32, 0, 98, 233, 0, 39, 2, 132, 43, 372, 59, 30, 0, 11, 137, 21, 19, 238, 268, 93, 89, 4, 77, 93, 22, 261, 273, 85, 196, 55, 10, 21, 15, 107, 84, 18, 332, 39, 25, 9, 28, 13, 295, 5, 32, 48, 94, 8, 21, 312, 121, 45, 282, 18, 35, 63, 26, 21, 3, 15, 45, 64, 25, 44, 7, 14, 267, 39, 336, 10, 18, 94, 60, 135, 10, 9, 3, 18, 9, 14, 58, 29, 93, 9, 19, 56, 267, 121, 126, 77, 239, 199, 59, 2, 272, 201, 80, 225, 3, 12, 73, 211, 24, 16, 261, 95, 111, 202, 92, 50, 17, 17, 124, 91, 156, 8, 11, 61, 60, 268, 262, 0, 52, 10, 2, 17, 0, 365, 36, 30, 112, 63, 15, 40, 77, 121, 17, 59, 330, 22, 155, 38, 189, 359, 136, 7, 0, 267, 168, 103, 154, 350, 3, 119, 22, 6, 27, 3, 21, 1, 36, 65, 0, 4, 77, 71, 16, 2, 35, 81, 38, 315, 31, 92, 13, 81, 76, 157, 200, 44, 260, 177, 67, 287, 69, 63, 10, 15, 65, 59, 70, 121, 79, 256, 268, 63, 8, 17, 70, 33, 49, 256, 365, 371, 89, 60, 88, 98, 25, 31, 280, 30, 329, 130, 10, 74, 203, 1, 184, 28, 72, 191, 126, 17, 0, 73, 1, 23, 106, 133, 43, 4, 11, 63, 149, 39, 63, 107, 0, 18, 9, 10, 18, 66, 73, 4, 1, 13, 254, 91, 22, 16, 23, 26, 25, 258, 165, 24, 17, 6, 28, 38, 252, 57, 183, 10, 1, 98, 0, 60, 235, 190, 178, 37, 200, 45, 231, 65, 240, 232, 77, 57, 16, 104, 51, 135, 274, 311, 7, 10, 282, 17, 22, 287, 16, 70, 63, 72, 315, 2, 243, 8, 0, 260, 126, 73, 72, 20, 59, 85, 77, 58, 0, 29, 32, 40, 14, 33, 78, 204, 33, 182, 1, 0, 42, 85, 39, 11, 95, 25, 318, 65, 73, 27, 5, 6, 215, 81, 83, 143, 18, 40, 172, 16, 242, 12, 205, 49, 22, 9, 24, 14, 308, 155, 306, 63, 15, 14, 10, 64, 35, 107, 52, 5, 46, 0, 311, 44, 64, 25, 28, 39, 11, 88, 23, 318, 39, 173, 116, 30, 252, 58, 22, 4, 99, 24, 32, 67, 36, 51, 15, 73, 215, 30, 15, 119, 9, 256, 16, 34, 45, 42, 113, 164, 10, 9, 205, 85, 178, 59, 148, 2, 50, 74, 300, 18, 150, 151, 0, 17, 186, 285, 2, 182, 62, 58, 24, 3, 30, 38, 154, 25, 317, 4, 7, 302, 266, 270, 3, 31, 218, 246, 280, 268, 31, 245, 14, 116, 35, 131, 216, 49, 38, 28, 36, 135, 218, 27, 24, 4, 199, 17, 240, 71, 16, 2, 94, 161, 373, 95, 53, 287, 123, 287, 151, 3, 1, 11, 32, 53, 49, 218, 62, 70, 1, 1, 63, 33, 81, 0, 102, 6, 250, 12, 9, 366, 75, 3, 127, 65, 0, 116, 309, 66, 138, 254, 30, 51, 63, 366, 5, 304, 28, 183, 41, 39, 91, 21, 23, 28, 301, 144, 5, 18, 32, 175, 57, 21, 15, 18, 158, 24, 211, 5, 252, 58, 10, 64, 24, 91, 51, 128, 95, 56, 8, 168, 56, 325, 0, 17, 247, 57, 73, 30, 6, 122, 1, 22, 119, 357, 53, 63, 85, 54, 20, 3, 2, 10, 6, 188, 70, 203, 119, 92, 0, 26, 297, 23, 27, 49, 325, 15, 182, 71, 36, 79, 56, 11, 49, 49, 58, 351, 53, 1, 92, 22, 74, 10, 168, 57, 95, 294, 108, 263, 179, 168, 34, 22, 16, 21, 78, 64, 360, 2, 10, 175, 217, 6, 1, 153, 4, 78, 20, 21, 307, 145, 6, 18, 70, 286, 48, 30, 206, 14, 72, 59, 38, 29, 26, 3, 16, 19, 65, 212, 11, 29, 42, 3, 14, 9, 210, 45, 133, 42, 9, 115, 197, 277, 109, 76, 52, 161, 46, 16, 154, 224, 6, 121, 60, 62, 17, 6, 1, 21, 28, 284, 175, 77, 32, 40, 265, 26, 108, 283, 8, 304, 16, 31, 0, 19, 123, 64, 105, 0, 23, 266, 4, 9, 28, 266, 63, 319, 3, 31, 4, 128, 40, 101, 124, 32, 301, 364, 3, 1, 2, 9, 56, 324, 7, 11, 3, 36, 15, 137, 73, 4, 154, 238, 51, 30, 72, 3, 13, 22, 3, 273, 19, 143, 3, 83, 10, 7, 122, 60, 1, 318, 1, 129, 1, 1, 45, 3, 2, 372, 133, 46, 8, 77, 233, 220, 35, 74, 238, 265, 9, 19, 39, 19, 215, 173, 86, 70, 275, 38, 97, 10, 32, 59, 296, 85, 8, 40, 10, 66, 330, 30, 1, 1, 67, 4, 201, 106, 17, 217, 59, 1, 16, 238, 94, 10, 105, 52, 89, 30, 11, 2, 1, 42, 3, 246, 41, 176, 91, 109, 28, 25, 51, 183, 42, 48, 21, 74, 80, 372, 325, 42, 29, 183, 234, 8, 219, 110, 277, 317, 6, 1, 259, 63, 8, 141, 50, 7, 154, 108, 162, 331, 225, 73, 50, 98, 14, 196, 2, 30, 20, 23, 7, 212, 8, 10, 1, 7, 2, 39, 17, 7, 7, 18, 116, 222, 70, 50, 88, 7, 242, 46, 106, 44, 64, 206, 10, 114, 241, 162, 16, 123, 22, 67, 16, 15, 16, 160, 242, 218, 44, 20, 126, 38, 120, 259, 9, 273, 164, 156, 214, 5, 365, 79, 42, 18, 31, 21, 108, 7, 319, 294, 357, 184, 190, 43, 51, 25, 37, 8, 296, 32, 9, 64, 9, 217, 1, 64, 2, 148, 3, 129, 33, 118, 106, 10, 70, 91, 310, 42, 361, 91, 0, 21, 3, 10, 98, 56, 0, 217, 17, 23, 49, 6, 302, 9, 21, 98, 365, 305, 319, 7, 0, 204, 53, 0, 18, 8, 18, 180, 59, 10, 189, 4, 310, 154, 109, 147, 65, 97, 246, 28, 17, 11, 103, 73, 45, 71, 256, 19, 253, 10, 164, 17, 281, 49, 38, 26, 67, 206, 174, 6, 25, 50, 311, 308, 42, 25, 87, 183, 19, 2, 46, 16, 16, 23, 21, 10, 187, 100, 60, 17, 32, 63, 1, 23, 107, 31, 19, 2, 36, 59, 25, 235, 24, 2, 59, 259, 57, 64, 15, 9, 58, 185, 28, 23, 4, 3, 150, 310, 10, 17, 151, 18, 9, 56, 84, 6, 75, 3, 95, 110, 56, 0, 280, 2, 179, 371, 12, 2, 16, 40, 5, 168, 49, 276, 18, 371, 14, 34, 21, 6, 19, 10, 43, 305, 10, 274, 0, 15, 3, 71, 242, 8, 245, 205, 0, 184, 31, 56, 195, 23, 90, 3, 50, 262, 265, 35, 50, 51, 23, 21, 58, 169, 67, 156, 1, 200, 4, 66, 76, 0, 7, 168, 17, 4, 8, 86, 26, 28, 19, 60, 23, 10, 241, 279, 234, 2, 15, 30, 24, 70, 187, 25, 106, 7, 208, 43, 30, 136, 264, 3, 217, 1, 213, 31, 10, 0, 14, 10, 198, 2, 14, 13, 9, 28, 8, 23, 24, 42, 1, 5, 146, 9, 24, 273, 373, 0, 46, 7, 15, 3, 3, 42, 3, 196, 11, 15, 112, 248, 28, 43, 86, 44, 9, 14, 74, 144, 4, 296, 58, 263, 46, 28, 7, 16, 2, 231, 111, 57, 50, 126, 280, 54, 319, 25, 9, 6, 28, 16, 63, 20, 2, 165, 0, 52, 50, 47, 60, 161, 8, 14, 74, 39, 40, 369, 36, 196, 199, 73, 63, 20, 366, 179, 9, 3, 196, 28, 52, 17, 9, 89, 267, 52, 43, 63, 148, 21, 311, 22, 57, 23, 77, 118, 35, 59, 12, 18, 51, 25, 28, 6, 10, 185, 2, 8, 261, 2, 209, 107, 12, 76, 19, 26, 18, 131, 252, 78, 206, 335, 253, 147, 9, 84, 7, 204, 7, 22, 10, 25, 20, 1, 157, 2, 73, 2, 0, 16, 35, 90, 70, 115, 212, 29, 50, 245, 31, 108, 4, 365, 81, 296, 33, 56, 29, 13, 71, 22, 18, 78, 59, 24, 11, 252, 146, 63, 7, 10, 270, 9, 246, 95, 14, 49, 29, 67, 34, 127, 106, 36, 56, 56, 71, 245, 18, 197, 15, 211, 38, 45, 169, 47, 115, 146, 15, 50, 158, 11, 35, 53, 42, 172, 33, 38, 266, 8, 11, 2, 9, 32, 79, 30, 7, 71, 3, 255, 4, 15, 89, 71, 58, 9, 169, 198, 30, 18, 151, 8, 269, 64, 273, 24, 22, 318, 4, 11, 274, 24, 40, 7, 3, 70, 212, 37, 52, 77, 45, 178, 372, 93, 9, 104, 77, 172, 6, 212, 21, 256, 281, 20, 9, 307, 67, 214, 17, 103, 42, 3, 181, 83, 333, 8, 30, 196, 17, 17, 310, 141, 245, 23, 28, 9, 29, 17, 17, 14, 133, 245, 133, 49, 113, 6, 22, 24, 65, 59, 49, 169, 17, 127, 14, 238, 2, 239, 51, 45, 225, 7, 3, 164, 239, 10, 133, 16, 9, 30, 74, 0, 3, 44, 1, 356, 17, 68, 372, 320, 25, 330, 8, 322, 71, 259, 17, 366, 65, 153, 28, 69, 13, 1, 0, 119, 60, 2, 2, 10, 91, 58, 86, 25, 356, 84, 9, 0, 224, 59, 240, 318, 1, 46, 87, 10, 175, 51, 365, 318, 225, 357, 233, 310, 36, 65, 238, 112, 276, 217, 298, 1, 28, 9, 44, 66, 73, 64, 133, 237, 121, 31, 8, 35, 15, 126, 66, 148, 282, 168, 99, 134, 323, 106, 63, 150, 337, 21, 23, 15, 6, 56, 3, 37, 65, 46, 354, 171, 58, 49, 21, 42, 28, 4, 25, 200, 50, 9, 1, 66, 63, 50, 289, 60, 63, 95, 273, 0, 74, 109, 198, 63, 326, 3, 283, 43, 70, 85, 103, 333, 52, 38, 31, 365, 207, 156, 53, 65, 80, 129, 86, 0, 45, 332, 365, 71, 157, 372, 11, 254, 28, 30, 4, 39, 361, 372, 95, 25, 74, 56, 20, 40, 136, 7, 128, 39, 168, 8, 213, 14, 169, 39, 185, 269, 171, 4, 15, 9, 325, 112, 289, 15, 0, 91, 148, 188, 30, 33, 263, 83, 25, 170, 9, 312, 64, 84, 24, 58, 322, 37, 253, 18, 32, 14, 26, 22, 213, 7, 21, 11, 261, 130, 54, 248, 1, 8, 263, 330, 312, 25, 29, 29, 1, 361, 282, 261, 24, 353, 93, 28, 337, 19, 84, 8, 50, 49, 1, 112, 13, 76, 39, 115, 15, 160, 0, 29, 92, 22, 94, 27, 32, 20, 17, 2, 7, 15, 362, 80, 52, 22, 171, 188, 330, 11, 155, 32, 11, 44, 232, 63, 1, 39, 32, 83, 24, 1, 32, 18, 253, 22, 21, 7, 24, 18, 172, 162, 6, 10, 113, 287, 8, 53, 6, 76, 3, 36, 216, 59, 277, 11, 23, 28, 11, 351, 21, 49, 18, 2, 103, 6, 11, 4, 31, 177, 37, 150, 161, 68, 120, 24, 23, 176, 49, 255, 46, 70, 15, 100, 34, 52, 26, 10, 7, 78, 51, 35, 60, 336, 27, 183, 51, 9, 35, 9, 32, 10, 56, 3, 42, 140, 116, 103, 74, 4, 44, 15, 16, 89, 52, 133, 3, 104, 191, 165, 18, 157, 203, 335, 36, 90, 92, 8, 242, 44, 22, 189, 43, 24, 316, 105, 50, 167, 39, 217, 39, 296, 18, 87, 72, 80, 18, 48, 52, 23, 8, 24, 116, 8, 119, 3, 251, 27, 0, 266, 32, 17, 171, 1, 264, 139, 200, 63, 34, 40, 283, 8, 142, 11, 145, 233, 32, 23, 11, 35, 364, 200, 14, 16, 212, 65, 211, 282, 114, 14, 18, 65, 48, 15, 77, 18, 133, 12, 39, 234, 2, 39, 304, 50, 9, 60, 65, 24, 217, 64, 31, 87, 63, 115, 6, 5, 68, 244, 132, 240, 183, 24, 9, 10, 32, 45, 25, 357, 9, 43, 14, 149, 0, 112, 75, 106, 45, 142, 50, 0, 22, 45, 49, 305, 35, 78, 21, 106, 207, 16, 63, 48, 319, 43, 2, 371, 171, 55, 72, 98, 37, 57, 253, 69, 43, 49, 64, 10, 32, 58, 72, 303, 45, 17, 37, 18, 186, 51, 3, 136, 3, 18, 15, 40, 11, 7, 25, 21, 40, 100, 4, 276, 32, 14, 63, 1, 368, 311, 198, 1, 92, 59, 80, 156, 226, 252, 149, 193, 0, 368, 23, 16, 9, 7, 19, 3, 173, 0, 177, 15, 247, 190, 19, 153, 172, 372, 372, 193, 66, 3, 20, 238, 63, 111, 89, 310, 133, 276, 364, 82, 7, 16, 31, 8, 33, 14, 23, 31, 73, 19, 16, 22, 2, 303, 17, 366, 38, 83, 164, 16, 76, 88, 24, 21, 2, 122, 29, 11, 18, 43, 3, 8, 54, 87, 36, 2, 29, 11, 210, 47, 23, 21, 245, 7, 34, 3, 37, 3, 2, 46, 38, 46, 16, 259, 45, 11, 29, 42, 91, 38, 309, 91, 5, 195, 86, 269, 7, 64, 30, 21, 37, 119, 372, 39, 173, 53, 32, 144, 220, 44, 15, 65, 9, 259, 364, 16, 21, 44, 287, 296, 2, 283, 16, 81, 55, 100, 298, 22, 58, 154, 114, 106, 11, 263, 239, 87, 49, 70, 41, 6, 61, 248, 65, 17, 84, 218, 44, 142, 182, 170, 9, 211, 189, 7, 58, 56, 72, 51, 316, 366, 28, 38, 17, 51, 3, 21, 262, 59, 18, 65, 87, 249, 2, 246, 8, 156, 133, 295, 4, 42, 268, 49, 8, 15, 281, 64, 1, 251, 231, 16, 10, 7, 50, 58, 94, 15, 125, 93, 49, 137, 60, 99, 72, 71, 66, 63, 16, 22, 31, 44, 15, 39, 2, 236, 74, 3, 2, 360, 58, 22, 30, 54, 24, 44, 88, 1, 88, 18, 78, 170, 80, 266, 234, 29, 36, 317, 56, 44, 202, 224, 86, 189, 43, 70, 40, 77, 56, 23, 9, 7, 33, 211, 23, 169, 61, 52, 260, 66, 16, 266, 176, 44, 50, 16, 8, 73, 70, 352, 2, 116, 372, 196, 176, 99, 20, 71, 339, 5, 30, 169, 121, 21, 9, 268, 22, 126, 25, 138, 213, 37, 105, 17, 2, 330, 63, 119, 34, 217, 171, 71, 0, 195, 127, 46, 5, 13, 17, 27, 7, 36, 156, 283, 106, 24, 74, 15, 157, 43, 10, 31, 290, 20, 332, 17, 3, 62, 197, 32, 0, 6, 4, 9, 31, 52, 11, 17, 18, 36, 1, 17, 81, 32, 65, 8, 266, 246, 3, 60, 74, 89, 59, 28, 322, 52, 269, 1, 56, 60, 153, 18, 94, 0, 264, 311, 69, 301, 18, 12, 35, 18, 53, 56, 21, 43, 26, 44, 112, 16, 24, 190, 301, 1, 262, 105, 56, 212, 63, 27, 28, 5, 7, 66, 1, 45, 33, 0, 135, 197, 197, 149, 87, 44, 63, 98, 217, 2, 27, 177, 73, 20, 19, 33, 73, 23, 51, 274, 164, 6, 87, 63, 24, 9, 75, 15, 191, 173, 76, 32, 46, 79, 296, 2, 8, 49, 160, 359, 4, 106, 24, 31, 19, 296, 371, 21, 4, 51, 29, 276, 60, 24, 185, 1, 1, 171, 80, 3, 189, 21, 17, 18, 4, 109, 2, 53, 164, 290, 9, 108, 95, 242, 162, 41, 34, 66, 23, 0, 26, 5, 53, 363, 14, 193, 2, 14, 26, 126, 84, 70, 182, 112, 373, 79, 248, 231, 70, 68, 3, 50, 74, 60, 15, 3, 285, 3, 40, 35, 74, 17, 14, 218, 185, 32, 69, 182, 14, 235, 30, 263, 3, 51, 245, 80, 274, 0, 78, 29, 73, 16, 222, 31, 22, 30, 105, 4, 245, 177, 169, 42, 71, 58, 15, 140, 17, 21, 9, 367, 188, 15, 361, 18, 67, 14, 23, 16, 27, 1, 54, 33, 2, 365, 42, 72, 4, 3, 60, 46, 0, 75, 71, 255, 68, 134, 240, 226, 8, 8, 0, 36, 45, 84, 18, 2, 8, 18, 218, 77, 266, 23, 368, 14, 25, 261, 16, 90, 301, 25, 363, 45, 37, 51, 31, 51, 78, 52, 297, 176, 46, 28, 10, 86, 4, 37, 17, 44, 30, 372, 57, 371, 113, 214, 318, 64, 7, 96, 19, 198, 3, 293, 272, 30, 47, 259, 57, 32, 56, 67, 9, 59, 79, 73, 1, 99, 371, 9, 19, 122, 7, 3, 28, 281, 56, 0, 364, 88, 10, 162, 64, 22, 173, 102, 142, 98, 22, 191, 4, 360, 7, 13, 102, 2, 10, 95, 226, 15, 38, 50, 92, 156, 38, 183, 0, 227, 127, 39, 30, 196, 8, 36, 100, 42, 49, 42, 52, 186, 333, 3, 9, 23, 14, 368, 144, 59, 30, 140, 22, 21, 76, 4, 66, 11, 83, 30, 66, 66, 186, 37, 14, 34, 194, 1, 0, 366, 64, 298, 25, 7, 16, 115, 28, 3, 4, 81, 28, 71, 3, 28, 289, 35, 8, 23, 276, 49, 155, 60, 11, 20, 370, 115, 79, 3, 25, 4, 52, 0, 54, 25, 8, 51, 12, 211, 21, 235, 138, 3, 56, 134, 108, 29, 0, 184, 17, 238, 86, 38, 115, 186, 226, 7, 188, 3, 38, 37, 266, 77, 3, 254, 60, 12, 87, 16, 29, 2, 4, 6, 218, 10, 29, 287, 149, 22, 0, 85, 45, 4, 50, 17, 29, 7, 28, 2, 40, 10, 30, 44, 60, 184, 78, 110, 63, 11, 85, 15, 245, 87, 29, 137, 26, 2, 31, 24, 112, 156, 84, 117, 2, 95, 193, 27, 130, 27, 81, 29, 265, 73, 313, 20, 58, 11, 27, 113, 27, 17, 17, 35, 35, 77, 21, 24, 32, 108, 34, 122, 6, 27, 3, 2, 49, 321, 22, 14, 1, 17, 9, 261, 158, 32, 28, 164, 46, 5, 7, 287, 317, 2, 232, 118, 161, 184, 49, 151, 334, 4, 15, 106, 15, 275, 15, 246, 238, 0, 105, 22, 51, 194, 23, 74, 17, 7, 31, 21, 30, 28, 21, 32, 283, 38, 57, 288, 78, 4, 217, 43, 201, 177, 55, 56, 7, 46, 226, 10, 105, 58, 27, 35, 273, 29, 23, 53, 35, 174, 53, 52, 26, 252, 39, 59, 233, 3, 31, 23, 6, 64, 309, 308, 18, 15, 95, 263, 11, 2, 34, 182, 24, 12, 10, 2, 312, 107, 0, 52, 204, 14, 119, 3, 362, 116, 17, 4, 40, 106, 147, 51, 207, 138, 1, 126, 107, 41, 34, 227, 240, 57, 129, 59, 21, 25, 8, 31, 3, 307, 7, 28, 16, 100, 11, 20, 14, 360, 10, 94, 77, 138, 30, 24, 1, 45, 99, 7, 14, 17, 279, 13, 22, 123, 85, 301, 150, 16, 93, 29, 156, 354, 45, 14, 3, 85, 14, 178, 7, 35, 128, 50, 311, 23, 302, 10, 16, 48, 238, 0, 12, 237, 22, 72, 16, 40, 39, 218, 198, 70, 23, 10, 8, 64, 3, 18, 14, 7, 19, 77, 0, 163, 306, 218, 38, 21, 114, 125, 4, 35, 3, 0, 332, 162, 184, 15, 11, 2, 43, 79, 29, 41, 10, 49, 15, 45, 18, 7, 71, 0, 127, 32, 312, 17, 87, 1, 1, 253, 156, 36, 219, 147, 176, 39, 1, 7, 0, 17, 191, 203, 364, 126, 14, 42, 93, 22, 59, 15, 157, 9, 9, 15, 44, 190, 78, 77, 3, 64, 260, 58, 0, 0, 247, 7, 358, 75, 289, 16, 220, 8, 2, 205, 161, 75, 261, 280, 57, 24, 2, 28, 71, 127, 30, 14, 308, 16, 53, 29, 1, 10, 360, 359, 4, 53, 0, 0, 189, 53, 279, 176, 29, 25, 24, 269, 42, 233, 23, 196, 358, 59, 129, 0, 19, 205, 13, 94, 18, 13, 23, 7, 6, 331, 49, 70, 28, 242, 7, 217, 4, 252, 0, 235, 6, 108, 99, 59, 1, 72, 3, 84, 11, 22, 213, 17, 238, 1, 77, 216, 32, 40, 6, 52, 22, 56, 129, 173, 5, 311, 59, 20, 32, 14, 17, 80, 5, 169, 1, 30, 35, 18, 30, 275, 86, 119, 372, 0, 218, 64, 60, 137, 20, 11, 24, 36, 276, 10, 72, 25, 16, 140, 25, 18, 3, 65, 0, 42, 227, 15, 49, 1, 73, 0, 3, 1, 263, 52, 23, 9, 43, 16, 6, 29, 357, 126, 136, 141, 131, 37, 235, 260, 16, 252, 29, 34, 168, 2, 3, 184, 187, 169, 10, 44, 320, 200, 22, 231, 37, 25, 95, 126, 70, 15, 14, 3, 2, 78, 372, 38, 53, 1, 8, 8, 18, 11, 112, 3, 239, 112, 177, 4, 358, 0, 0, 18, 16, 21, 32, 262, 50, 158, 14, 7, 12, 198, 56, 10, 96, 254, 24, 20, 158, 71, 52, 84, 152, 73, 280, 26, 29, 24, 179, 39, 21, 21, 36, 81, 73, 10, 15, 3, 12, 13, 36, 3, 71, 50, 4, 22, 298, 1, 32, 49, 2, 46, 41, 26, 41, 1, 302, 106, 84, 80, 217, 371, 11, 184, 372, 1, 3, 5, 304, 368, 2, 323, 58, 12, 30, 142, 29, 106, 1, 204, 79, 184, 169, 43, 173, 364, 303, 2, 3, 11, 31, 128, 20, 211, 322, 161, 55, 224, 71, 43, 22, 172, 84, 158, 189, 28, 20, 70, 246, 373, 8, 309, 58, 3, 44, 87, 3, 63, 281, 11, 372, 132, 44, 10, 35, 133, 28, 51, 137, 4, 8, 159, 48, 130, 7, 232, 36, 146, 0, 71, 39, 4, 198, 248, 65, 116, 170, 20, 141, 31, 37, 37, 371, 373, 165, 210, 241, 51, 24, 14, 371, 28, 364, 35, 165, 144, 21, 55, 184, 11, 236, 224, 121, 281, 73, 36, 11, 361, 3, 22, 69, 234, 256, 372, 154, 27, 3, 31, 80, 107, 51, 35, 152, 98, 3, 333, 64, 21, 35, 31, 153, 18, 11, 53, 24, 3, 44, 202, 358, 70, 6, 287, 9, 22, 21, 172, 132, 5, 74, 39, 288, 25, 257, 185, 113, 373, 22, 7, 216, 44, 18, 35, 25, 15, 329, 273, 97, 60, 1, 92, 81, 312, 11, 7, 126, 10, 0, 36, 37, 329, 253, 1, 19, 11, 368, 289, 67, 25, 10, 367, 213, 148, 7, 23, 29, 60, 18, 242, 14, 211, 28, 62, 294, 17, 156, 116, 7, 12, 140, 45, 50, 31, 134, 2, 74, 12, 8, 300, 56, 14, 36, 176, 22, 175, 60, 32, 58, 14, 86, 6, 357, 30, 128, 8, 4, 23, 226, 14, 248, 14, 77, 191, 261, 71, 164, 81, 94, 3, 105, 199, 156, 70, 35, 28, 1, 25, 325, 236, 88, 30, 28, 210, 2, 226, 21, 92, 4, 263, 2, 43, 217, 56, 11, 8, 191, 81, 325, 71, 29, 2, 218, 45, 9, 71, 6, 23, 122, 16, 309, 86, 50, 88, 38, 24, 172, 42, 139, 25, 71, 133, 365, 37, 2, 1, 29, 43, 57, 73, 277, 180, 7, 3, 42], \"xaxis\": \"x4\", \"yaxis\": \"y4\"}],\n",
              "                        {\"annotations\": [{\"font\": {\"size\": 16}, \"showarrow\": false, \"text\": \"Quantity Distribution\", \"x\": 0.10625, \"xanchor\": \"center\", \"xref\": \"paper\", \"y\": 1.0, \"yanchor\": \"bottom\", \"yref\": \"paper\"}, {\"font\": {\"size\": 16}, \"showarrow\": false, \"text\": \"Freq Distribution\", \"x\": 0.36875, \"xanchor\": \"center\", \"xref\": \"paper\", \"y\": 1.0, \"yanchor\": \"bottom\", \"yref\": \"paper\"}, {\"font\": {\"size\": 16}, \"showarrow\": false, \"text\": \"MeanTotalSpent Distribution\", \"x\": 0.6312500000000001, \"xanchor\": \"center\", \"xref\": \"paper\", \"y\": 1.0, \"yanchor\": \"bottom\", \"yref\": \"paper\"}, {\"font\": {\"size\": 16}, \"showarrow\": false, \"text\": \"Recency Distribution\", \"x\": 0.89375, \"xanchor\": \"center\", \"xref\": \"paper\", \"y\": 1.0, \"yanchor\": \"bottom\", \"yref\": \"paper\"}, {\"font\": {\"size\": 16}, \"showarrow\": false, \"text\": \"Frequency\", \"textangle\": -90, \"x\": 0, \"xanchor\": \"right\", \"xref\": \"paper\", \"xshift\": -40, \"y\": 0.5, \"yanchor\": \"middle\", \"yref\": \"paper\"}], \"template\": {\"data\": {\"bar\": [{\"error_x\": {\"color\": \"#2a3f5f\"}, \"error_y\": {\"color\": \"#2a3f5f\"}, \"marker\": {\"line\": {\"color\": \"#E5ECF6\", \"width\": 0.5}}, \"type\": \"bar\"}], \"barpolar\": [{\"marker\": {\"line\": {\"color\": \"#E5ECF6\", \"width\": 0.5}}, \"type\": \"barpolar\"}], \"carpet\": [{\"aaxis\": {\"endlinecolor\": \"#2a3f5f\", \"gridcolor\": \"white\", \"linecolor\": \"white\", \"minorgridcolor\": \"white\", \"startlinecolor\": \"#2a3f5f\"}, \"baxis\": {\"endlinecolor\": \"#2a3f5f\", \"gridcolor\": \"white\", \"linecolor\": \"white\", \"minorgridcolor\": \"white\", \"startlinecolor\": \"#2a3f5f\"}, \"type\": \"carpet\"}], \"choropleth\": [{\"colorbar\": {\"outlinewidth\": 0, \"ticks\": \"\"}, \"type\": \"choropleth\"}], \"contour\": [{\"colorbar\": {\"outlinewidth\": 0, \"ticks\": \"\"}, \"colorscale\": [[0.0, \"#0d0887\"], [0.1111111111111111, \"#46039f\"], [0.2222222222222222, \"#7201a8\"], [0.3333333333333333, \"#9c179e\"], [0.4444444444444444, \"#bd3786\"], [0.5555555555555556, \"#d8576b\"], [0.6666666666666666, \"#ed7953\"], [0.7777777777777778, \"#fb9f3a\"], [0.8888888888888888, \"#fdca26\"], [1.0, \"#f0f921\"]], \"type\": \"contour\"}], \"contourcarpet\": [{\"colorbar\": {\"outlinewidth\": 0, \"ticks\": \"\"}, \"type\": \"contourcarpet\"}], \"heatmap\": [{\"colorbar\": {\"outlinewidth\": 0, \"ticks\": \"\"}, \"colorscale\": [[0.0, \"#0d0887\"], [0.1111111111111111, \"#46039f\"], [0.2222222222222222, \"#7201a8\"], [0.3333333333333333, \"#9c179e\"], [0.4444444444444444, \"#bd3786\"], [0.5555555555555556, \"#d8576b\"], [0.6666666666666666, \"#ed7953\"], [0.7777777777777778, \"#fb9f3a\"], [0.8888888888888888, \"#fdca26\"], [1.0, \"#f0f921\"]], \"type\": \"heatmap\"}], \"heatmapgl\": [{\"colorbar\": {\"outlinewidth\": 0, \"ticks\": \"\"}, \"colorscale\": [[0.0, \"#0d0887\"], [0.1111111111111111, \"#46039f\"], [0.2222222222222222, \"#7201a8\"], [0.3333333333333333, \"#9c179e\"], [0.4444444444444444, \"#bd3786\"], [0.5555555555555556, \"#d8576b\"], [0.6666666666666666, \"#ed7953\"], [0.7777777777777778, \"#fb9f3a\"], [0.8888888888888888, \"#fdca26\"], [1.0, \"#f0f921\"]], \"type\": \"heatmapgl\"}], \"histogram\": [{\"marker\": {\"colorbar\": {\"outlinewidth\": 0, \"ticks\": \"\"}}, \"type\": \"histogram\"}], \"histogram2d\": [{\"colorbar\": {\"outlinewidth\": 0, \"ticks\": \"\"}, \"colorscale\": [[0.0, \"#0d0887\"], [0.1111111111111111, \"#46039f\"], [0.2222222222222222, \"#7201a8\"], [0.3333333333333333, \"#9c179e\"], [0.4444444444444444, \"#bd3786\"], [0.5555555555555556, \"#d8576b\"], [0.6666666666666666, \"#ed7953\"], [0.7777777777777778, \"#fb9f3a\"], [0.8888888888888888, \"#fdca26\"], [1.0, \"#f0f921\"]], \"type\": \"histogram2d\"}], \"histogram2dcontour\": [{\"colorbar\": {\"outlinewidth\": 0, \"ticks\": \"\"}, \"colorscale\": [[0.0, \"#0d0887\"], [0.1111111111111111, \"#46039f\"], [0.2222222222222222, \"#7201a8\"], [0.3333333333333333, \"#9c179e\"], [0.4444444444444444, \"#bd3786\"], [0.5555555555555556, \"#d8576b\"], [0.6666666666666666, \"#ed7953\"], [0.7777777777777778, \"#fb9f3a\"], [0.8888888888888888, \"#fdca26\"], [1.0, \"#f0f921\"]], \"type\": \"histogram2dcontour\"}], \"mesh3d\": [{\"colorbar\": {\"outlinewidth\": 0, \"ticks\": \"\"}, \"type\": \"mesh3d\"}], \"parcoords\": [{\"line\": {\"colorbar\": {\"outlinewidth\": 0, \"ticks\": \"\"}}, \"type\": \"parcoords\"}], \"pie\": [{\"automargin\": true, \"type\": \"pie\"}], \"scatter\": [{\"marker\": {\"colorbar\": {\"outlinewidth\": 0, \"ticks\": \"\"}}, \"type\": \"scatter\"}], \"scatter3d\": [{\"line\": {\"colorbar\": {\"outlinewidth\": 0, \"ticks\": \"\"}}, \"marker\": {\"colorbar\": {\"outlinewidth\": 0, \"ticks\": \"\"}}, \"type\": \"scatter3d\"}], \"scattercarpet\": [{\"marker\": {\"colorbar\": {\"outlinewidth\": 0, \"ticks\": \"\"}}, \"type\": \"scattercarpet\"}], \"scattergeo\": [{\"marker\": {\"colorbar\": {\"outlinewidth\": 0, \"ticks\": \"\"}}, \"type\": \"scattergeo\"}], \"scattergl\": [{\"marker\": {\"colorbar\": {\"outlinewidth\": 0, \"ticks\": \"\"}}, \"type\": \"scattergl\"}], \"scattermapbox\": [{\"marker\": {\"colorbar\": {\"outlinewidth\": 0, \"ticks\": \"\"}}, \"type\": \"scattermapbox\"}], \"scatterpolar\": [{\"marker\": {\"colorbar\": {\"outlinewidth\": 0, \"ticks\": \"\"}}, \"type\": \"scatterpolar\"}], \"scatterpolargl\": [{\"marker\": {\"colorbar\": {\"outlinewidth\": 0, \"ticks\": \"\"}}, \"type\": \"scatterpolargl\"}], \"scatterternary\": [{\"marker\": {\"colorbar\": {\"outlinewidth\": 0, \"ticks\": \"\"}}, \"type\": \"scatterternary\"}], \"surface\": [{\"colorbar\": {\"outlinewidth\": 0, \"ticks\": \"\"}, \"colorscale\": [[0.0, \"#0d0887\"], [0.1111111111111111, \"#46039f\"], [0.2222222222222222, \"#7201a8\"], [0.3333333333333333, \"#9c179e\"], [0.4444444444444444, \"#bd3786\"], [0.5555555555555556, \"#d8576b\"], [0.6666666666666666, \"#ed7953\"], [0.7777777777777778, \"#fb9f3a\"], [0.8888888888888888, \"#fdca26\"], [1.0, \"#f0f921\"]], \"type\": \"surface\"}], \"table\": [{\"cells\": {\"fill\": {\"color\": \"#EBF0F8\"}, \"line\": {\"color\": \"white\"}}, \"header\": {\"fill\": {\"color\": \"#C8D4E3\"}, \"line\": {\"color\": \"white\"}}, \"type\": \"table\"}]}, \"layout\": {\"annotationdefaults\": {\"arrowcolor\": \"#2a3f5f\", \"arrowhead\": 0, \"arrowwidth\": 1}, \"coloraxis\": {\"colorbar\": {\"outlinewidth\": 0, \"ticks\": \"\"}}, \"colorscale\": {\"diverging\": [[0, \"#8e0152\"], [0.1, \"#c51b7d\"], [0.2, \"#de77ae\"], [0.3, \"#f1b6da\"], [0.4, \"#fde0ef\"], [0.5, \"#f7f7f7\"], [0.6, \"#e6f5d0\"], [0.7, \"#b8e186\"], [0.8, \"#7fbc41\"], [0.9, \"#4d9221\"], [1, \"#276419\"]], \"sequential\": [[0.0, \"#0d0887\"], [0.1111111111111111, \"#46039f\"], [0.2222222222222222, \"#7201a8\"], [0.3333333333333333, \"#9c179e\"], [0.4444444444444444, \"#bd3786\"], [0.5555555555555556, \"#d8576b\"], [0.6666666666666666, \"#ed7953\"], [0.7777777777777778, \"#fb9f3a\"], [0.8888888888888888, \"#fdca26\"], [1.0, \"#f0f921\"]], \"sequentialminus\": [[0.0, \"#0d0887\"], [0.1111111111111111, \"#46039f\"], [0.2222222222222222, \"#7201a8\"], [0.3333333333333333, \"#9c179e\"], [0.4444444444444444, \"#bd3786\"], [0.5555555555555556, \"#d8576b\"], [0.6666666666666666, \"#ed7953\"], [0.7777777777777778, \"#fb9f3a\"], [0.8888888888888888, \"#fdca26\"], [1.0, \"#f0f921\"]]}, \"colorway\": [\"#636efa\", \"#EF553B\", \"#00cc96\", \"#ab63fa\", \"#FFA15A\", \"#19d3f3\", \"#FF6692\", \"#B6E880\", \"#FF97FF\", \"#FECB52\"], \"font\": {\"color\": \"#2a3f5f\"}, \"geo\": {\"bgcolor\": \"white\", \"lakecolor\": \"white\", \"landcolor\": \"#E5ECF6\", \"showlakes\": true, \"showland\": true, \"subunitcolor\": \"white\"}, \"hoverlabel\": {\"align\": \"left\"}, \"hovermode\": \"closest\", \"mapbox\": {\"style\": \"light\"}, \"paper_bgcolor\": \"white\", \"plot_bgcolor\": \"#E5ECF6\", \"polar\": {\"angularaxis\": {\"gridcolor\": \"white\", \"linecolor\": \"white\", \"ticks\": \"\"}, \"bgcolor\": \"#E5ECF6\", \"radialaxis\": {\"gridcolor\": \"white\", \"linecolor\": \"white\", \"ticks\": \"\"}}, \"scene\": {\"xaxis\": {\"backgroundcolor\": \"#E5ECF6\", \"gridcolor\": \"white\", \"gridwidth\": 2, \"linecolor\": \"white\", \"showbackground\": true, \"ticks\": \"\", \"zerolinecolor\": \"white\"}, \"yaxis\": {\"backgroundcolor\": \"#E5ECF6\", \"gridcolor\": \"white\", \"gridwidth\": 2, \"linecolor\": \"white\", \"showbackground\": true, \"ticks\": \"\", \"zerolinecolor\": \"white\"}, \"zaxis\": {\"backgroundcolor\": \"#E5ECF6\", \"gridcolor\": \"white\", \"gridwidth\": 2, \"linecolor\": \"white\", \"showbackground\": true, \"ticks\": \"\", \"zerolinecolor\": \"white\"}}, \"shapedefaults\": {\"line\": {\"color\": \"#2a3f5f\"}}, \"ternary\": {\"aaxis\": {\"gridcolor\": \"white\", \"linecolor\": \"white\", \"ticks\": \"\"}, \"baxis\": {\"gridcolor\": \"white\", \"linecolor\": \"white\", \"ticks\": \"\"}, \"bgcolor\": \"#E5ECF6\", \"caxis\": {\"gridcolor\": \"white\", \"linecolor\": \"white\", \"ticks\": \"\"}}, \"title\": {\"x\": 0.05}, \"xaxis\": {\"automargin\": true, \"gridcolor\": \"white\", \"linecolor\": \"white\", \"ticks\": \"\", \"title\": {\"standoff\": 15}, \"zerolinecolor\": \"white\", \"zerolinewidth\": 2}, \"yaxis\": {\"automargin\": true, \"gridcolor\": \"white\", \"linecolor\": \"white\", \"ticks\": \"\", \"title\": {\"standoff\": 15}, \"zerolinecolor\": \"white\", \"zerolinewidth\": 2}}}, \"xaxis\": {\"anchor\": \"y\", \"domain\": [0.0, 0.2125], \"title\": {\"text\": \"Quantity Bought Per Customer\"}}, \"xaxis2\": {\"anchor\": \"y2\", \"domain\": [0.2625, 0.475], \"title\": {\"text\": \"Number Of Purchases Per Customer\"}}, \"xaxis3\": {\"anchor\": \"y3\", \"domain\": [0.525, 0.7375], \"title\": {\"text\": \"Mean Total Amount Spent Per Customer (\\u00a3)\"}}, \"xaxis4\": {\"anchor\": \"y4\", \"domain\": [0.7875, 1.0], \"title\": {\"text\": \"Days Since Last Purchase\"}}, \"yaxis\": {\"anchor\": \"x\", \"domain\": [0.0, 1.0]}, \"yaxis2\": {\"anchor\": \"x2\", \"domain\": [0.0, 1.0]}, \"yaxis3\": {\"anchor\": \"x3\", \"domain\": [0.0, 1.0]}, \"yaxis4\": {\"anchor\": \"x4\", \"domain\": [0.0, 1.0]}},\n",
              "                        {\"responsive\": true}\n",
              "                    ).then(function(){\n",
              "                            \n",
              "var gd = document.getElementById('41057dc1-db9f-4bd4-a0cc-36c6fc4f04f7');\n",
              "var x = new MutationObserver(function (mutations, observer) {{\n",
              "        var display = window.getComputedStyle(gd).display;\n",
              "        if (!display || display === 'none') {{\n",
              "            console.log([gd, 'removed!']);\n",
              "            Plotly.purge(gd);\n",
              "            observer.disconnect();\n",
              "        }}\n",
              "}});\n",
              "\n",
              "// Listen for the removal of the full notebook cells\n",
              "var notebookContainer = gd.closest('#notebook-container');\n",
              "if (notebookContainer) {{\n",
              "    x.observe(notebookContainer, {childList: true});\n",
              "}}\n",
              "\n",
              "// Listen for the clearing of the current output cell\n",
              "var outputEl = gd.closest('.output');\n",
              "if (outputEl) {{\n",
              "    x.observe(outputEl, {childList: true});\n",
              "}}\n",
              "\n",
              "                        })\n",
              "                };\n",
              "                \n",
              "            </script>\n",
              "        </div>\n",
              "</body>\n",
              "</html>"
            ]
          },
          "metadata": {
            "tags": []
          }
        }
      ]
    },
    {
      "cell_type": "code",
      "metadata": {
        "id": "mlVxb6Mdr9cU",
        "colab": {
          "base_uri": "https://localhost:8080/",
          "height": 424
        },
        "outputId": "3897ff41-29d7-473d-a424-2f829fd2c9b2"
      },
      "source": [
        "pd.DataFrame(df['Description'].value_counts()).reset_index().rename(columns={\"index\": \"StockCode\", \"Description\": \"Count\"})"
      ],
      "execution_count": 119,
      "outputs": [
        {
          "output_type": "execute_result",
          "data": {
            "text/html": [
              "<div>\n",
              "<style scoped>\n",
              "    .dataframe tbody tr th:only-of-type {\n",
              "        vertical-align: middle;\n",
              "    }\n",
              "\n",
              "    .dataframe tbody tr th {\n",
              "        vertical-align: top;\n",
              "    }\n",
              "\n",
              "    .dataframe thead th {\n",
              "        text-align: right;\n",
              "    }\n",
              "</style>\n",
              "<table border=\"1\" class=\"dataframe\">\n",
              "  <thead>\n",
              "    <tr style=\"text-align: right;\">\n",
              "      <th></th>\n",
              "      <th>StockCode</th>\n",
              "      <th>Count</th>\n",
              "    </tr>\n",
              "  </thead>\n",
              "  <tbody>\n",
              "    <tr>\n",
              "      <th>0</th>\n",
              "      <td>WHITE HANGING HEART T-LIGHT HOLDER</td>\n",
              "      <td>2028</td>\n",
              "    </tr>\n",
              "    <tr>\n",
              "      <th>1</th>\n",
              "      <td>REGENCY CAKESTAND 3 TIER</td>\n",
              "      <td>1723</td>\n",
              "    </tr>\n",
              "    <tr>\n",
              "      <th>2</th>\n",
              "      <td>JUMBO BAG RED RETROSPOT</td>\n",
              "      <td>1618</td>\n",
              "    </tr>\n",
              "    <tr>\n",
              "      <th>3</th>\n",
              "      <td>ASSORTED COLOUR BIRD ORNAMENT</td>\n",
              "      <td>1408</td>\n",
              "    </tr>\n",
              "    <tr>\n",
              "      <th>4</th>\n",
              "      <td>PARTY BUNTING</td>\n",
              "      <td>1396</td>\n",
              "    </tr>\n",
              "    <tr>\n",
              "      <th>...</th>\n",
              "      <td>...</td>\n",
              "      <td>...</td>\n",
              "    </tr>\n",
              "    <tr>\n",
              "      <th>3872</th>\n",
              "      <td>DOORKNOB CERAMIC IVORY</td>\n",
              "      <td>1</td>\n",
              "    </tr>\n",
              "    <tr>\n",
              "      <th>3873</th>\n",
              "      <td>ROBIN CHRISTMAS CARD</td>\n",
              "      <td>1</td>\n",
              "    </tr>\n",
              "    <tr>\n",
              "      <th>3874</th>\n",
              "      <td>MUMMY MOUSE RED GINGHAM RIBBON</td>\n",
              "      <td>1</td>\n",
              "    </tr>\n",
              "    <tr>\n",
              "      <th>3875</th>\n",
              "      <td>HAPPY BIRTHDAY CARD TEDDY/CAKE</td>\n",
              "      <td>1</td>\n",
              "    </tr>\n",
              "    <tr>\n",
              "      <th>3876</th>\n",
              "      <td>BLUE PAINTED KASHMIRI CHAIR</td>\n",
              "      <td>1</td>\n",
              "    </tr>\n",
              "  </tbody>\n",
              "</table>\n",
              "<p>3877 rows × 2 columns</p>\n",
              "</div>"
            ],
            "text/plain": [
              "                               StockCode  Count\n",
              "0     WHITE HANGING HEART T-LIGHT HOLDER   2028\n",
              "1               REGENCY CAKESTAND 3 TIER   1723\n",
              "2                JUMBO BAG RED RETROSPOT   1618\n",
              "3          ASSORTED COLOUR BIRD ORNAMENT   1408\n",
              "4                          PARTY BUNTING   1396\n",
              "...                                  ...    ...\n",
              "3872              DOORKNOB CERAMIC IVORY      1\n",
              "3873                ROBIN CHRISTMAS CARD      1\n",
              "3874      MUMMY MOUSE RED GINGHAM RIBBON      1\n",
              "3875      HAPPY BIRTHDAY CARD TEDDY/CAKE      1\n",
              "3876         BLUE PAINTED KASHMIRI CHAIR      1\n",
              "\n",
              "[3877 rows x 2 columns]"
            ]
          },
          "metadata": {
            "tags": []
          },
          "execution_count": 119
        }
      ]
    },
    {
      "cell_type": "code",
      "metadata": {
        "id": "RIA8uYAPOs4p",
        "colab": {
          "base_uri": "https://localhost:8080/",
          "height": 455
        },
        "outputId": "8c3f39a2-a33d-4247-cde9-d382cc9678a1"
      },
      "source": [
        "purchases = df[['CustomerID', 'StockCode', 'Quantity']]\n",
        "\n",
        "table = pd.pivot_table(purchases, values='Quantity', index=['CustomerID', 'StockCode'])\n",
        "table"
      ],
      "execution_count": 120,
      "outputs": [
        {
          "output_type": "execute_result",
          "data": {
            "text/html": [
              "<div>\n",
              "<style scoped>\n",
              "    .dataframe tbody tr th:only-of-type {\n",
              "        vertical-align: middle;\n",
              "    }\n",
              "\n",
              "    .dataframe tbody tr th {\n",
              "        vertical-align: top;\n",
              "    }\n",
              "\n",
              "    .dataframe thead th {\n",
              "        text-align: right;\n",
              "    }\n",
              "</style>\n",
              "<table border=\"1\" class=\"dataframe\">\n",
              "  <thead>\n",
              "    <tr style=\"text-align: right;\">\n",
              "      <th></th>\n",
              "      <th></th>\n",
              "      <th>Quantity</th>\n",
              "    </tr>\n",
              "    <tr>\n",
              "      <th>CustomerID</th>\n",
              "      <th>StockCode</th>\n",
              "      <th></th>\n",
              "    </tr>\n",
              "  </thead>\n",
              "  <tbody>\n",
              "    <tr>\n",
              "      <th>12346.0</th>\n",
              "      <th>23166</th>\n",
              "      <td>74215.0</td>\n",
              "    </tr>\n",
              "    <tr>\n",
              "      <th rowspan=\"4\" valign=\"top\">12347.0</th>\n",
              "      <th>16008</th>\n",
              "      <td>24.0</td>\n",
              "    </tr>\n",
              "    <tr>\n",
              "      <th>17021</th>\n",
              "      <td>36.0</td>\n",
              "    </tr>\n",
              "    <tr>\n",
              "      <th>20665</th>\n",
              "      <td>6.0</td>\n",
              "    </tr>\n",
              "    <tr>\n",
              "      <th>20719</th>\n",
              "      <td>10.0</td>\n",
              "    </tr>\n",
              "    <tr>\n",
              "      <th>...</th>\n",
              "      <th>...</th>\n",
              "      <td>...</td>\n",
              "    </tr>\n",
              "    <tr>\n",
              "      <th rowspan=\"5\" valign=\"top\">18287.0</th>\n",
              "      <th>84920</th>\n",
              "      <td>4.0</td>\n",
              "    </tr>\n",
              "    <tr>\n",
              "      <th>85039A</th>\n",
              "      <td>48.0</td>\n",
              "    </tr>\n",
              "    <tr>\n",
              "      <th>85039B</th>\n",
              "      <td>40.0</td>\n",
              "    </tr>\n",
              "    <tr>\n",
              "      <th>85040A</th>\n",
              "      <td>24.0</td>\n",
              "    </tr>\n",
              "    <tr>\n",
              "      <th>85173</th>\n",
              "      <td>48.0</td>\n",
              "    </tr>\n",
              "  </tbody>\n",
              "</table>\n",
              "<p>266792 rows × 1 columns</p>\n",
              "</div>"
            ],
            "text/plain": [
              "                      Quantity\n",
              "CustomerID StockCode          \n",
              "12346.0    23166       74215.0\n",
              "12347.0    16008          24.0\n",
              "           17021          36.0\n",
              "           20665           6.0\n",
              "           20719          10.0\n",
              "...                        ...\n",
              "18287.0    84920           4.0\n",
              "           85039A         48.0\n",
              "           85039B         40.0\n",
              "           85040A         24.0\n",
              "           85173          48.0\n",
              "\n",
              "[266792 rows x 1 columns]"
            ]
          },
          "metadata": {
            "tags": []
          },
          "execution_count": 120
        }
      ]
    },
    {
      "cell_type": "code",
      "metadata": {
        "colab": {
          "base_uri": "https://localhost:8080/",
          "height": 424
        },
        "id": "5c9L_kYyCG9e",
        "outputId": "89234158-e943-4272-c25c-e2c507c6ef47"
      },
      "source": [
        "#Most purchased item per customer\n",
        "\n",
        "ix = purchases.groupby('CustomerID')['Quantity'].idxmax()\n",
        "purchases = purchases.loc[ix, [\"CustomerID\", \"StockCode\"]]\n",
        "purchases_final.rename({'StockCode':'MostBoughtItem'})\n",
        "purchases_final"
      ],
      "execution_count": 121,
      "outputs": [
        {
          "output_type": "execute_result",
          "data": {
            "text/html": [
              "<div>\n",
              "<style scoped>\n",
              "    .dataframe tbody tr th:only-of-type {\n",
              "        vertical-align: middle;\n",
              "    }\n",
              "\n",
              "    .dataframe tbody tr th {\n",
              "        vertical-align: top;\n",
              "    }\n",
              "\n",
              "    .dataframe thead th {\n",
              "        text-align: right;\n",
              "    }\n",
              "</style>\n",
              "<table border=\"1\" class=\"dataframe\">\n",
              "  <thead>\n",
              "    <tr style=\"text-align: right;\">\n",
              "      <th></th>\n",
              "      <th>CustomerID</th>\n",
              "      <th>StockCode</th>\n",
              "    </tr>\n",
              "  </thead>\n",
              "  <tbody>\n",
              "    <tr>\n",
              "      <th>61619</th>\n",
              "      <td>12346.0</td>\n",
              "      <td>23166</td>\n",
              "    </tr>\n",
              "    <tr>\n",
              "      <th>148290</th>\n",
              "      <td>12347.0</td>\n",
              "      <td>23076</td>\n",
              "    </tr>\n",
              "    <tr>\n",
              "      <th>34090</th>\n",
              "      <td>12348.0</td>\n",
              "      <td>21981</td>\n",
              "    </tr>\n",
              "    <tr>\n",
              "      <th>485568</th>\n",
              "      <td>12349.0</td>\n",
              "      <td>21231</td>\n",
              "    </tr>\n",
              "    <tr>\n",
              "      <th>80327</th>\n",
              "      <td>12350.0</td>\n",
              "      <td>22348</td>\n",
              "    </tr>\n",
              "    <tr>\n",
              "      <th>...</th>\n",
              "      <td>...</td>\n",
              "      <td>...</td>\n",
              "    </tr>\n",
              "    <tr>\n",
              "      <th>111054</th>\n",
              "      <td>18280.0</td>\n",
              "      <td>22084</td>\n",
              "    </tr>\n",
              "    <tr>\n",
              "      <th>222954</th>\n",
              "      <td>18281.0</td>\n",
              "      <td>22037</td>\n",
              "    </tr>\n",
              "    <tr>\n",
              "      <th>291855</th>\n",
              "      <td>18282.0</td>\n",
              "      <td>23187</td>\n",
              "    </tr>\n",
              "    <tr>\n",
              "      <th>263660</th>\n",
              "      <td>18283.0</td>\n",
              "      <td>23077</td>\n",
              "    </tr>\n",
              "    <tr>\n",
              "      <th>198741</th>\n",
              "      <td>18287.0</td>\n",
              "      <td>85039B</td>\n",
              "    </tr>\n",
              "  </tbody>\n",
              "</table>\n",
              "<p>4338 rows × 2 columns</p>\n",
              "</div>"
            ],
            "text/plain": [
              "        CustomerID StockCode\n",
              "61619      12346.0     23166\n",
              "148290     12347.0     23076\n",
              "34090      12348.0     21981\n",
              "485568     12349.0     21231\n",
              "80327      12350.0     22348\n",
              "...            ...       ...\n",
              "111054     18280.0     22084\n",
              "222954     18281.0     22037\n",
              "291855     18282.0     23187\n",
              "263660     18283.0     23077\n",
              "198741     18287.0    85039B\n",
              "\n",
              "[4338 rows x 2 columns]"
            ]
          },
          "metadata": {
            "tags": []
          },
          "execution_count": 121
        }
      ]
    },
    {
      "cell_type": "code",
      "metadata": {
        "id": "di4Y12lJlTfc"
      },
      "source": [
        "#Saving customer data to csv in drive\n",
        "\n",
        "#customer_df.to_csv('/content/drive/MyDrive/online_retail_data_analysis/customer_df', index=False, encoding='utf-8-sig')"
      ],
      "execution_count": 126,
      "outputs": []
    },
    {
      "cell_type": "code",
      "metadata": {
        "id": "iQ0TPmn7Zggw"
      },
      "source": [
        "#What are the customers coming back to buy (most common items in each transaction per customer)?"
      ],
      "execution_count": null,
      "outputs": []
    }
  ]
}